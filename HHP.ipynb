{
 "cells": [
  {
   "cell_type": "markdown",
   "metadata": {},
   "source": [
    "# HHP Solution\n",
    "Avadhoot Agasti (aagasti@iu.edu)\n",
    "\n",
    "## Introduction\n",
    "The Heritage Health Prize (HHP) was a data science challenge sponsored by The Heritage Provider Network on Kaggle. This project is about predicting future hospital stays using past information. The project is part of the Applied Machine Learning course syllabus for MS in Data Science Program at Indiana University. \n",
    "\n",
    "## Team\n",
    "Avadhoot Agasti (aagasti@iu.edu)\n",
    "\n",
    "## Project Phases\n",
    "The project is divided in 4 projects as per the course expectation \n",
    "\n",
    "Phase 1: Grab data, EDA, metrics, baseline models (baseline pipeline PLEASE) and a brief report\n",
    "\n",
    "Phase 2: [due Thursday, April 12]\n",
    "Feature engineering + Hyperparameter tuning; in pipeline form\n",
    "\n",
    "Phase 3: Week 14: [due Thursday, April 19]\n",
    "Success/failure analysis,\n",
    "Another round of Feature engineering + Hyperparameter tuning; Ensemble?\n",
    "\n",
    "Phase 4: Week 15: [due Thursday, April 26]\n",
    "Maybe another round of Feature engineering + Hyperparameter tuning;\n",
    "Report and short video presentation (2 minute video presentation; 300 words)\n",
    "\n",
    "## Softwares Required\n",
    "The jupyter notebook uses Anaconda Version - conda 4.5.0. Apart from standard data science packages like numpy, scikit-learn and matplotlib, we use pandasql which supports SQL on top of dataframe. It can be installed using\n",
    "\n",
    "        conda install pandasql \n",
    "\n",
    "## Data\n",
    "The data is downloaded from course dropbox location https://www.dropbox.com/sh/upt0j2q44ncrn1m/AADp4D50rGM61hpaSThZnqF3a/HHP_release3?dl=0\n",
    "\n",
    "## Acknowledgements\n",
    "We thank Prof. James Shanahan and TAs (Rohil Bansal and Qing Ke) for all the support and guidance. \n",
    "\n"
   ]
  },
  {
   "cell_type": "markdown",
   "metadata": {},
   "source": [
    "# Phase 1\n",
    "The phase one of the project includes below steps:\n",
    "\n",
    "Grabbing and Loading the data (Section 2.1)\n",
    "\n",
    "EDA (Exploratory Data Analysis) (Section 2.2)\n",
    "\n",
    "Defining Error Metrics (Section 2.3 and 2.4)\n",
    "\n",
    "Creating baseline models (Section 2.4)\n",
    "\n",
    "## Load Data"
   ]
  },
  {
   "cell_type": "code",
   "execution_count": 1,
   "metadata": {
    "collapsed": false
   },
   "outputs": [],
   "source": [
    "import os\n",
    "import sys\n",
    "import pandas as pd\n",
    "import matplotlib.pyplot as plt\n",
    "%matplotlib inline\n",
    "from pandasql import sqldf\n",
    "pysqldf = lambda q: sqldf(q, globals())\n",
    "import numpy as np\n",
    "from pandas.tools.plotting import scatter_matrix\n",
    "from sklearn.model_selection import train_test_split\n",
    "from sklearn.metrics import mean_squared_error\n",
    "from sklearn.base import BaseEstimator, TransformerMixin\n",
    "from sklearn.pipeline import Pipeline\n",
    "from sklearn.preprocessing import StandardScaler\n",
    "from sklearn.preprocessing import Imputer\n",
    "from sklearn.linear_model import LinearRegression\n",
    "from sklearn.linear_model import LogisticRegression\n",
    "from sklearn.naive_bayes import GaussianNB\n",
    "from sklearn.svm import SVR\n",
    "from sklearn.ensemble import RandomForestRegressor\n",
    "\n",
    "from sklearn.model_selection import cross_val_score\n",
    "from sklearn.model_selection import KFold"
   ]
  },
  {
   "cell_type": "code",
   "execution_count": 2,
   "metadata": {
    "collapsed": true
   },
   "outputs": [],
   "source": [
    "#Turn this flag to False to run all the tasks including hyper-parameter tuning\n",
    "__avoid_run_heavy_tasks__ = True\n",
    "__avoid_run_svm__ = True \n",
    "#SVM execution is taking too much time and from past runs we know that RF gives better result"
   ]
  },
  {
   "cell_type": "code",
   "execution_count": 3,
   "metadata": {
    "collapsed": true
   },
   "outputs": [],
   "source": [
    "data_path = os.path.join('source_data/')\n",
    "claims_file = data_path + \"Claims.csv\"\n",
    "members_file = data_path + \"Members.csv\"\n",
    "drug_file = data_path + \"DrugCount.csv\"\n",
    "lab_file = data_path + \"LabCount.csv\"\n",
    "dihy2_file = data_path + \"DaysInHospital_Y2.csv\"\n",
    "dihy3_file = data_path + \"DaysInHospital_Y3.csv\""
   ]
  },
  {
   "cell_type": "code",
   "execution_count": 4,
   "metadata": {
    "collapsed": false
   },
   "outputs": [],
   "source": [
    "claims_df = pd.read_csv(claims_file)\n",
    "members_df = pd.read_csv(members_file)\n",
    "drug_df = pd.read_csv(drug_file)\n",
    "lab_df = pd.read_csv(lab_file)\n",
    "dihy2_df = pd.read_csv(dihy2_file)\n",
    "dihy3_df = pd.read_csv(dihy3_file)"
   ]
  },
  {
   "cell_type": "markdown",
   "metadata": {},
   "source": [
    "## EDA1: Explore Schema and Basic Data Properties"
   ]
  },
  {
   "cell_type": "markdown",
   "metadata": {},
   "source": [
    "### Members Data"
   ]
  },
  {
   "cell_type": "code",
   "execution_count": 5,
   "metadata": {
    "collapsed": false
   },
   "outputs": [
    {
     "name": "stdout",
     "output_type": "stream",
     "text": [
      "<class 'pandas.core.frame.DataFrame'>\n",
      "RangeIndex: 113000 entries, 0 to 112999\n",
      "Data columns (total 3 columns):\n",
      "MemberID           113000 non-null int64\n",
      "AgeAtFirstClaim    107247 non-null object\n",
      "Sex                95448 non-null object\n",
      "dtypes: int64(1), object(2)\n",
      "memory usage: 2.6+ MB\n"
     ]
    }
   ],
   "source": [
    "members_df.info()"
   ]
  },
  {
   "cell_type": "code",
   "execution_count": 6,
   "metadata": {
    "collapsed": false
   },
   "outputs": [
    {
     "data": {
      "text/html": [
       "<div>\n",
       "<style scoped>\n",
       "    .dataframe tbody tr th:only-of-type {\n",
       "        vertical-align: middle;\n",
       "    }\n",
       "\n",
       "    .dataframe tbody tr th {\n",
       "        vertical-align: top;\n",
       "    }\n",
       "\n",
       "    .dataframe thead th {\n",
       "        text-align: right;\n",
       "    }\n",
       "</style>\n",
       "<table border=\"1\" class=\"dataframe\">\n",
       "  <thead>\n",
       "    <tr style=\"text-align: right;\">\n",
       "      <th></th>\n",
       "      <th>MemberID</th>\n",
       "      <th>AgeAtFirstClaim</th>\n",
       "      <th>Sex</th>\n",
       "    </tr>\n",
       "  </thead>\n",
       "  <tbody>\n",
       "    <tr>\n",
       "      <th>0</th>\n",
       "      <td>14723353</td>\n",
       "      <td>70-79</td>\n",
       "      <td>M</td>\n",
       "    </tr>\n",
       "    <tr>\n",
       "      <th>1</th>\n",
       "      <td>75706636</td>\n",
       "      <td>70-79</td>\n",
       "      <td>M</td>\n",
       "    </tr>\n",
       "  </tbody>\n",
       "</table>\n",
       "</div>"
      ],
      "text/plain": [
       "   MemberID AgeAtFirstClaim Sex\n",
       "0  14723353           70-79   M\n",
       "1  75706636           70-79   M"
      ]
     },
     "execution_count": 6,
     "metadata": {},
     "output_type": "execute_result"
    }
   ],
   "source": [
    "members_df.head(2)"
   ]
  },
  {
   "cell_type": "code",
   "execution_count": 7,
   "metadata": {
    "collapsed": false
   },
   "outputs": [
    {
     "data": {
      "text/html": [
       "<div>\n",
       "<style scoped>\n",
       "    .dataframe tbody tr th:only-of-type {\n",
       "        vertical-align: middle;\n",
       "    }\n",
       "\n",
       "    .dataframe tbody tr th {\n",
       "        vertical-align: top;\n",
       "    }\n",
       "\n",
       "    .dataframe thead th {\n",
       "        text-align: right;\n",
       "    }\n",
       "</style>\n",
       "<table border=\"1\" class=\"dataframe\">\n",
       "  <thead>\n",
       "    <tr style=\"text-align: right;\">\n",
       "      <th></th>\n",
       "      <th>count(*)</th>\n",
       "      <th>AgeAtFirstClaim</th>\n",
       "    </tr>\n",
       "  </thead>\n",
       "  <tbody>\n",
       "    <tr>\n",
       "      <th>0</th>\n",
       "      <td>5753</td>\n",
       "      <td>None</td>\n",
       "    </tr>\n",
       "    <tr>\n",
       "      <th>1</th>\n",
       "      <td>10791</td>\n",
       "      <td>0-9</td>\n",
       "    </tr>\n",
       "    <tr>\n",
       "      <th>2</th>\n",
       "      <td>11319</td>\n",
       "      <td>10-19</td>\n",
       "    </tr>\n",
       "    <tr>\n",
       "      <th>3</th>\n",
       "      <td>8505</td>\n",
       "      <td>20-29</td>\n",
       "    </tr>\n",
       "    <tr>\n",
       "      <th>4</th>\n",
       "      <td>12435</td>\n",
       "      <td>30-39</td>\n",
       "    </tr>\n",
       "    <tr>\n",
       "      <th>5</th>\n",
       "      <td>16111</td>\n",
       "      <td>40-49</td>\n",
       "    </tr>\n",
       "    <tr>\n",
       "      <th>6</th>\n",
       "      <td>13329</td>\n",
       "      <td>50-59</td>\n",
       "    </tr>\n",
       "    <tr>\n",
       "      <th>7</th>\n",
       "      <td>12622</td>\n",
       "      <td>60-69</td>\n",
       "    </tr>\n",
       "    <tr>\n",
       "      <th>8</th>\n",
       "      <td>14514</td>\n",
       "      <td>70-79</td>\n",
       "    </tr>\n",
       "    <tr>\n",
       "      <th>9</th>\n",
       "      <td>7621</td>\n",
       "      <td>80+</td>\n",
       "    </tr>\n",
       "  </tbody>\n",
       "</table>\n",
       "</div>"
      ],
      "text/plain": [
       "   count(*) AgeAtFirstClaim\n",
       "0      5753            None\n",
       "1     10791             0-9\n",
       "2     11319           10-19\n",
       "3      8505           20-29\n",
       "4     12435           30-39\n",
       "5     16111           40-49\n",
       "6     13329           50-59\n",
       "7     12622           60-69\n",
       "8     14514           70-79\n",
       "9      7621             80+"
      ]
     },
     "execution_count": 7,
     "metadata": {},
     "output_type": "execute_result"
    }
   ],
   "source": [
    "pysqldf(\"SELECT count(*), AgeAtFirstClaim FROM members_df group by AgeAtFirstClaim;\")"
   ]
  },
  {
   "cell_type": "markdown",
   "metadata": {},
   "source": [
    "### Claims Data"
   ]
  },
  {
   "cell_type": "code",
   "execution_count": 8,
   "metadata": {
    "collapsed": false
   },
   "outputs": [
    {
     "name": "stdout",
     "output_type": "stream",
     "text": [
      "<class 'pandas.core.frame.DataFrame'>\n",
      "RangeIndex: 2668990 entries, 0 to 2668989\n",
      "Data columns (total 14 columns):\n",
      "MemberID                 int64\n",
      "ProviderID               float64\n",
      "Vendor                   float64\n",
      "PCP                      float64\n",
      "Year                     object\n",
      "Specialty                object\n",
      "PlaceSvc                 object\n",
      "PayDelay                 object\n",
      "LengthOfStay             object\n",
      "DSFS                     object\n",
      "PrimaryConditionGroup    object\n",
      "CharlsonIndex            object\n",
      "ProcedureGroup           object\n",
      "SupLOS                   int64\n",
      "dtypes: float64(3), int64(2), object(9)\n",
      "memory usage: 285.1+ MB\n"
     ]
    }
   ],
   "source": [
    "claims_df.info()"
   ]
  },
  {
   "cell_type": "code",
   "execution_count": 9,
   "metadata": {
    "collapsed": false
   },
   "outputs": [
    {
     "data": {
      "text/html": [
       "<div>\n",
       "<style scoped>\n",
       "    .dataframe tbody tr th:only-of-type {\n",
       "        vertical-align: middle;\n",
       "    }\n",
       "\n",
       "    .dataframe tbody tr th {\n",
       "        vertical-align: top;\n",
       "    }\n",
       "\n",
       "    .dataframe thead th {\n",
       "        text-align: right;\n",
       "    }\n",
       "</style>\n",
       "<table border=\"1\" class=\"dataframe\">\n",
       "  <thead>\n",
       "    <tr style=\"text-align: right;\">\n",
       "      <th></th>\n",
       "      <th>MemberID</th>\n",
       "      <th>ProviderID</th>\n",
       "      <th>Vendor</th>\n",
       "      <th>PCP</th>\n",
       "      <th>Year</th>\n",
       "      <th>Specialty</th>\n",
       "      <th>PlaceSvc</th>\n",
       "      <th>PayDelay</th>\n",
       "      <th>LengthOfStay</th>\n",
       "      <th>DSFS</th>\n",
       "      <th>PrimaryConditionGroup</th>\n",
       "      <th>CharlsonIndex</th>\n",
       "      <th>ProcedureGroup</th>\n",
       "      <th>SupLOS</th>\n",
       "    </tr>\n",
       "  </thead>\n",
       "  <tbody>\n",
       "    <tr>\n",
       "      <th>0</th>\n",
       "      <td>42286978</td>\n",
       "      <td>8013252.0</td>\n",
       "      <td>172193.0</td>\n",
       "      <td>37796.0</td>\n",
       "      <td>Y1</td>\n",
       "      <td>Surgery</td>\n",
       "      <td>Office</td>\n",
       "      <td>28</td>\n",
       "      <td>NaN</td>\n",
       "      <td>8- 9 months</td>\n",
       "      <td>NEUMENT</td>\n",
       "      <td>0</td>\n",
       "      <td>MED</td>\n",
       "      <td>0</td>\n",
       "    </tr>\n",
       "    <tr>\n",
       "      <th>1</th>\n",
       "      <td>97903248</td>\n",
       "      <td>3316066.0</td>\n",
       "      <td>726296.0</td>\n",
       "      <td>5300.0</td>\n",
       "      <td>Y3</td>\n",
       "      <td>Internal</td>\n",
       "      <td>Office</td>\n",
       "      <td>50</td>\n",
       "      <td>NaN</td>\n",
       "      <td>7- 8 months</td>\n",
       "      <td>NEUMENT</td>\n",
       "      <td>1-2</td>\n",
       "      <td>EM</td>\n",
       "      <td>0</td>\n",
       "    </tr>\n",
       "    <tr>\n",
       "      <th>2</th>\n",
       "      <td>2759427</td>\n",
       "      <td>2997752.0</td>\n",
       "      <td>140343.0</td>\n",
       "      <td>91972.0</td>\n",
       "      <td>Y3</td>\n",
       "      <td>Internal</td>\n",
       "      <td>Office</td>\n",
       "      <td>14</td>\n",
       "      <td>NaN</td>\n",
       "      <td>0- 1 month</td>\n",
       "      <td>METAB3</td>\n",
       "      <td>0</td>\n",
       "      <td>EM</td>\n",
       "      <td>0</td>\n",
       "    </tr>\n",
       "    <tr>\n",
       "      <th>3</th>\n",
       "      <td>73570559</td>\n",
       "      <td>7053364.0</td>\n",
       "      <td>240043.0</td>\n",
       "      <td>70119.0</td>\n",
       "      <td>Y3</td>\n",
       "      <td>Laboratory</td>\n",
       "      <td>Independent Lab</td>\n",
       "      <td>24</td>\n",
       "      <td>NaN</td>\n",
       "      <td>5- 6 months</td>\n",
       "      <td>METAB3</td>\n",
       "      <td>1-2</td>\n",
       "      <td>SCS</td>\n",
       "      <td>0</td>\n",
       "    </tr>\n",
       "    <tr>\n",
       "      <th>4</th>\n",
       "      <td>11837054</td>\n",
       "      <td>7557061.0</td>\n",
       "      <td>496247.0</td>\n",
       "      <td>68968.0</td>\n",
       "      <td>Y2</td>\n",
       "      <td>Surgery</td>\n",
       "      <td>Outpatient Hospital</td>\n",
       "      <td>27</td>\n",
       "      <td>NaN</td>\n",
       "      <td>4- 5 months</td>\n",
       "      <td>FXDISLC</td>\n",
       "      <td>1-2</td>\n",
       "      <td>EM</td>\n",
       "      <td>0</td>\n",
       "    </tr>\n",
       "  </tbody>\n",
       "</table>\n",
       "</div>"
      ],
      "text/plain": [
       "   MemberID  ProviderID    Vendor      PCP Year   Specialty  \\\n",
       "0  42286978   8013252.0  172193.0  37796.0   Y1     Surgery   \n",
       "1  97903248   3316066.0  726296.0   5300.0   Y3    Internal   \n",
       "2   2759427   2997752.0  140343.0  91972.0   Y3    Internal   \n",
       "3  73570559   7053364.0  240043.0  70119.0   Y3  Laboratory   \n",
       "4  11837054   7557061.0  496247.0  68968.0   Y2     Surgery   \n",
       "\n",
       "              PlaceSvc PayDelay LengthOfStay         DSFS  \\\n",
       "0               Office       28          NaN  8- 9 months   \n",
       "1               Office       50          NaN  7- 8 months   \n",
       "2               Office       14          NaN   0- 1 month   \n",
       "3      Independent Lab       24          NaN  5- 6 months   \n",
       "4  Outpatient Hospital       27          NaN  4- 5 months   \n",
       "\n",
       "  PrimaryConditionGroup CharlsonIndex ProcedureGroup  SupLOS  \n",
       "0               NEUMENT             0            MED       0  \n",
       "1               NEUMENT           1-2             EM       0  \n",
       "2                METAB3             0             EM       0  \n",
       "3                METAB3           1-2            SCS       0  \n",
       "4               FXDISLC           1-2             EM       0  "
      ]
     },
     "execution_count": 9,
     "metadata": {},
     "output_type": "execute_result"
    }
   ],
   "source": [
    "claims_df.head(5)"
   ]
  },
  {
   "cell_type": "code",
   "execution_count": 10,
   "metadata": {
    "collapsed": false
   },
   "outputs": [
    {
     "data": {
      "text/plain": [
       "MemberID                 2668990\n",
       "ProviderID               2652726\n",
       "Vendor                   2644134\n",
       "PCP                      2661498\n",
       "Year                     2668990\n",
       "Specialty                2660585\n",
       "PlaceSvc                 2661358\n",
       "PayDelay                 2668990\n",
       "LengthOfStay               71598\n",
       "DSFS                     2616220\n",
       "PrimaryConditionGroup    2657580\n",
       "CharlsonIndex            2668990\n",
       "ProcedureGroup           2665315\n",
       "SupLOS                   2668990\n",
       "dtype: int64"
      ]
     },
     "execution_count": 10,
     "metadata": {},
     "output_type": "execute_result"
    }
   ],
   "source": [
    "claims_df.count(axis=0)"
   ]
  },
  {
   "cell_type": "markdown",
   "metadata": {},
   "source": [
    "### Drug Count Data"
   ]
  },
  {
   "cell_type": "code",
   "execution_count": 11,
   "metadata": {
    "collapsed": false
   },
   "outputs": [
    {
     "name": "stdout",
     "output_type": "stream",
     "text": [
      "<class 'pandas.core.frame.DataFrame'>\n",
      "RangeIndex: 818241 entries, 0 to 818240\n",
      "Data columns (total 4 columns):\n",
      "MemberID     818241 non-null int64\n",
      "Year         818241 non-null object\n",
      "DSFS         818241 non-null object\n",
      "DrugCount    818241 non-null object\n",
      "dtypes: int64(1), object(3)\n",
      "memory usage: 25.0+ MB\n"
     ]
    }
   ],
   "source": [
    "drug_df.info()"
   ]
  },
  {
   "cell_type": "code",
   "execution_count": 12,
   "metadata": {
    "collapsed": false
   },
   "outputs": [
    {
     "data": {
      "text/html": [
       "<div>\n",
       "<style scoped>\n",
       "    .dataframe tbody tr th:only-of-type {\n",
       "        vertical-align: middle;\n",
       "    }\n",
       "\n",
       "    .dataframe tbody tr th {\n",
       "        vertical-align: top;\n",
       "    }\n",
       "\n",
       "    .dataframe thead th {\n",
       "        text-align: right;\n",
       "    }\n",
       "</style>\n",
       "<table border=\"1\" class=\"dataframe\">\n",
       "  <thead>\n",
       "    <tr style=\"text-align: right;\">\n",
       "      <th></th>\n",
       "      <th>MemberID</th>\n",
       "      <th>Year</th>\n",
       "      <th>DSFS</th>\n",
       "      <th>DrugCount</th>\n",
       "    </tr>\n",
       "  </thead>\n",
       "  <tbody>\n",
       "    <tr>\n",
       "      <th>0</th>\n",
       "      <td>48925661</td>\n",
       "      <td>Y2</td>\n",
       "      <td>9-10 months</td>\n",
       "      <td>7+</td>\n",
       "    </tr>\n",
       "    <tr>\n",
       "      <th>1</th>\n",
       "      <td>90764620</td>\n",
       "      <td>Y3</td>\n",
       "      <td>8- 9 months</td>\n",
       "      <td>3</td>\n",
       "    </tr>\n",
       "  </tbody>\n",
       "</table>\n",
       "</div>"
      ],
      "text/plain": [
       "   MemberID Year         DSFS DrugCount\n",
       "0  48925661   Y2  9-10 months        7+\n",
       "1  90764620   Y3  8- 9 months         3"
      ]
     },
     "execution_count": 12,
     "metadata": {},
     "output_type": "execute_result"
    }
   ],
   "source": [
    "drug_df.head(2)"
   ]
  },
  {
   "cell_type": "code",
   "execution_count": 13,
   "metadata": {
    "collapsed": false
   },
   "outputs": [
    {
     "data": {
      "text/plain": [
       "MemberID     818241\n",
       "Year         818241\n",
       "DSFS         818241\n",
       "DrugCount    818241\n",
       "dtype: int64"
      ]
     },
     "execution_count": 13,
     "metadata": {},
     "output_type": "execute_result"
    }
   ],
   "source": [
    "drug_df.count(axis=0)"
   ]
  },
  {
   "cell_type": "code",
   "execution_count": 14,
   "metadata": {
    "collapsed": false
   },
   "outputs": [
    {
     "data": {
      "text/html": [
       "<div>\n",
       "<style scoped>\n",
       "    .dataframe tbody tr th:only-of-type {\n",
       "        vertical-align: middle;\n",
       "    }\n",
       "\n",
       "    .dataframe tbody tr th {\n",
       "        vertical-align: top;\n",
       "    }\n",
       "\n",
       "    .dataframe thead th {\n",
       "        text-align: right;\n",
       "    }\n",
       "</style>\n",
       "<table border=\"1\" class=\"dataframe\">\n",
       "  <thead>\n",
       "    <tr style=\"text-align: right;\">\n",
       "      <th></th>\n",
       "      <th>count(distinct MemberID)</th>\n",
       "    </tr>\n",
       "  </thead>\n",
       "  <tbody>\n",
       "    <tr>\n",
       "      <th>0</th>\n",
       "      <td>75998</td>\n",
       "    </tr>\n",
       "  </tbody>\n",
       "</table>\n",
       "</div>"
      ],
      "text/plain": [
       "   count(distinct MemberID)\n",
       "0                     75998"
      ]
     },
     "execution_count": 14,
     "metadata": {},
     "output_type": "execute_result"
    }
   ],
   "source": [
    "pysqldf(\"SELECT count(distinct MemberID) FROM drug_df;\")"
   ]
  },
  {
   "cell_type": "code",
   "execution_count": 15,
   "metadata": {
    "collapsed": false
   },
   "outputs": [
    {
     "data": {
      "text/html": [
       "<div>\n",
       "<style scoped>\n",
       "    .dataframe tbody tr th:only-of-type {\n",
       "        vertical-align: middle;\n",
       "    }\n",
       "\n",
       "    .dataframe tbody tr th {\n",
       "        vertical-align: top;\n",
       "    }\n",
       "\n",
       "    .dataframe thead th {\n",
       "        text-align: right;\n",
       "    }\n",
       "</style>\n",
       "<table border=\"1\" class=\"dataframe\">\n",
       "  <thead>\n",
       "    <tr style=\"text-align: right;\">\n",
       "      <th></th>\n",
       "      <th>DrugRecords</th>\n",
       "      <th>MemberID</th>\n",
       "    </tr>\n",
       "  </thead>\n",
       "  <tbody>\n",
       "    <tr>\n",
       "      <th>0</th>\n",
       "      <td>36</td>\n",
       "      <td>50035</td>\n",
       "    </tr>\n",
       "    <tr>\n",
       "      <th>1</th>\n",
       "      <td>36</td>\n",
       "      <td>572384</td>\n",
       "    </tr>\n",
       "    <tr>\n",
       "      <th>2</th>\n",
       "      <td>36</td>\n",
       "      <td>671629</td>\n",
       "    </tr>\n",
       "    <tr>\n",
       "      <th>3</th>\n",
       "      <td>36</td>\n",
       "      <td>720230</td>\n",
       "    </tr>\n",
       "    <tr>\n",
       "      <th>4</th>\n",
       "      <td>36</td>\n",
       "      <td>951733</td>\n",
       "    </tr>\n",
       "  </tbody>\n",
       "</table>\n",
       "</div>"
      ],
      "text/plain": [
       "   DrugRecords  MemberID\n",
       "0           36     50035\n",
       "1           36    572384\n",
       "2           36    671629\n",
       "3           36    720230\n",
       "4           36    951733"
      ]
     },
     "execution_count": 15,
     "metadata": {},
     "output_type": "execute_result"
    }
   ],
   "source": [
    "pysqldf(\"SELECT count(*) as DrugRecords, MemberID \\\n",
    "        FROM drug_df group by MemberID \\\n",
    "        ORDER BY DrugRecords DESC;\").head(5)"
   ]
  },
  {
   "cell_type": "code",
   "execution_count": 16,
   "metadata": {
    "collapsed": false
   },
   "outputs": [
    {
     "data": {
      "text/html": [
       "<div>\n",
       "<style scoped>\n",
       "    .dataframe tbody tr th:only-of-type {\n",
       "        vertical-align: middle;\n",
       "    }\n",
       "\n",
       "    .dataframe tbody tr th {\n",
       "        vertical-align: top;\n",
       "    }\n",
       "\n",
       "    .dataframe thead th {\n",
       "        text-align: right;\n",
       "    }\n",
       "</style>\n",
       "<table border=\"1\" class=\"dataframe\">\n",
       "  <thead>\n",
       "    <tr style=\"text-align: right;\">\n",
       "      <th></th>\n",
       "      <th>MemberID</th>\n",
       "      <th>Year</th>\n",
       "      <th>DSFS</th>\n",
       "      <th>DrugCount</th>\n",
       "    </tr>\n",
       "  </thead>\n",
       "  <tbody>\n",
       "    <tr>\n",
       "      <th>0</th>\n",
       "      <td>50035</td>\n",
       "      <td>Y1</td>\n",
       "      <td>3- 4 months</td>\n",
       "      <td>3</td>\n",
       "    </tr>\n",
       "    <tr>\n",
       "      <th>1</th>\n",
       "      <td>50035</td>\n",
       "      <td>Y1</td>\n",
       "      <td>4- 5 months</td>\n",
       "      <td>5</td>\n",
       "    </tr>\n",
       "    <tr>\n",
       "      <th>2</th>\n",
       "      <td>50035</td>\n",
       "      <td>Y2</td>\n",
       "      <td>6- 7 months</td>\n",
       "      <td>7+</td>\n",
       "    </tr>\n",
       "    <tr>\n",
       "      <th>3</th>\n",
       "      <td>50035</td>\n",
       "      <td>Y1</td>\n",
       "      <td>0- 1 month</td>\n",
       "      <td>6</td>\n",
       "    </tr>\n",
       "    <tr>\n",
       "      <th>4</th>\n",
       "      <td>50035</td>\n",
       "      <td>Y1</td>\n",
       "      <td>11-12 months</td>\n",
       "      <td>4</td>\n",
       "    </tr>\n",
       "  </tbody>\n",
       "</table>\n",
       "</div>"
      ],
      "text/plain": [
       "   MemberID Year          DSFS DrugCount\n",
       "0     50035   Y1   3- 4 months         3\n",
       "1     50035   Y1   4- 5 months         5\n",
       "2     50035   Y2   6- 7 months        7+\n",
       "3     50035   Y1    0- 1 month         6\n",
       "4     50035   Y1  11-12 months         4"
      ]
     },
     "execution_count": 16,
     "metadata": {},
     "output_type": "execute_result"
    }
   ],
   "source": [
    "pysqldf(\"SELECT *  \\\n",
    "        FROM drug_df WHERE MemberID = 50035\").head(5)"
   ]
  },
  {
   "cell_type": "markdown",
   "metadata": {},
   "source": [
    "#### Observations:\n",
    "1. There are 113,000 members out of which data is present only for 75,998 members\n",
    "2. Drug Count is capped to 7 drugs. 7+ needs to be converted to 8\n",
    "3. Same members might have different drug count records for same year"
   ]
  },
  {
   "cell_type": "markdown",
   "metadata": {},
   "source": [
    "### Lab Count Data"
   ]
  },
  {
   "cell_type": "code",
   "execution_count": 17,
   "metadata": {
    "collapsed": false
   },
   "outputs": [
    {
     "name": "stdout",
     "output_type": "stream",
     "text": [
      "<class 'pandas.core.frame.DataFrame'>\n",
      "RangeIndex: 361484 entries, 0 to 361483\n",
      "Data columns (total 4 columns):\n",
      "MemberID    361484 non-null int64\n",
      "Year        361484 non-null object\n",
      "DSFS        361484 non-null object\n",
      "LabCount    361484 non-null object\n",
      "dtypes: int64(1), object(3)\n",
      "memory usage: 11.0+ MB\n"
     ]
    }
   ],
   "source": [
    "lab_df.info()"
   ]
  },
  {
   "cell_type": "code",
   "execution_count": 18,
   "metadata": {
    "collapsed": false
   },
   "outputs": [
    {
     "data": {
      "text/html": [
       "<div>\n",
       "<style scoped>\n",
       "    .dataframe tbody tr th:only-of-type {\n",
       "        vertical-align: middle;\n",
       "    }\n",
       "\n",
       "    .dataframe tbody tr th {\n",
       "        vertical-align: top;\n",
       "    }\n",
       "\n",
       "    .dataframe thead th {\n",
       "        text-align: right;\n",
       "    }\n",
       "</style>\n",
       "<table border=\"1\" class=\"dataframe\">\n",
       "  <thead>\n",
       "    <tr style=\"text-align: right;\">\n",
       "      <th></th>\n",
       "      <th>MemberID</th>\n",
       "      <th>Year</th>\n",
       "      <th>DSFS</th>\n",
       "      <th>LabCount</th>\n",
       "    </tr>\n",
       "  </thead>\n",
       "  <tbody>\n",
       "    <tr>\n",
       "      <th>0</th>\n",
       "      <td>69258001</td>\n",
       "      <td>Y3</td>\n",
       "      <td>2- 3 months</td>\n",
       "      <td>1</td>\n",
       "    </tr>\n",
       "    <tr>\n",
       "      <th>1</th>\n",
       "      <td>10143167</td>\n",
       "      <td>Y1</td>\n",
       "      <td>0- 1 month</td>\n",
       "      <td>2</td>\n",
       "    </tr>\n",
       "  </tbody>\n",
       "</table>\n",
       "</div>"
      ],
      "text/plain": [
       "   MemberID Year         DSFS LabCount\n",
       "0  69258001   Y3  2- 3 months        1\n",
       "1  10143167   Y1   0- 1 month        2"
      ]
     },
     "execution_count": 18,
     "metadata": {},
     "output_type": "execute_result"
    }
   ],
   "source": [
    "lab_df.head(2)"
   ]
  },
  {
   "cell_type": "code",
   "execution_count": 19,
   "metadata": {
    "collapsed": false
   },
   "outputs": [
    {
     "data": {
      "text/html": [
       "<div>\n",
       "<style scoped>\n",
       "    .dataframe tbody tr th:only-of-type {\n",
       "        vertical-align: middle;\n",
       "    }\n",
       "\n",
       "    .dataframe tbody tr th {\n",
       "        vertical-align: top;\n",
       "    }\n",
       "\n",
       "    .dataframe thead th {\n",
       "        text-align: right;\n",
       "    }\n",
       "</style>\n",
       "<table border=\"1\" class=\"dataframe\">\n",
       "  <thead>\n",
       "    <tr style=\"text-align: right;\">\n",
       "      <th></th>\n",
       "      <th>count(distinct MemberID)</th>\n",
       "    </tr>\n",
       "  </thead>\n",
       "  <tbody>\n",
       "    <tr>\n",
       "      <th>0</th>\n",
       "      <td>86639</td>\n",
       "    </tr>\n",
       "  </tbody>\n",
       "</table>\n",
       "</div>"
      ],
      "text/plain": [
       "   count(distinct MemberID)\n",
       "0                     86639"
      ]
     },
     "execution_count": 19,
     "metadata": {},
     "output_type": "execute_result"
    }
   ],
   "source": [
    "pysqldf(\"SELECT count(distinct MemberID) FROM lab_df;\")"
   ]
  },
  {
   "cell_type": "code",
   "execution_count": 20,
   "metadata": {
    "collapsed": false
   },
   "outputs": [
    {
     "data": {
      "text/html": [
       "<div>\n",
       "<style scoped>\n",
       "    .dataframe tbody tr th:only-of-type {\n",
       "        vertical-align: middle;\n",
       "    }\n",
       "\n",
       "    .dataframe tbody tr th {\n",
       "        vertical-align: top;\n",
       "    }\n",
       "\n",
       "    .dataframe thead th {\n",
       "        text-align: right;\n",
       "    }\n",
       "</style>\n",
       "<table border=\"1\" class=\"dataframe\">\n",
       "  <thead>\n",
       "    <tr style=\"text-align: right;\">\n",
       "      <th></th>\n",
       "      <th>LabRecords</th>\n",
       "      <th>MemberID</th>\n",
       "    </tr>\n",
       "  </thead>\n",
       "  <tbody>\n",
       "    <tr>\n",
       "      <th>0</th>\n",
       "      <td>36</td>\n",
       "      <td>2249261</td>\n",
       "    </tr>\n",
       "    <tr>\n",
       "      <th>1</th>\n",
       "      <td>36</td>\n",
       "      <td>3183555</td>\n",
       "    </tr>\n",
       "    <tr>\n",
       "      <th>2</th>\n",
       "      <td>36</td>\n",
       "      <td>4926173</td>\n",
       "    </tr>\n",
       "    <tr>\n",
       "      <th>3</th>\n",
       "      <td>36</td>\n",
       "      <td>7702613</td>\n",
       "    </tr>\n",
       "    <tr>\n",
       "      <th>4</th>\n",
       "      <td>36</td>\n",
       "      <td>15318330</td>\n",
       "    </tr>\n",
       "  </tbody>\n",
       "</table>\n",
       "</div>"
      ],
      "text/plain": [
       "   LabRecords  MemberID\n",
       "0          36   2249261\n",
       "1          36   3183555\n",
       "2          36   4926173\n",
       "3          36   7702613\n",
       "4          36  15318330"
      ]
     },
     "execution_count": 20,
     "metadata": {},
     "output_type": "execute_result"
    }
   ],
   "source": [
    "pysqldf(\"SELECT count(*) as LabRecords, MemberID \\\n",
    "        FROM lab_df group by MemberID \\\n",
    "        ORDER BY LabRecords DESC;\").head(5)"
   ]
  },
  {
   "cell_type": "code",
   "execution_count": 21,
   "metadata": {
    "collapsed": false
   },
   "outputs": [
    {
     "data": {
      "text/html": [
       "<div>\n",
       "<style scoped>\n",
       "    .dataframe tbody tr th:only-of-type {\n",
       "        vertical-align: middle;\n",
       "    }\n",
       "\n",
       "    .dataframe tbody tr th {\n",
       "        vertical-align: top;\n",
       "    }\n",
       "\n",
       "    .dataframe thead th {\n",
       "        text-align: right;\n",
       "    }\n",
       "</style>\n",
       "<table border=\"1\" class=\"dataframe\">\n",
       "  <thead>\n",
       "    <tr style=\"text-align: right;\">\n",
       "      <th></th>\n",
       "      <th>MemberID</th>\n",
       "      <th>Year</th>\n",
       "      <th>DSFS</th>\n",
       "      <th>LabCount</th>\n",
       "    </tr>\n",
       "  </thead>\n",
       "  <tbody>\n",
       "    <tr>\n",
       "      <th>0</th>\n",
       "      <td>2249261</td>\n",
       "      <td>Y1</td>\n",
       "      <td>3- 4 months</td>\n",
       "      <td>6</td>\n",
       "    </tr>\n",
       "    <tr>\n",
       "      <th>1</th>\n",
       "      <td>2249261</td>\n",
       "      <td>Y2</td>\n",
       "      <td>4- 5 months</td>\n",
       "      <td>1</td>\n",
       "    </tr>\n",
       "    <tr>\n",
       "      <th>2</th>\n",
       "      <td>2249261</td>\n",
       "      <td>Y2</td>\n",
       "      <td>2- 3 months</td>\n",
       "      <td>3</td>\n",
       "    </tr>\n",
       "    <tr>\n",
       "      <th>3</th>\n",
       "      <td>2249261</td>\n",
       "      <td>Y1</td>\n",
       "      <td>10-11 months</td>\n",
       "      <td>2</td>\n",
       "    </tr>\n",
       "    <tr>\n",
       "      <th>4</th>\n",
       "      <td>2249261</td>\n",
       "      <td>Y2</td>\n",
       "      <td>9-10 months</td>\n",
       "      <td>10+</td>\n",
       "    </tr>\n",
       "  </tbody>\n",
       "</table>\n",
       "</div>"
      ],
      "text/plain": [
       "   MemberID Year          DSFS LabCount\n",
       "0   2249261   Y1   3- 4 months        6\n",
       "1   2249261   Y2   4- 5 months        1\n",
       "2   2249261   Y2   2- 3 months        3\n",
       "3   2249261   Y1  10-11 months        2\n",
       "4   2249261   Y2   9-10 months      10+"
      ]
     },
     "execution_count": 21,
     "metadata": {},
     "output_type": "execute_result"
    }
   ],
   "source": [
    "pysqldf(\"SELECT *  \\\n",
    "        FROM lab_df WHERE MemberID = 2249261\").head(5)"
   ]
  },
  {
   "cell_type": "markdown",
   "metadata": {},
   "source": [
    "#### Observations\n",
    "\n",
    "1. There are 113,000 members out of which data is present only for 86,639 members\n",
    "2. Lab Count is capped to 10 drugs. 10+ needs to be converted to 11\n",
    "3. Same members might have different lab count records for same year"
   ]
  },
  {
   "cell_type": "markdown",
   "metadata": {},
   "source": [
    "### Days in Hospital Data"
   ]
  },
  {
   "cell_type": "code",
   "execution_count": 22,
   "metadata": {
    "collapsed": false
   },
   "outputs": [
    {
     "name": "stdout",
     "output_type": "stream",
     "text": [
      "<class 'pandas.core.frame.DataFrame'>\n",
      "RangeIndex: 76038 entries, 0 to 76037\n",
      "Data columns (total 3 columns):\n",
      "MemberID           76038 non-null int64\n",
      "ClaimsTruncated    76038 non-null int64\n",
      "DaysInHospital     76038 non-null int64\n",
      "dtypes: int64(3)\n",
      "memory usage: 1.7 MB\n"
     ]
    }
   ],
   "source": [
    "dihy2_df.info()"
   ]
  },
  {
   "cell_type": "code",
   "execution_count": 23,
   "metadata": {
    "collapsed": false
   },
   "outputs": [
    {
     "data": {
      "text/html": [
       "<div>\n",
       "<style scoped>\n",
       "    .dataframe tbody tr th:only-of-type {\n",
       "        vertical-align: middle;\n",
       "    }\n",
       "\n",
       "    .dataframe tbody tr th {\n",
       "        vertical-align: top;\n",
       "    }\n",
       "\n",
       "    .dataframe thead th {\n",
       "        text-align: right;\n",
       "    }\n",
       "</style>\n",
       "<table border=\"1\" class=\"dataframe\">\n",
       "  <thead>\n",
       "    <tr style=\"text-align: right;\">\n",
       "      <th></th>\n",
       "      <th>MemberID</th>\n",
       "      <th>ClaimsTruncated</th>\n",
       "      <th>DaysInHospital</th>\n",
       "    </tr>\n",
       "  </thead>\n",
       "  <tbody>\n",
       "    <tr>\n",
       "      <th>0</th>\n",
       "      <td>24027423</td>\n",
       "      <td>0</td>\n",
       "      <td>0</td>\n",
       "    </tr>\n",
       "    <tr>\n",
       "      <th>1</th>\n",
       "      <td>98324177</td>\n",
       "      <td>0</td>\n",
       "      <td>0</td>\n",
       "    </tr>\n",
       "  </tbody>\n",
       "</table>\n",
       "</div>"
      ],
      "text/plain": [
       "   MemberID  ClaimsTruncated  DaysInHospital\n",
       "0  24027423                0               0\n",
       "1  98324177                0               0"
      ]
     },
     "execution_count": 23,
     "metadata": {},
     "output_type": "execute_result"
    }
   ],
   "source": [
    "dihy2_df.head(2)"
   ]
  },
  {
   "cell_type": "code",
   "execution_count": 24,
   "metadata": {
    "collapsed": false
   },
   "outputs": [
    {
     "data": {
      "text/html": [
       "<div>\n",
       "<style scoped>\n",
       "    .dataframe tbody tr th:only-of-type {\n",
       "        vertical-align: middle;\n",
       "    }\n",
       "\n",
       "    .dataframe tbody tr th {\n",
       "        vertical-align: top;\n",
       "    }\n",
       "\n",
       "    .dataframe thead th {\n",
       "        text-align: right;\n",
       "    }\n",
       "</style>\n",
       "<table border=\"1\" class=\"dataframe\">\n",
       "  <thead>\n",
       "    <tr style=\"text-align: right;\">\n",
       "      <th></th>\n",
       "      <th>count(distinct MemberID)</th>\n",
       "    </tr>\n",
       "  </thead>\n",
       "  <tbody>\n",
       "    <tr>\n",
       "      <th>0</th>\n",
       "      <td>76038</td>\n",
       "    </tr>\n",
       "  </tbody>\n",
       "</table>\n",
       "</div>"
      ],
      "text/plain": [
       "   count(distinct MemberID)\n",
       "0                     76038"
      ]
     },
     "execution_count": 24,
     "metadata": {},
     "output_type": "execute_result"
    }
   ],
   "source": [
    "pysqldf(\"SELECT count(distinct MemberID) FROM dihy2_df;\")"
   ]
  },
  {
   "cell_type": "code",
   "execution_count": 25,
   "metadata": {
    "collapsed": false
   },
   "outputs": [
    {
     "data": {
      "text/html": [
       "<div>\n",
       "<style scoped>\n",
       "    .dataframe tbody tr th:only-of-type {\n",
       "        vertical-align: middle;\n",
       "    }\n",
       "\n",
       "    .dataframe tbody tr th {\n",
       "        vertical-align: top;\n",
       "    }\n",
       "\n",
       "    .dataframe thead th {\n",
       "        text-align: right;\n",
       "    }\n",
       "</style>\n",
       "<table border=\"1\" class=\"dataframe\">\n",
       "  <thead>\n",
       "    <tr style=\"text-align: right;\">\n",
       "      <th></th>\n",
       "      <th>DIHRecords</th>\n",
       "      <th>MemberID</th>\n",
       "    </tr>\n",
       "  </thead>\n",
       "  <tbody>\n",
       "    <tr>\n",
       "      <th>0</th>\n",
       "      <td>1</td>\n",
       "      <td>210</td>\n",
       "    </tr>\n",
       "    <tr>\n",
       "      <th>1</th>\n",
       "      <td>1</td>\n",
       "      <td>3197</td>\n",
       "    </tr>\n",
       "    <tr>\n",
       "      <th>2</th>\n",
       "      <td>1</td>\n",
       "      <td>3889</td>\n",
       "    </tr>\n",
       "    <tr>\n",
       "      <th>3</th>\n",
       "      <td>1</td>\n",
       "      <td>4187</td>\n",
       "    </tr>\n",
       "    <tr>\n",
       "      <th>4</th>\n",
       "      <td>1</td>\n",
       "      <td>9063</td>\n",
       "    </tr>\n",
       "  </tbody>\n",
       "</table>\n",
       "</div>"
      ],
      "text/plain": [
       "   DIHRecords  MemberID\n",
       "0           1       210\n",
       "1           1      3197\n",
       "2           1      3889\n",
       "3           1      4187\n",
       "4           1      9063"
      ]
     },
     "execution_count": 25,
     "metadata": {},
     "output_type": "execute_result"
    }
   ],
   "source": [
    "pysqldf(\"SELECT count(*) as DIHRecords, MemberID \\\n",
    "        FROM dihy2_df group by MemberID \\\n",
    "        ORDER BY DIHRecords DESC;\").head(5)"
   ]
  },
  {
   "cell_type": "code",
   "execution_count": 26,
   "metadata": {
    "collapsed": false
   },
   "outputs": [
    {
     "data": {
      "text/plain": [
       "array([[<matplotlib.axes._subplots.AxesSubplot object at 0x1a4df3d780>]],\n",
       "      dtype=object)"
      ]
     },
     "execution_count": 26,
     "metadata": {},
     "output_type": "execute_result"
    },
    {
     "data": {
      "image/png": "[encoded data removed]",
      "text/plain": [
       "<Figure size 432x288 with 1 Axes>"
      ]
     },
     "metadata": {},
     "output_type": "display_data"
    }
   ],
   "source": [
    "dihy2_df.hist(\"DaysInHospital\")"
   ]
  },
  {
   "cell_type": "code",
   "execution_count": 27,
   "metadata": {
    "collapsed": false
   },
   "outputs": [
    {
     "data": {
      "text/plain": [
       "array([[<matplotlib.axes._subplots.AxesSubplot object at 0x110c0d2e8>]],\n",
       "      dtype=object)"
      ]
     },
     "execution_count": 27,
     "metadata": {},
     "output_type": "execute_result"
    },
    {
     "data": {
      "image/png": "[encoded data removed]",
      "text/plain": [
       "<Figure size 432x288 with 1 Axes>"
      ]
     },
     "metadata": {},
     "output_type": "display_data"
    }
   ],
   "source": [
    "dihy3_df.hist(\"DaysInHospital\")"
   ]
  },
  {
   "cell_type": "markdown",
   "metadata": {},
   "source": [
    "#### Observations\n",
    "1. About 76K members out of 110K total members have DIH records for Y2\n",
    "2. There is only one record per year per member\n",
    "3. Maximum people have spent 0 or 1 days in the hospital but there are few people who have even spent upto 14 days"
   ]
  },
  {
   "cell_type": "markdown",
   "metadata": {},
   "source": [
    "## Create Base Model by just calculating Average/Mean"
   ]
  },
  {
   "cell_type": "markdown",
   "metadata": {},
   "source": [
    "### Create flat table by combining all datasets"
   ]
  },
  {
   "cell_type": "code",
   "execution_count": 28,
   "metadata": {
    "collapsed": true
   },
   "outputs": [],
   "source": [
    "#First combine all datasets\n",
    "#Need something like this: \n",
    "#MemberID|LabCountY1|LabCountY2|LabCountY3|\n",
    "#DrugCountY1|DrugCountY2|DrugCountY3\n",
    "#NumberOfClaimsY2|DaysInHospY2|\n",
    "#NumberOfClaisY3|DaysInHospY3\n",
    "\n",
    "#First fix several string-int inssues\n",
    "lab_df1 = lab_df.replace(\"10+\", \"11\")\n",
    "drug_df1 = drug_df.replace(\"7+\", \"8\")\n",
    "\n",
    "#Lab Summary\n",
    "lab_summary_df = pysqldf(\"SELECT sum(LabCount) as TotalLabCount, MemberID, Year \\\n",
    "        FROM lab_df1 group by MemberID, Year \\\n",
    "        ORDER BY TotalLabCount DESC;\")\n",
    "\n",
    "drug_summary_df = pysqldf(\"SELECT sum(DrugCount) as TotalDrugCount, MemberID, Year \\\n",
    "        FROM drug_df1 group by MemberID, Year \\\n",
    "        ORDER BY TotalDrugCount DESC;\")"
   ]
  },
  {
   "cell_type": "code",
   "execution_count": 29,
   "metadata": {
    "collapsed": false
   },
   "outputs": [],
   "source": [
    "lab_summary_pivot = lab_summary_df.pivot(index='MemberID', columns='Year', values='TotalLabCount')\n",
    "drug_summary_pivot = drug_summary_df.pivot(index='MemberID', columns='Year', values='TotalDrugCount')"
   ]
  },
  {
   "cell_type": "code",
   "execution_count": 30,
   "metadata": {
    "collapsed": false
   },
   "outputs": [],
   "source": [
    "claims_summary_df = pysqldf(\"SELECT count(*) as TotalClaimCount, MemberID, Year \\\n",
    "        FROM claims_df group by MemberID, Year\")\n",
    "\n",
    "claims_summary_pivot = claims_summary_df.pivot(index='MemberID', columns='Year', values='TotalClaimCount')"
   ]
  },
  {
   "cell_type": "code",
   "execution_count": 31,
   "metadata": {
    "collapsed": false
   },
   "outputs": [],
   "source": [
    "ls_flat_df = lab_summary_pivot.rename(columns={\"Y1\": \"LabsY1\", \"Y2\": \"LabsY2\", \"Y3\": \"LabsY3\"})\n",
    "ds_flat_df = drug_summary_pivot.rename(columns={\"Y1\": \"DrugsY1\", \"Y2\": \"DrugsY2\", \"Y3\": \"DrugsY3\"})\n",
    "cs_flat_df = claims_summary_pivot.rename(columns={\"Y1\": \"ClaimsY1\", \"Y2\": \"ClaimsY2\", \"Y3\": \"ClaimsY3\"})\n",
    "dihy2_flat_df = dihy2_df.rename(columns={\"ClaimsTruncated\":\"ClaimsTruncatedY2\",\"DaysInHospital\":\"DaysInHospitalY2\"})\n",
    "dihy3_flat_df = dihy3_df.rename(columns={\"ClaimsTruncated\":\"ClaimsTruncatedY3\",\"DaysInHospital\":\"DaysInHospitalY3\"})"
   ]
  },
  {
   "cell_type": "code",
   "execution_count": 32,
   "metadata": {
    "collapsed": false
   },
   "outputs": [],
   "source": [
    "dihy2_flat_df.set_index(\"MemberID\", inplace=True)\n",
    "dihy3_flat_df.set_index(\"MemberID\", inplace=True)"
   ]
  },
  {
   "cell_type": "code",
   "execution_count": 33,
   "metadata": {
    "collapsed": false
   },
   "outputs": [],
   "source": [
    "combined_df = dihy2_flat_df.join(dihy3_flat_df, on=None, how='outer', rsuffix=\"_1\")\n",
    "combined_df = combined_df.join(ls_flat_df, on=None, how='outer', rsuffix=\"_1\")\n",
    "combined_df = combined_df.join(ds_flat_df, on=None, how='outer', rsuffix=\"_1\")\n",
    "combined_df = combined_df.join(cs_flat_df, on=None, how='outer', rsuffix=\"_1\")"
   ]
  },
  {
   "cell_type": "code",
   "execution_count": 34,
   "metadata": {
    "collapsed": false
   },
   "outputs": [
    {
     "name": "stdout",
     "output_type": "stream",
     "text": [
      "<class 'pandas.core.frame.DataFrame'>\n",
      "Int64Index: 113000 entries, 4 to 99998824\n",
      "Data columns (total 13 columns):\n",
      "ClaimsTruncatedY2    76038 non-null float64\n",
      "DaysInHospitalY2     76038 non-null float64\n",
      "ClaimsTruncatedY3    71435 non-null float64\n",
      "DaysInHospitalY3     71435 non-null float64\n",
      "LabsY1               53227 non-null float64\n",
      "LabsY2               51268 non-null float64\n",
      "LabsY3               50439 non-null float64\n",
      "DrugsY1              49838 non-null float64\n",
      "DrugsY2              46212 non-null float64\n",
      "DrugsY3              45521 non-null float64\n",
      "ClaimsY1             76038 non-null float64\n",
      "ClaimsY2             71435 non-null float64\n",
      "ClaimsY3             70942 non-null float64\n",
      "dtypes: float64(13)\n",
      "memory usage: 12.1 MB\n"
     ]
    }
   ],
   "source": [
    "combined_df.info()"
   ]
  },
  {
   "cell_type": "code",
   "execution_count": 35,
   "metadata": {
    "collapsed": false
   },
   "outputs": [
    {
     "data": {
      "text/html": [
       "<div>\n",
       "<style scoped>\n",
       "    .dataframe tbody tr th:only-of-type {\n",
       "        vertical-align: middle;\n",
       "    }\n",
       "\n",
       "    .dataframe tbody tr th {\n",
       "        vertical-align: top;\n",
       "    }\n",
       "\n",
       "    .dataframe thead th {\n",
       "        text-align: right;\n",
       "    }\n",
       "</style>\n",
       "<table border=\"1\" class=\"dataframe\">\n",
       "  <thead>\n",
       "    <tr style=\"text-align: right;\">\n",
       "      <th></th>\n",
       "      <th>ClaimsTruncatedY2</th>\n",
       "      <th>DaysInHospitalY2</th>\n",
       "      <th>ClaimsTruncatedY3</th>\n",
       "      <th>DaysInHospitalY3</th>\n",
       "      <th>LabsY1</th>\n",
       "      <th>LabsY2</th>\n",
       "      <th>LabsY3</th>\n",
       "      <th>DrugsY1</th>\n",
       "      <th>DrugsY2</th>\n",
       "      <th>DrugsY3</th>\n",
       "      <th>ClaimsY1</th>\n",
       "      <th>ClaimsY2</th>\n",
       "      <th>ClaimsY3</th>\n",
       "    </tr>\n",
       "    <tr>\n",
       "      <th>MemberID</th>\n",
       "      <th></th>\n",
       "      <th></th>\n",
       "      <th></th>\n",
       "      <th></th>\n",
       "      <th></th>\n",
       "      <th></th>\n",
       "      <th></th>\n",
       "      <th></th>\n",
       "      <th></th>\n",
       "      <th></th>\n",
       "      <th></th>\n",
       "      <th></th>\n",
       "      <th></th>\n",
       "    </tr>\n",
       "  </thead>\n",
       "  <tbody>\n",
       "    <tr>\n",
       "      <th>4</th>\n",
       "      <td>0.0</td>\n",
       "      <td>0.0</td>\n",
       "      <td>0.0</td>\n",
       "      <td>0.0</td>\n",
       "      <td>0.0</td>\n",
       "      <td>0.0</td>\n",
       "      <td>0.0</td>\n",
       "      <td>0.0</td>\n",
       "      <td>0.0</td>\n",
       "      <td>0.0</td>\n",
       "      <td>0.0</td>\n",
       "      <td>1.0</td>\n",
       "      <td>0.0</td>\n",
       "    </tr>\n",
       "    <tr>\n",
       "      <th>210</th>\n",
       "      <td>0.0</td>\n",
       "      <td>0.0</td>\n",
       "      <td>0.0</td>\n",
       "      <td>0.0</td>\n",
       "      <td>2.0</td>\n",
       "      <td>1.0</td>\n",
       "      <td>1.0</td>\n",
       "      <td>5.0</td>\n",
       "      <td>0.0</td>\n",
       "      <td>5.0</td>\n",
       "      <td>8.0</td>\n",
       "      <td>6.0</td>\n",
       "      <td>4.0</td>\n",
       "    </tr>\n",
       "  </tbody>\n",
       "</table>\n",
       "</div>"
      ],
      "text/plain": [
       "          ClaimsTruncatedY2  DaysInHospitalY2  ClaimsTruncatedY3  \\\n",
       "MemberID                                                           \n",
       "4                       0.0               0.0                0.0   \n",
       "210                     0.0               0.0                0.0   \n",
       "\n",
       "          DaysInHospitalY3  LabsY1  LabsY2  LabsY3  DrugsY1  DrugsY2  DrugsY3  \\\n",
       "MemberID                                                                        \n",
       "4                      0.0     0.0     0.0     0.0      0.0      0.0      0.0   \n",
       "210                    0.0     2.0     1.0     1.0      5.0      0.0      5.0   \n",
       "\n",
       "          ClaimsY1  ClaimsY2  ClaimsY3  \n",
       "MemberID                                \n",
       "4              0.0       1.0       0.0  \n",
       "210            8.0       6.0       4.0  "
      ]
     },
     "execution_count": 35,
     "metadata": {},
     "output_type": "execute_result"
    }
   ],
   "source": [
    "combined_df.fillna(value=0, inplace=True)\n",
    "combined_df.head(2)"
   ]
  },
  {
   "cell_type": "markdown",
   "metadata": {},
   "source": [
    "### Check for any correlation\n",
    "Check if any column corelated to DaysInHospitalY3"
   ]
  },
  {
   "cell_type": "code",
   "execution_count": 36,
   "metadata": {
    "collapsed": false
   },
   "outputs": [
    {
     "data": {
      "text/plain": [
       "DaysInHospitalY3     1.000000\n",
       "ClaimsY3             0.272518\n",
       "ClaimsY2             0.258791\n",
       "LabsY2               0.209529\n",
       "DrugsY2              0.203035\n",
       "ClaimsTruncatedY3    0.187062\n",
       "LabsY3               0.165824\n",
       "DrugsY3              0.140501\n",
       "ClaimsY1             0.135505\n",
       "DrugsY1              0.133948\n",
       "DaysInHospitalY2     0.127593\n",
       "ClaimsTruncatedY2    0.113756\n",
       "LabsY1               0.108348\n",
       "Name: DaysInHospitalY3, dtype: float64"
      ]
     },
     "execution_count": 36,
     "metadata": {},
     "output_type": "execute_result"
    }
   ],
   "source": [
    "corr_matrix = combined_df.corr()\n",
    "corr_matrix[\"DaysInHospitalY3\"].sort_values(ascending=False)"
   ]
  },
  {
   "cell_type": "markdown",
   "metadata": {},
   "source": [
    "OBSERVATION:\n",
    "It looks like DaysInHospotalY3 is best correlated with ClaimY3. However, we cannot use Y3 data for predicting Y3 days in hospital. So, lets use next best - ClaimsY2"
   ]
  },
  {
   "cell_type": "code",
   "execution_count": 37,
   "metadata": {
    "collapsed": false
   },
   "outputs": [
    {
     "name": "stderr",
     "output_type": "stream",
     "text": [
      "/Users/Avadhoot/anaconda/lib/python3.6/site-packages/ipykernel/__main__.py:5: FutureWarning: 'pandas.tools.plotting.scatter_matrix' is deprecated, import 'pandas.plotting.scatter_matrix' instead.\n"
     ]
    },
    {
     "data": {
      "text/plain": [
       "array([[<matplotlib.axes._subplots.AxesSubplot object at 0x1a288341d0>,\n",
       "        <matplotlib.axes._subplots.AxesSubplot object at 0x1a288824e0>,\n",
       "        <matplotlib.axes._subplots.AxesSubplot object at 0x10b635b70>,\n",
       "        <matplotlib.axes._subplots.AxesSubplot object at 0x1a29d48240>],\n",
       "       [<matplotlib.axes._subplots.AxesSubplot object at 0x1a128008d0>,\n",
       "        <matplotlib.axes._subplots.AxesSubplot object at 0x1a12800908>,\n",
       "        <matplotlib.axes._subplots.AxesSubplot object at 0x10c750630>,\n",
       "        <matplotlib.axes._subplots.AxesSubplot object at 0x10e028cc0>],\n",
       "       [<matplotlib.axes._subplots.AxesSubplot object at 0x10c568390>,\n",
       "        <matplotlib.axes._subplots.AxesSubplot object at 0x1050faa20>,\n",
       "        <matplotlib.axes._subplots.AxesSubplot object at 0x1a51ec20f0>,\n",
       "        <matplotlib.axes._subplots.AxesSubplot object at 0x1a55bdb780>],\n",
       "       [<matplotlib.axes._subplots.AxesSubplot object at 0x1060fee10>,\n",
       "        <matplotlib.axes._subplots.AxesSubplot object at 0x10b6eb4e0>,\n",
       "        <matplotlib.axes._subplots.AxesSubplot object at 0x10d985b70>,\n",
       "        <matplotlib.axes._subplots.AxesSubplot object at 0x10fa42240>]],\n",
       "      dtype=object)"
      ]
     },
     "execution_count": 37,
     "metadata": {},
     "output_type": "execute_result"
    },
    {
     "data": {
      "image/png": "[encoded data removed]",
      "text/plain": [
       "<Figure size 864x576 with 16 Axes>"
      ]
     },
     "metadata": {},
     "output_type": "display_data"
    }
   ],
   "source": [
    "from pandas.tools.plotting import scatter_matrix\n",
    "%matplotlib inline\n",
    "attributes = [\"DaysInHospitalY3\", \"ClaimsY2\", \"LabsY2\",\n",
    "              \"DrugsY2\"]\n",
    "scatter_matrix(combined_df[attributes], figsize=(12, 8))"
   ]
  },
  {
   "cell_type": "markdown",
   "metadata": {},
   "source": [
    "NOTE: Since ClaimsY2 and DaysInHospitalY3 resonably corelate, lets use below strategy for basic prediction\n",
    "1. Find different buckets for ClaimsY2\n",
    "2. For each bucket, find mean of DaysInHospitalY3"
   ]
  },
  {
   "cell_type": "code",
   "execution_count": 38,
   "metadata": {
    "collapsed": false
   },
   "outputs": [
    {
     "data": {
      "text/html": [
       "<div>\n",
       "<style scoped>\n",
       "    .dataframe tbody tr th:only-of-type {\n",
       "        vertical-align: middle;\n",
       "    }\n",
       "\n",
       "    .dataframe tbody tr th {\n",
       "        vertical-align: top;\n",
       "    }\n",
       "\n",
       "    .dataframe thead th {\n",
       "        text-align: right;\n",
       "    }\n",
       "</style>\n",
       "<table border=\"1\" class=\"dataframe\">\n",
       "  <thead>\n",
       "    <tr style=\"text-align: right;\">\n",
       "      <th></th>\n",
       "      <th>ClaimsTruncatedY2</th>\n",
       "      <th>DaysInHospitalY2</th>\n",
       "      <th>ClaimsTruncatedY3</th>\n",
       "      <th>DaysInHospitalY3</th>\n",
       "      <th>LabsY1</th>\n",
       "      <th>LabsY2</th>\n",
       "      <th>LabsY3</th>\n",
       "      <th>DrugsY1</th>\n",
       "      <th>DrugsY2</th>\n",
       "      <th>DrugsY3</th>\n",
       "      <th>ClaimsY1</th>\n",
       "      <th>ClaimsY2</th>\n",
       "      <th>ClaimsY3</th>\n",
       "      <th>claimsy2_bucket_idx</th>\n",
       "    </tr>\n",
       "    <tr>\n",
       "      <th>MemberID</th>\n",
       "      <th></th>\n",
       "      <th></th>\n",
       "      <th></th>\n",
       "      <th></th>\n",
       "      <th></th>\n",
       "      <th></th>\n",
       "      <th></th>\n",
       "      <th></th>\n",
       "      <th></th>\n",
       "      <th></th>\n",
       "      <th></th>\n",
       "      <th></th>\n",
       "      <th></th>\n",
       "      <th></th>\n",
       "    </tr>\n",
       "  </thead>\n",
       "  <tbody>\n",
       "    <tr>\n",
       "      <th>4</th>\n",
       "      <td>0.0</td>\n",
       "      <td>0.0</td>\n",
       "      <td>0.0</td>\n",
       "      <td>0.0</td>\n",
       "      <td>0.0</td>\n",
       "      <td>0.0</td>\n",
       "      <td>0.0</td>\n",
       "      <td>0.0</td>\n",
       "      <td>0.0</td>\n",
       "      <td>0.0</td>\n",
       "      <td>0.0</td>\n",
       "      <td>1.0</td>\n",
       "      <td>0.0</td>\n",
       "      <td>0</td>\n",
       "    </tr>\n",
       "    <tr>\n",
       "      <th>210</th>\n",
       "      <td>0.0</td>\n",
       "      <td>0.0</td>\n",
       "      <td>0.0</td>\n",
       "      <td>0.0</td>\n",
       "      <td>2.0</td>\n",
       "      <td>1.0</td>\n",
       "      <td>1.0</td>\n",
       "      <td>5.0</td>\n",
       "      <td>0.0</td>\n",
       "      <td>5.0</td>\n",
       "      <td>8.0</td>\n",
       "      <td>6.0</td>\n",
       "      <td>4.0</td>\n",
       "      <td>1</td>\n",
       "    </tr>\n",
       "    <tr>\n",
       "      <th>3197</th>\n",
       "      <td>0.0</td>\n",
       "      <td>0.0</td>\n",
       "      <td>0.0</td>\n",
       "      <td>0.0</td>\n",
       "      <td>0.0</td>\n",
       "      <td>2.0</td>\n",
       "      <td>0.0</td>\n",
       "      <td>5.0</td>\n",
       "      <td>3.0</td>\n",
       "      <td>6.0</td>\n",
       "      <td>5.0</td>\n",
       "      <td>5.0</td>\n",
       "      <td>11.0</td>\n",
       "      <td>1</td>\n",
       "    </tr>\n",
       "    <tr>\n",
       "      <th>3457</th>\n",
       "      <td>0.0</td>\n",
       "      <td>0.0</td>\n",
       "      <td>0.0</td>\n",
       "      <td>0.0</td>\n",
       "      <td>0.0</td>\n",
       "      <td>0.0</td>\n",
       "      <td>0.0</td>\n",
       "      <td>0.0</td>\n",
       "      <td>0.0</td>\n",
       "      <td>0.0</td>\n",
       "      <td>0.0</td>\n",
       "      <td>1.0</td>\n",
       "      <td>0.0</td>\n",
       "      <td>0</td>\n",
       "    </tr>\n",
       "    <tr>\n",
       "      <th>3713</th>\n",
       "      <td>0.0</td>\n",
       "      <td>0.0</td>\n",
       "      <td>0.0</td>\n",
       "      <td>0.0</td>\n",
       "      <td>0.0</td>\n",
       "      <td>9.0</td>\n",
       "      <td>0.0</td>\n",
       "      <td>0.0</td>\n",
       "      <td>17.0</td>\n",
       "      <td>0.0</td>\n",
       "      <td>0.0</td>\n",
       "      <td>10.0</td>\n",
       "      <td>0.0</td>\n",
       "      <td>2</td>\n",
       "    </tr>\n",
       "    <tr>\n",
       "      <th>3741</th>\n",
       "      <td>0.0</td>\n",
       "      <td>0.0</td>\n",
       "      <td>0.0</td>\n",
       "      <td>0.0</td>\n",
       "      <td>0.0</td>\n",
       "      <td>11.0</td>\n",
       "      <td>0.0</td>\n",
       "      <td>0.0</td>\n",
       "      <td>35.0</td>\n",
       "      <td>0.0</td>\n",
       "      <td>0.0</td>\n",
       "      <td>20.0</td>\n",
       "      <td>0.0</td>\n",
       "      <td>4</td>\n",
       "    </tr>\n",
       "    <tr>\n",
       "      <th>3889</th>\n",
       "      <td>0.0</td>\n",
       "      <td>0.0</td>\n",
       "      <td>0.0</td>\n",
       "      <td>0.0</td>\n",
       "      <td>11.0</td>\n",
       "      <td>0.0</td>\n",
       "      <td>0.0</td>\n",
       "      <td>30.0</td>\n",
       "      <td>0.0</td>\n",
       "      <td>0.0</td>\n",
       "      <td>13.0</td>\n",
       "      <td>0.0</td>\n",
       "      <td>0.0</td>\n",
       "      <td>0</td>\n",
       "    </tr>\n",
       "    <tr>\n",
       "      <th>4048</th>\n",
       "      <td>0.0</td>\n",
       "      <td>0.0</td>\n",
       "      <td>0.0</td>\n",
       "      <td>0.0</td>\n",
       "      <td>0.0</td>\n",
       "      <td>0.0</td>\n",
       "      <td>17.0</td>\n",
       "      <td>0.0</td>\n",
       "      <td>0.0</td>\n",
       "      <td>1.0</td>\n",
       "      <td>0.0</td>\n",
       "      <td>0.0</td>\n",
       "      <td>22.0</td>\n",
       "      <td>0</td>\n",
       "    </tr>\n",
       "    <tr>\n",
       "      <th>4187</th>\n",
       "      <td>0.0</td>\n",
       "      <td>0.0</td>\n",
       "      <td>0.0</td>\n",
       "      <td>0.0</td>\n",
       "      <td>0.0</td>\n",
       "      <td>0.0</td>\n",
       "      <td>0.0</td>\n",
       "      <td>67.0</td>\n",
       "      <td>0.0</td>\n",
       "      <td>0.0</td>\n",
       "      <td>4.0</td>\n",
       "      <td>0.0</td>\n",
       "      <td>0.0</td>\n",
       "      <td>0</td>\n",
       "    </tr>\n",
       "    <tr>\n",
       "      <th>5187</th>\n",
       "      <td>0.0</td>\n",
       "      <td>0.0</td>\n",
       "      <td>0.0</td>\n",
       "      <td>0.0</td>\n",
       "      <td>0.0</td>\n",
       "      <td>0.0</td>\n",
       "      <td>1.0</td>\n",
       "      <td>0.0</td>\n",
       "      <td>0.0</td>\n",
       "      <td>10.0</td>\n",
       "      <td>0.0</td>\n",
       "      <td>2.0</td>\n",
       "      <td>13.0</td>\n",
       "      <td>0</td>\n",
       "    </tr>\n",
       "  </tbody>\n",
       "</table>\n",
       "</div>"
      ],
      "text/plain": [
       "          ClaimsTruncatedY2  DaysInHospitalY2  ClaimsTruncatedY3  \\\n",
       "MemberID                                                           \n",
       "4                       0.0               0.0                0.0   \n",
       "210                     0.0               0.0                0.0   \n",
       "3197                    0.0               0.0                0.0   \n",
       "3457                    0.0               0.0                0.0   \n",
       "3713                    0.0               0.0                0.0   \n",
       "3741                    0.0               0.0                0.0   \n",
       "3889                    0.0               0.0                0.0   \n",
       "4048                    0.0               0.0                0.0   \n",
       "4187                    0.0               0.0                0.0   \n",
       "5187                    0.0               0.0                0.0   \n",
       "\n",
       "          DaysInHospitalY3  LabsY1  LabsY2  LabsY3  DrugsY1  DrugsY2  DrugsY3  \\\n",
       "MemberID                                                                        \n",
       "4                      0.0     0.0     0.0     0.0      0.0      0.0      0.0   \n",
       "210                    0.0     2.0     1.0     1.0      5.0      0.0      5.0   \n",
       "3197                   0.0     0.0     2.0     0.0      5.0      3.0      6.0   \n",
       "3457                   0.0     0.0     0.0     0.0      0.0      0.0      0.0   \n",
       "3713                   0.0     0.0     9.0     0.0      0.0     17.0      0.0   \n",
       "3741                   0.0     0.0    11.0     0.0      0.0     35.0      0.0   \n",
       "3889                   0.0    11.0     0.0     0.0     30.0      0.0      0.0   \n",
       "4048                   0.0     0.0     0.0    17.0      0.0      0.0      1.0   \n",
       "4187                   0.0     0.0     0.0     0.0     67.0      0.0      0.0   \n",
       "5187                   0.0     0.0     0.0     1.0      0.0      0.0     10.0   \n",
       "\n",
       "          ClaimsY1  ClaimsY2  ClaimsY3  claimsy2_bucket_idx  \n",
       "MemberID                                                     \n",
       "4              0.0       1.0       0.0                    0  \n",
       "210            8.0       6.0       4.0                    1  \n",
       "3197           5.0       5.0      11.0                    1  \n",
       "3457           0.0       1.0       0.0                    0  \n",
       "3713           0.0      10.0       0.0                    2  \n",
       "3741           0.0      20.0       0.0                    4  \n",
       "3889          13.0       0.0       0.0                    0  \n",
       "4048           0.0       0.0      22.0                    0  \n",
       "4187           4.0       0.0       0.0                    0  \n",
       "5187           0.0       2.0      13.0                    0  "
      ]
     },
     "execution_count": 38,
     "metadata": {},
     "output_type": "execute_result"
    }
   ],
   "source": [
    "import numpy as np\n",
    "hist, bin_edges = np.histogram(combined_df[\"ClaimsY2\"], density=True)\n",
    "#combined_df['claimsy2_bucket'] = pd.cut(combined_df['ClaimsY2'], bins=bin_edges)\n",
    "combined_df['claimsy2_bucket_idx'] = \\\n",
    "    pd.cut(combined_df['ClaimsY2'], bins=bin_edges, labels=False, include_lowest=True)\n",
    "combined_df.head(10)"
   ]
  },
  {
   "cell_type": "code",
   "execution_count": 39,
   "metadata": {
    "collapsed": false
   },
   "outputs": [],
   "source": [
    "claims_dih_df = pysqldf(\"SELECT avg(DaysInHospitalY3) as AvgDIHY3, claimsy2_bucket_idx \\\n",
    "        FROM combined_df group by claimsy2_bucket_idx \\\n",
    "        ORDER BY claimsy2_bucket_idx ASC;\")"
   ]
  },
  {
   "cell_type": "code",
   "execution_count": 40,
   "metadata": {
    "collapsed": false
   },
   "outputs": [
    {
     "data": {
      "text/html": [
       "<div>\n",
       "<style scoped>\n",
       "    .dataframe tbody tr th:only-of-type {\n",
       "        vertical-align: middle;\n",
       "    }\n",
       "\n",
       "    .dataframe tbody tr th {\n",
       "        vertical-align: top;\n",
       "    }\n",
       "\n",
       "    .dataframe thead th {\n",
       "        text-align: right;\n",
       "    }\n",
       "</style>\n",
       "<table border=\"1\" class=\"dataframe\">\n",
       "  <thead>\n",
       "    <tr style=\"text-align: right;\">\n",
       "      <th></th>\n",
       "      <th>AvgDIHY3</th>\n",
       "      <th>claimsy2_bucket_idx</th>\n",
       "    </tr>\n",
       "  </thead>\n",
       "  <tbody>\n",
       "    <tr>\n",
       "      <th>0</th>\n",
       "      <td>0.071960</td>\n",
       "      <td>0</td>\n",
       "    </tr>\n",
       "    <tr>\n",
       "      <th>1</th>\n",
       "      <td>0.276396</td>\n",
       "      <td>1</td>\n",
       "    </tr>\n",
       "    <tr>\n",
       "      <th>2</th>\n",
       "      <td>0.352283</td>\n",
       "      <td>2</td>\n",
       "    </tr>\n",
       "    <tr>\n",
       "      <th>3</th>\n",
       "      <td>0.470410</td>\n",
       "      <td>3</td>\n",
       "    </tr>\n",
       "    <tr>\n",
       "      <th>4</th>\n",
       "      <td>0.551025</td>\n",
       "      <td>4</td>\n",
       "    </tr>\n",
       "    <tr>\n",
       "      <th>5</th>\n",
       "      <td>0.621053</td>\n",
       "      <td>5</td>\n",
       "    </tr>\n",
       "    <tr>\n",
       "      <th>6</th>\n",
       "      <td>0.706621</td>\n",
       "      <td>6</td>\n",
       "    </tr>\n",
       "    <tr>\n",
       "      <th>7</th>\n",
       "      <td>0.888673</td>\n",
       "      <td>7</td>\n",
       "    </tr>\n",
       "    <tr>\n",
       "      <th>8</th>\n",
       "      <td>0.933988</td>\n",
       "      <td>8</td>\n",
       "    </tr>\n",
       "    <tr>\n",
       "      <th>9</th>\n",
       "      <td>1.368167</td>\n",
       "      <td>9</td>\n",
       "    </tr>\n",
       "  </tbody>\n",
       "</table>\n",
       "</div>"
      ],
      "text/plain": [
       "   AvgDIHY3  claimsy2_bucket_idx\n",
       "0  0.071960                    0\n",
       "1  0.276396                    1\n",
       "2  0.352283                    2\n",
       "3  0.470410                    3\n",
       "4  0.551025                    4\n",
       "5  0.621053                    5\n",
       "6  0.706621                    6\n",
       "7  0.888673                    7\n",
       "8  0.933988                    8\n",
       "9  1.368167                    9"
      ]
     },
     "execution_count": 40,
     "metadata": {},
     "output_type": "execute_result"
    }
   ],
   "source": [
    "claims_dih_df"
   ]
  },
  {
   "cell_type": "markdown",
   "metadata": {},
   "source": [
    "Now assign the value of AvgDIHY3 back to combined_df"
   ]
  },
  {
   "cell_type": "code",
   "execution_count": 41,
   "metadata": {
    "collapsed": false
   },
   "outputs": [
    {
     "data": {
      "text/html": [
       "<div>\n",
       "<style scoped>\n",
       "    .dataframe tbody tr th:only-of-type {\n",
       "        vertical-align: middle;\n",
       "    }\n",
       "\n",
       "    .dataframe tbody tr th {\n",
       "        vertical-align: top;\n",
       "    }\n",
       "\n",
       "    .dataframe thead th {\n",
       "        text-align: right;\n",
       "    }\n",
       "</style>\n",
       "<table border=\"1\" class=\"dataframe\">\n",
       "  <thead>\n",
       "    <tr style=\"text-align: right;\">\n",
       "      <th></th>\n",
       "      <th>ClaimsTruncatedY2</th>\n",
       "      <th>DaysInHospitalY2</th>\n",
       "      <th>ClaimsTruncatedY3</th>\n",
       "      <th>DaysInHospitalY3</th>\n",
       "      <th>LabsY1</th>\n",
       "      <th>LabsY2</th>\n",
       "      <th>LabsY3</th>\n",
       "      <th>DrugsY1</th>\n",
       "      <th>DrugsY2</th>\n",
       "      <th>DrugsY3</th>\n",
       "      <th>ClaimsY1</th>\n",
       "      <th>ClaimsY2</th>\n",
       "      <th>ClaimsY3</th>\n",
       "      <th>claimsy2_bucket_idx</th>\n",
       "      <th>AvgDIHY3</th>\n",
       "      <th>claimsy2_bucket_idx</th>\n",
       "    </tr>\n",
       "    <tr>\n",
       "      <th>MemberID</th>\n",
       "      <th></th>\n",
       "      <th></th>\n",
       "      <th></th>\n",
       "      <th></th>\n",
       "      <th></th>\n",
       "      <th></th>\n",
       "      <th></th>\n",
       "      <th></th>\n",
       "      <th></th>\n",
       "      <th></th>\n",
       "      <th></th>\n",
       "      <th></th>\n",
       "      <th></th>\n",
       "      <th></th>\n",
       "      <th></th>\n",
       "      <th></th>\n",
       "    </tr>\n",
       "  </thead>\n",
       "  <tbody>\n",
       "    <tr>\n",
       "      <th>4</th>\n",
       "      <td>0.0</td>\n",
       "      <td>0.0</td>\n",
       "      <td>0.0</td>\n",
       "      <td>0.0</td>\n",
       "      <td>0.0</td>\n",
       "      <td>0.0</td>\n",
       "      <td>0.0</td>\n",
       "      <td>0.0</td>\n",
       "      <td>0.0</td>\n",
       "      <td>0.0</td>\n",
       "      <td>0.0</td>\n",
       "      <td>1.0</td>\n",
       "      <td>0.0</td>\n",
       "      <td>0</td>\n",
       "      <td>0.071960</td>\n",
       "      <td>0</td>\n",
       "    </tr>\n",
       "    <tr>\n",
       "      <th>210</th>\n",
       "      <td>0.0</td>\n",
       "      <td>0.0</td>\n",
       "      <td>0.0</td>\n",
       "      <td>0.0</td>\n",
       "      <td>2.0</td>\n",
       "      <td>1.0</td>\n",
       "      <td>1.0</td>\n",
       "      <td>5.0</td>\n",
       "      <td>0.0</td>\n",
       "      <td>5.0</td>\n",
       "      <td>8.0</td>\n",
       "      <td>6.0</td>\n",
       "      <td>4.0</td>\n",
       "      <td>1</td>\n",
       "      <td>0.276396</td>\n",
       "      <td>1</td>\n",
       "    </tr>\n",
       "    <tr>\n",
       "      <th>3197</th>\n",
       "      <td>0.0</td>\n",
       "      <td>0.0</td>\n",
       "      <td>0.0</td>\n",
       "      <td>0.0</td>\n",
       "      <td>0.0</td>\n",
       "      <td>2.0</td>\n",
       "      <td>0.0</td>\n",
       "      <td>5.0</td>\n",
       "      <td>3.0</td>\n",
       "      <td>6.0</td>\n",
       "      <td>5.0</td>\n",
       "      <td>5.0</td>\n",
       "      <td>11.0</td>\n",
       "      <td>1</td>\n",
       "      <td>0.276396</td>\n",
       "      <td>1</td>\n",
       "    </tr>\n",
       "    <tr>\n",
       "      <th>3457</th>\n",
       "      <td>0.0</td>\n",
       "      <td>0.0</td>\n",
       "      <td>0.0</td>\n",
       "      <td>0.0</td>\n",
       "      <td>0.0</td>\n",
       "      <td>0.0</td>\n",
       "      <td>0.0</td>\n",
       "      <td>0.0</td>\n",
       "      <td>0.0</td>\n",
       "      <td>0.0</td>\n",
       "      <td>0.0</td>\n",
       "      <td>1.0</td>\n",
       "      <td>0.0</td>\n",
       "      <td>0</td>\n",
       "      <td>0.071960</td>\n",
       "      <td>0</td>\n",
       "    </tr>\n",
       "    <tr>\n",
       "      <th>3713</th>\n",
       "      <td>0.0</td>\n",
       "      <td>0.0</td>\n",
       "      <td>0.0</td>\n",
       "      <td>0.0</td>\n",
       "      <td>0.0</td>\n",
       "      <td>9.0</td>\n",
       "      <td>0.0</td>\n",
       "      <td>0.0</td>\n",
       "      <td>17.0</td>\n",
       "      <td>0.0</td>\n",
       "      <td>0.0</td>\n",
       "      <td>10.0</td>\n",
       "      <td>0.0</td>\n",
       "      <td>2</td>\n",
       "      <td>0.352283</td>\n",
       "      <td>2</td>\n",
       "    </tr>\n",
       "    <tr>\n",
       "      <th>3741</th>\n",
       "      <td>0.0</td>\n",
       "      <td>0.0</td>\n",
       "      <td>0.0</td>\n",
       "      <td>0.0</td>\n",
       "      <td>0.0</td>\n",
       "      <td>11.0</td>\n",
       "      <td>0.0</td>\n",
       "      <td>0.0</td>\n",
       "      <td>35.0</td>\n",
       "      <td>0.0</td>\n",
       "      <td>0.0</td>\n",
       "      <td>20.0</td>\n",
       "      <td>0.0</td>\n",
       "      <td>4</td>\n",
       "      <td>0.551025</td>\n",
       "      <td>4</td>\n",
       "    </tr>\n",
       "    <tr>\n",
       "      <th>3889</th>\n",
       "      <td>0.0</td>\n",
       "      <td>0.0</td>\n",
       "      <td>0.0</td>\n",
       "      <td>0.0</td>\n",
       "      <td>11.0</td>\n",
       "      <td>0.0</td>\n",
       "      <td>0.0</td>\n",
       "      <td>30.0</td>\n",
       "      <td>0.0</td>\n",
       "      <td>0.0</td>\n",
       "      <td>13.0</td>\n",
       "      <td>0.0</td>\n",
       "      <td>0.0</td>\n",
       "      <td>0</td>\n",
       "      <td>0.071960</td>\n",
       "      <td>0</td>\n",
       "    </tr>\n",
       "    <tr>\n",
       "      <th>4048</th>\n",
       "      <td>0.0</td>\n",
       "      <td>0.0</td>\n",
       "      <td>0.0</td>\n",
       "      <td>0.0</td>\n",
       "      <td>0.0</td>\n",
       "      <td>0.0</td>\n",
       "      <td>17.0</td>\n",
       "      <td>0.0</td>\n",
       "      <td>0.0</td>\n",
       "      <td>1.0</td>\n",
       "      <td>0.0</td>\n",
       "      <td>0.0</td>\n",
       "      <td>22.0</td>\n",
       "      <td>0</td>\n",
       "      <td>0.071960</td>\n",
       "      <td>0</td>\n",
       "    </tr>\n",
       "    <tr>\n",
       "      <th>4187</th>\n",
       "      <td>0.0</td>\n",
       "      <td>0.0</td>\n",
       "      <td>0.0</td>\n",
       "      <td>0.0</td>\n",
       "      <td>0.0</td>\n",
       "      <td>0.0</td>\n",
       "      <td>0.0</td>\n",
       "      <td>67.0</td>\n",
       "      <td>0.0</td>\n",
       "      <td>0.0</td>\n",
       "      <td>4.0</td>\n",
       "      <td>0.0</td>\n",
       "      <td>0.0</td>\n",
       "      <td>0</td>\n",
       "      <td>0.071960</td>\n",
       "      <td>0</td>\n",
       "    </tr>\n",
       "    <tr>\n",
       "      <th>5187</th>\n",
       "      <td>0.0</td>\n",
       "      <td>0.0</td>\n",
       "      <td>0.0</td>\n",
       "      <td>0.0</td>\n",
       "      <td>0.0</td>\n",
       "      <td>0.0</td>\n",
       "      <td>1.0</td>\n",
       "      <td>0.0</td>\n",
       "      <td>0.0</td>\n",
       "      <td>10.0</td>\n",
       "      <td>0.0</td>\n",
       "      <td>2.0</td>\n",
       "      <td>13.0</td>\n",
       "      <td>0</td>\n",
       "      <td>0.071960</td>\n",
       "      <td>0</td>\n",
       "    </tr>\n",
       "    <tr>\n",
       "      <th>8213</th>\n",
       "      <td>0.0</td>\n",
       "      <td>0.0</td>\n",
       "      <td>0.0</td>\n",
       "      <td>0.0</td>\n",
       "      <td>0.0</td>\n",
       "      <td>4.0</td>\n",
       "      <td>0.0</td>\n",
       "      <td>0.0</td>\n",
       "      <td>0.0</td>\n",
       "      <td>0.0</td>\n",
       "      <td>0.0</td>\n",
       "      <td>3.0</td>\n",
       "      <td>0.0</td>\n",
       "      <td>0</td>\n",
       "      <td>0.071960</td>\n",
       "      <td>0</td>\n",
       "    </tr>\n",
       "    <tr>\n",
       "      <th>9063</th>\n",
       "      <td>0.0</td>\n",
       "      <td>0.0</td>\n",
       "      <td>0.0</td>\n",
       "      <td>0.0</td>\n",
       "      <td>0.0</td>\n",
       "      <td>0.0</td>\n",
       "      <td>0.0</td>\n",
       "      <td>2.0</td>\n",
       "      <td>0.0</td>\n",
       "      <td>0.0</td>\n",
       "      <td>4.0</td>\n",
       "      <td>0.0</td>\n",
       "      <td>0.0</td>\n",
       "      <td>0</td>\n",
       "      <td>0.071960</td>\n",
       "      <td>0</td>\n",
       "    </tr>\n",
       "    <tr>\n",
       "      <th>10242</th>\n",
       "      <td>0.0</td>\n",
       "      <td>0.0</td>\n",
       "      <td>0.0</td>\n",
       "      <td>0.0</td>\n",
       "      <td>0.0</td>\n",
       "      <td>7.0</td>\n",
       "      <td>0.0</td>\n",
       "      <td>0.0</td>\n",
       "      <td>3.0</td>\n",
       "      <td>0.0</td>\n",
       "      <td>0.0</td>\n",
       "      <td>14.0</td>\n",
       "      <td>0.0</td>\n",
       "      <td>3</td>\n",
       "      <td>0.470410</td>\n",
       "      <td>3</td>\n",
       "    </tr>\n",
       "    <tr>\n",
       "      <th>11951</th>\n",
       "      <td>0.0</td>\n",
       "      <td>1.0</td>\n",
       "      <td>0.0</td>\n",
       "      <td>0.0</td>\n",
       "      <td>3.0</td>\n",
       "      <td>3.0</td>\n",
       "      <td>0.0</td>\n",
       "      <td>0.0</td>\n",
       "      <td>0.0</td>\n",
       "      <td>0.0</td>\n",
       "      <td>6.0</td>\n",
       "      <td>11.0</td>\n",
       "      <td>0.0</td>\n",
       "      <td>2</td>\n",
       "      <td>0.352283</td>\n",
       "      <td>2</td>\n",
       "    </tr>\n",
       "    <tr>\n",
       "      <th>14033</th>\n",
       "      <td>0.0</td>\n",
       "      <td>0.0</td>\n",
       "      <td>0.0</td>\n",
       "      <td>2.0</td>\n",
       "      <td>0.0</td>\n",
       "      <td>1.0</td>\n",
       "      <td>2.0</td>\n",
       "      <td>0.0</td>\n",
       "      <td>3.0</td>\n",
       "      <td>2.0</td>\n",
       "      <td>0.0</td>\n",
       "      <td>4.0</td>\n",
       "      <td>8.0</td>\n",
       "      <td>0</td>\n",
       "      <td>0.071960</td>\n",
       "      <td>0</td>\n",
       "    </tr>\n",
       "    <tr>\n",
       "      <th>14552</th>\n",
       "      <td>0.0</td>\n",
       "      <td>0.0</td>\n",
       "      <td>0.0</td>\n",
       "      <td>0.0</td>\n",
       "      <td>0.0</td>\n",
       "      <td>0.0</td>\n",
       "      <td>1.0</td>\n",
       "      <td>0.0</td>\n",
       "      <td>0.0</td>\n",
       "      <td>0.0</td>\n",
       "      <td>0.0</td>\n",
       "      <td>0.0</td>\n",
       "      <td>8.0</td>\n",
       "      <td>0</td>\n",
       "      <td>0.071960</td>\n",
       "      <td>0</td>\n",
       "    </tr>\n",
       "    <tr>\n",
       "      <th>14661</th>\n",
       "      <td>0.0</td>\n",
       "      <td>0.0</td>\n",
       "      <td>0.0</td>\n",
       "      <td>0.0</td>\n",
       "      <td>2.0</td>\n",
       "      <td>5.0</td>\n",
       "      <td>0.0</td>\n",
       "      <td>1.0</td>\n",
       "      <td>0.0</td>\n",
       "      <td>2.0</td>\n",
       "      <td>2.0</td>\n",
       "      <td>12.0</td>\n",
       "      <td>3.0</td>\n",
       "      <td>2</td>\n",
       "      <td>0.352283</td>\n",
       "      <td>2</td>\n",
       "    </tr>\n",
       "    <tr>\n",
       "      <th>14701</th>\n",
       "      <td>0.0</td>\n",
       "      <td>0.0</td>\n",
       "      <td>0.0</td>\n",
       "      <td>0.0</td>\n",
       "      <td>0.0</td>\n",
       "      <td>0.0</td>\n",
       "      <td>0.0</td>\n",
       "      <td>0.0</td>\n",
       "      <td>0.0</td>\n",
       "      <td>0.0</td>\n",
       "      <td>3.0</td>\n",
       "      <td>0.0</td>\n",
       "      <td>0.0</td>\n",
       "      <td>0</td>\n",
       "      <td>0.071960</td>\n",
       "      <td>0</td>\n",
       "    </tr>\n",
       "    <tr>\n",
       "      <th>14778</th>\n",
       "      <td>0.0</td>\n",
       "      <td>0.0</td>\n",
       "      <td>0.0</td>\n",
       "      <td>0.0</td>\n",
       "      <td>2.0</td>\n",
       "      <td>1.0</td>\n",
       "      <td>8.0</td>\n",
       "      <td>6.0</td>\n",
       "      <td>13.0</td>\n",
       "      <td>8.0</td>\n",
       "      <td>6.0</td>\n",
       "      <td>8.0</td>\n",
       "      <td>8.0</td>\n",
       "      <td>1</td>\n",
       "      <td>0.276396</td>\n",
       "      <td>1</td>\n",
       "    </tr>\n",
       "    <tr>\n",
       "      <th>14855</th>\n",
       "      <td>0.0</td>\n",
       "      <td>0.0</td>\n",
       "      <td>0.0</td>\n",
       "      <td>0.0</td>\n",
       "      <td>0.0</td>\n",
       "      <td>0.0</td>\n",
       "      <td>1.0</td>\n",
       "      <td>0.0</td>\n",
       "      <td>0.0</td>\n",
       "      <td>0.0</td>\n",
       "      <td>1.0</td>\n",
       "      <td>0.0</td>\n",
       "      <td>2.0</td>\n",
       "      <td>0</td>\n",
       "      <td>0.071960</td>\n",
       "      <td>0</td>\n",
       "    </tr>\n",
       "    <tr>\n",
       "      <th>17249</th>\n",
       "      <td>0.0</td>\n",
       "      <td>0.0</td>\n",
       "      <td>0.0</td>\n",
       "      <td>0.0</td>\n",
       "      <td>2.0</td>\n",
       "      <td>0.0</td>\n",
       "      <td>6.0</td>\n",
       "      <td>0.0</td>\n",
       "      <td>0.0</td>\n",
       "      <td>0.0</td>\n",
       "      <td>4.0</td>\n",
       "      <td>2.0</td>\n",
       "      <td>4.0</td>\n",
       "      <td>0</td>\n",
       "      <td>0.071960</td>\n",
       "      <td>0</td>\n",
       "    </tr>\n",
       "    <tr>\n",
       "      <th>18190</th>\n",
       "      <td>0.0</td>\n",
       "      <td>0.0</td>\n",
       "      <td>0.0</td>\n",
       "      <td>0.0</td>\n",
       "      <td>6.0</td>\n",
       "      <td>6.0</td>\n",
       "      <td>16.0</td>\n",
       "      <td>15.0</td>\n",
       "      <td>58.0</td>\n",
       "      <td>67.0</td>\n",
       "      <td>8.0</td>\n",
       "      <td>18.0</td>\n",
       "      <td>24.0</td>\n",
       "      <td>4</td>\n",
       "      <td>0.551025</td>\n",
       "      <td>4</td>\n",
       "    </tr>\n",
       "    <tr>\n",
       "      <th>18333</th>\n",
       "      <td>0.0</td>\n",
       "      <td>0.0</td>\n",
       "      <td>0.0</td>\n",
       "      <td>0.0</td>\n",
       "      <td>6.0</td>\n",
       "      <td>6.0</td>\n",
       "      <td>0.0</td>\n",
       "      <td>10.0</td>\n",
       "      <td>6.0</td>\n",
       "      <td>0.0</td>\n",
       "      <td>10.0</td>\n",
       "      <td>10.0</td>\n",
       "      <td>0.0</td>\n",
       "      <td>2</td>\n",
       "      <td>0.352283</td>\n",
       "      <td>2</td>\n",
       "    </tr>\n",
       "    <tr>\n",
       "      <th>18514</th>\n",
       "      <td>0.0</td>\n",
       "      <td>0.0</td>\n",
       "      <td>0.0</td>\n",
       "      <td>0.0</td>\n",
       "      <td>5.0</td>\n",
       "      <td>0.0</td>\n",
       "      <td>5.0</td>\n",
       "      <td>0.0</td>\n",
       "      <td>0.0</td>\n",
       "      <td>0.0</td>\n",
       "      <td>4.0</td>\n",
       "      <td>0.0</td>\n",
       "      <td>4.0</td>\n",
       "      <td>0</td>\n",
       "      <td>0.071960</td>\n",
       "      <td>0</td>\n",
       "    </tr>\n",
       "    <tr>\n",
       "      <th>20072</th>\n",
       "      <td>0.0</td>\n",
       "      <td>3.0</td>\n",
       "      <td>0.0</td>\n",
       "      <td>0.0</td>\n",
       "      <td>1.0</td>\n",
       "      <td>8.0</td>\n",
       "      <td>1.0</td>\n",
       "      <td>13.0</td>\n",
       "      <td>19.0</td>\n",
       "      <td>24.0</td>\n",
       "      <td>15.0</td>\n",
       "      <td>42.0</td>\n",
       "      <td>22.0</td>\n",
       "      <td>9</td>\n",
       "      <td>1.368167</td>\n",
       "      <td>9</td>\n",
       "    </tr>\n",
       "    <tr>\n",
       "      <th>20269</th>\n",
       "      <td>0.0</td>\n",
       "      <td>0.0</td>\n",
       "      <td>0.0</td>\n",
       "      <td>0.0</td>\n",
       "      <td>4.0</td>\n",
       "      <td>0.0</td>\n",
       "      <td>0.0</td>\n",
       "      <td>0.0</td>\n",
       "      <td>0.0</td>\n",
       "      <td>0.0</td>\n",
       "      <td>7.0</td>\n",
       "      <td>0.0</td>\n",
       "      <td>0.0</td>\n",
       "      <td>0</td>\n",
       "      <td>0.071960</td>\n",
       "      <td>0</td>\n",
       "    </tr>\n",
       "    <tr>\n",
       "      <th>20482</th>\n",
       "      <td>0.0</td>\n",
       "      <td>0.0</td>\n",
       "      <td>0.0</td>\n",
       "      <td>0.0</td>\n",
       "      <td>17.0</td>\n",
       "      <td>11.0</td>\n",
       "      <td>15.0</td>\n",
       "      <td>0.0</td>\n",
       "      <td>0.0</td>\n",
       "      <td>0.0</td>\n",
       "      <td>36.0</td>\n",
       "      <td>21.0</td>\n",
       "      <td>44.0</td>\n",
       "      <td>4</td>\n",
       "      <td>0.551025</td>\n",
       "      <td>4</td>\n",
       "    </tr>\n",
       "    <tr>\n",
       "      <th>20605</th>\n",
       "      <td>0.0</td>\n",
       "      <td>0.0</td>\n",
       "      <td>0.0</td>\n",
       "      <td>0.0</td>\n",
       "      <td>0.0</td>\n",
       "      <td>0.0</td>\n",
       "      <td>3.0</td>\n",
       "      <td>0.0</td>\n",
       "      <td>0.0</td>\n",
       "      <td>0.0</td>\n",
       "      <td>0.0</td>\n",
       "      <td>0.0</td>\n",
       "      <td>4.0</td>\n",
       "      <td>0</td>\n",
       "      <td>0.071960</td>\n",
       "      <td>0</td>\n",
       "    </tr>\n",
       "    <tr>\n",
       "      <th>21207</th>\n",
       "      <td>1.0</td>\n",
       "      <td>1.0</td>\n",
       "      <td>0.0</td>\n",
       "      <td>0.0</td>\n",
       "      <td>16.0</td>\n",
       "      <td>4.0</td>\n",
       "      <td>0.0</td>\n",
       "      <td>29.0</td>\n",
       "      <td>77.0</td>\n",
       "      <td>0.0</td>\n",
       "      <td>30.0</td>\n",
       "      <td>16.0</td>\n",
       "      <td>0.0</td>\n",
       "      <td>3</td>\n",
       "      <td>0.470410</td>\n",
       "      <td>3</td>\n",
       "    </tr>\n",
       "    <tr>\n",
       "      <th>21549</th>\n",
       "      <td>0.0</td>\n",
       "      <td>0.0</td>\n",
       "      <td>0.0</td>\n",
       "      <td>0.0</td>\n",
       "      <td>0.0</td>\n",
       "      <td>0.0</td>\n",
       "      <td>0.0</td>\n",
       "      <td>0.0</td>\n",
       "      <td>0.0</td>\n",
       "      <td>3.0</td>\n",
       "      <td>0.0</td>\n",
       "      <td>0.0</td>\n",
       "      <td>10.0</td>\n",
       "      <td>0</td>\n",
       "      <td>0.071960</td>\n",
       "      <td>0</td>\n",
       "    </tr>\n",
       "    <tr>\n",
       "      <th>...</th>\n",
       "      <td>...</td>\n",
       "      <td>...</td>\n",
       "      <td>...</td>\n",
       "      <td>...</td>\n",
       "      <td>...</td>\n",
       "      <td>...</td>\n",
       "      <td>...</td>\n",
       "      <td>...</td>\n",
       "      <td>...</td>\n",
       "      <td>...</td>\n",
       "      <td>...</td>\n",
       "      <td>...</td>\n",
       "      <td>...</td>\n",
       "      <td>...</td>\n",
       "      <td>...</td>\n",
       "      <td>...</td>\n",
       "    </tr>\n",
       "    <tr>\n",
       "      <th>99968870</th>\n",
       "      <td>0.0</td>\n",
       "      <td>0.0</td>\n",
       "      <td>0.0</td>\n",
       "      <td>0.0</td>\n",
       "      <td>1.0</td>\n",
       "      <td>3.0</td>\n",
       "      <td>0.0</td>\n",
       "      <td>2.0</td>\n",
       "      <td>2.0</td>\n",
       "      <td>6.0</td>\n",
       "      <td>7.0</td>\n",
       "      <td>12.0</td>\n",
       "      <td>15.0</td>\n",
       "      <td>2</td>\n",
       "      <td>0.352283</td>\n",
       "      <td>2</td>\n",
       "    </tr>\n",
       "    <tr>\n",
       "      <th>99969451</th>\n",
       "      <td>0.0</td>\n",
       "      <td>0.0</td>\n",
       "      <td>0.0</td>\n",
       "      <td>0.0</td>\n",
       "      <td>0.0</td>\n",
       "      <td>3.0</td>\n",
       "      <td>3.0</td>\n",
       "      <td>3.0</td>\n",
       "      <td>2.0</td>\n",
       "      <td>1.0</td>\n",
       "      <td>7.0</td>\n",
       "      <td>5.0</td>\n",
       "      <td>11.0</td>\n",
       "      <td>1</td>\n",
       "      <td>0.276396</td>\n",
       "      <td>1</td>\n",
       "    </tr>\n",
       "    <tr>\n",
       "      <th>99971678</th>\n",
       "      <td>0.0</td>\n",
       "      <td>0.0</td>\n",
       "      <td>0.0</td>\n",
       "      <td>0.0</td>\n",
       "      <td>11.0</td>\n",
       "      <td>14.0</td>\n",
       "      <td>4.0</td>\n",
       "      <td>7.0</td>\n",
       "      <td>10.0</td>\n",
       "      <td>3.0</td>\n",
       "      <td>5.0</td>\n",
       "      <td>16.0</td>\n",
       "      <td>8.0</td>\n",
       "      <td>3</td>\n",
       "      <td>0.470410</td>\n",
       "      <td>3</td>\n",
       "    </tr>\n",
       "    <tr>\n",
       "      <th>99973127</th>\n",
       "      <td>0.0</td>\n",
       "      <td>0.0</td>\n",
       "      <td>0.0</td>\n",
       "      <td>1.0</td>\n",
       "      <td>18.0</td>\n",
       "      <td>5.0</td>\n",
       "      <td>1.0</td>\n",
       "      <td>13.0</td>\n",
       "      <td>22.0</td>\n",
       "      <td>16.0</td>\n",
       "      <td>26.0</td>\n",
       "      <td>14.0</td>\n",
       "      <td>11.0</td>\n",
       "      <td>3</td>\n",
       "      <td>0.470410</td>\n",
       "      <td>3</td>\n",
       "    </tr>\n",
       "    <tr>\n",
       "      <th>99973285</th>\n",
       "      <td>0.0</td>\n",
       "      <td>0.0</td>\n",
       "      <td>0.0</td>\n",
       "      <td>0.0</td>\n",
       "      <td>0.0</td>\n",
       "      <td>0.0</td>\n",
       "      <td>1.0</td>\n",
       "      <td>0.0</td>\n",
       "      <td>0.0</td>\n",
       "      <td>1.0</td>\n",
       "      <td>0.0</td>\n",
       "      <td>0.0</td>\n",
       "      <td>2.0</td>\n",
       "      <td>0</td>\n",
       "      <td>0.071960</td>\n",
       "      <td>0</td>\n",
       "    </tr>\n",
       "    <tr>\n",
       "      <th>99973335</th>\n",
       "      <td>0.0</td>\n",
       "      <td>0.0</td>\n",
       "      <td>0.0</td>\n",
       "      <td>0.0</td>\n",
       "      <td>8.0</td>\n",
       "      <td>0.0</td>\n",
       "      <td>0.0</td>\n",
       "      <td>0.0</td>\n",
       "      <td>0.0</td>\n",
       "      <td>0.0</td>\n",
       "      <td>5.0</td>\n",
       "      <td>0.0</td>\n",
       "      <td>2.0</td>\n",
       "      <td>0</td>\n",
       "      <td>0.071960</td>\n",
       "      <td>0</td>\n",
       "    </tr>\n",
       "    <tr>\n",
       "      <th>99974933</th>\n",
       "      <td>0.0</td>\n",
       "      <td>0.0</td>\n",
       "      <td>0.0</td>\n",
       "      <td>0.0</td>\n",
       "      <td>0.0</td>\n",
       "      <td>0.0</td>\n",
       "      <td>8.0</td>\n",
       "      <td>0.0</td>\n",
       "      <td>0.0</td>\n",
       "      <td>4.0</td>\n",
       "      <td>0.0</td>\n",
       "      <td>0.0</td>\n",
       "      <td>5.0</td>\n",
       "      <td>0</td>\n",
       "      <td>0.071960</td>\n",
       "      <td>0</td>\n",
       "    </tr>\n",
       "    <tr>\n",
       "      <th>99975677</th>\n",
       "      <td>0.0</td>\n",
       "      <td>0.0</td>\n",
       "      <td>1.0</td>\n",
       "      <td>0.0</td>\n",
       "      <td>0.0</td>\n",
       "      <td>20.0</td>\n",
       "      <td>1.0</td>\n",
       "      <td>0.0</td>\n",
       "      <td>0.0</td>\n",
       "      <td>8.0</td>\n",
       "      <td>0.0</td>\n",
       "      <td>43.0</td>\n",
       "      <td>4.0</td>\n",
       "      <td>9</td>\n",
       "      <td>1.368167</td>\n",
       "      <td>9</td>\n",
       "    </tr>\n",
       "    <tr>\n",
       "      <th>99976647</th>\n",
       "      <td>0.0</td>\n",
       "      <td>0.0</td>\n",
       "      <td>0.0</td>\n",
       "      <td>0.0</td>\n",
       "      <td>5.0</td>\n",
       "      <td>3.0</td>\n",
       "      <td>0.0</td>\n",
       "      <td>4.0</td>\n",
       "      <td>5.0</td>\n",
       "      <td>2.0</td>\n",
       "      <td>6.0</td>\n",
       "      <td>4.0</td>\n",
       "      <td>3.0</td>\n",
       "      <td>0</td>\n",
       "      <td>0.071960</td>\n",
       "      <td>0</td>\n",
       "    </tr>\n",
       "    <tr>\n",
       "      <th>99976798</th>\n",
       "      <td>0.0</td>\n",
       "      <td>0.0</td>\n",
       "      <td>0.0</td>\n",
       "      <td>0.0</td>\n",
       "      <td>11.0</td>\n",
       "      <td>0.0</td>\n",
       "      <td>0.0</td>\n",
       "      <td>3.0</td>\n",
       "      <td>0.0</td>\n",
       "      <td>0.0</td>\n",
       "      <td>9.0</td>\n",
       "      <td>0.0</td>\n",
       "      <td>0.0</td>\n",
       "      <td>0</td>\n",
       "      <td>0.071960</td>\n",
       "      <td>0</td>\n",
       "    </tr>\n",
       "    <tr>\n",
       "      <th>99977491</th>\n",
       "      <td>0.0</td>\n",
       "      <td>0.0</td>\n",
       "      <td>0.0</td>\n",
       "      <td>3.0</td>\n",
       "      <td>0.0</td>\n",
       "      <td>0.0</td>\n",
       "      <td>1.0</td>\n",
       "      <td>24.0</td>\n",
       "      <td>27.0</td>\n",
       "      <td>9.0</td>\n",
       "      <td>8.0</td>\n",
       "      <td>6.0</td>\n",
       "      <td>14.0</td>\n",
       "      <td>1</td>\n",
       "      <td>0.276396</td>\n",
       "      <td>1</td>\n",
       "    </tr>\n",
       "    <tr>\n",
       "      <th>99979211</th>\n",
       "      <td>0.0</td>\n",
       "      <td>0.0</td>\n",
       "      <td>0.0</td>\n",
       "      <td>0.0</td>\n",
       "      <td>0.0</td>\n",
       "      <td>0.0</td>\n",
       "      <td>0.0</td>\n",
       "      <td>0.0</td>\n",
       "      <td>0.0</td>\n",
       "      <td>0.0</td>\n",
       "      <td>2.0</td>\n",
       "      <td>0.0</td>\n",
       "      <td>0.0</td>\n",
       "      <td>0</td>\n",
       "      <td>0.071960</td>\n",
       "      <td>0</td>\n",
       "    </tr>\n",
       "    <tr>\n",
       "      <th>99979429</th>\n",
       "      <td>0.0</td>\n",
       "      <td>0.0</td>\n",
       "      <td>0.0</td>\n",
       "      <td>0.0</td>\n",
       "      <td>0.0</td>\n",
       "      <td>0.0</td>\n",
       "      <td>0.0</td>\n",
       "      <td>0.0</td>\n",
       "      <td>0.0</td>\n",
       "      <td>0.0</td>\n",
       "      <td>0.0</td>\n",
       "      <td>0.0</td>\n",
       "      <td>2.0</td>\n",
       "      <td>0</td>\n",
       "      <td>0.071960</td>\n",
       "      <td>0</td>\n",
       "    </tr>\n",
       "    <tr>\n",
       "      <th>99982956</th>\n",
       "      <td>0.0</td>\n",
       "      <td>0.0</td>\n",
       "      <td>0.0</td>\n",
       "      <td>0.0</td>\n",
       "      <td>0.0</td>\n",
       "      <td>1.0</td>\n",
       "      <td>1.0</td>\n",
       "      <td>0.0</td>\n",
       "      <td>2.0</td>\n",
       "      <td>0.0</td>\n",
       "      <td>0.0</td>\n",
       "      <td>5.0</td>\n",
       "      <td>2.0</td>\n",
       "      <td>1</td>\n",
       "      <td>0.276396</td>\n",
       "      <td>1</td>\n",
       "    </tr>\n",
       "    <tr>\n",
       "      <th>99985652</th>\n",
       "      <td>0.0</td>\n",
       "      <td>0.0</td>\n",
       "      <td>0.0</td>\n",
       "      <td>0.0</td>\n",
       "      <td>0.0</td>\n",
       "      <td>0.0</td>\n",
       "      <td>0.0</td>\n",
       "      <td>1.0</td>\n",
       "      <td>0.0</td>\n",
       "      <td>0.0</td>\n",
       "      <td>2.0</td>\n",
       "      <td>0.0</td>\n",
       "      <td>0.0</td>\n",
       "      <td>0</td>\n",
       "      <td>0.071960</td>\n",
       "      <td>0</td>\n",
       "    </tr>\n",
       "    <tr>\n",
       "      <th>99985795</th>\n",
       "      <td>0.0</td>\n",
       "      <td>0.0</td>\n",
       "      <td>0.0</td>\n",
       "      <td>0.0</td>\n",
       "      <td>0.0</td>\n",
       "      <td>0.0</td>\n",
       "      <td>0.0</td>\n",
       "      <td>0.0</td>\n",
       "      <td>5.0</td>\n",
       "      <td>22.0</td>\n",
       "      <td>0.0</td>\n",
       "      <td>3.0</td>\n",
       "      <td>2.0</td>\n",
       "      <td>0</td>\n",
       "      <td>0.071960</td>\n",
       "      <td>0</td>\n",
       "    </tr>\n",
       "    <tr>\n",
       "      <th>99985996</th>\n",
       "      <td>0.0</td>\n",
       "      <td>0.0</td>\n",
       "      <td>0.0</td>\n",
       "      <td>0.0</td>\n",
       "      <td>0.0</td>\n",
       "      <td>0.0</td>\n",
       "      <td>0.0</td>\n",
       "      <td>0.0</td>\n",
       "      <td>18.0</td>\n",
       "      <td>35.0</td>\n",
       "      <td>0.0</td>\n",
       "      <td>5.0</td>\n",
       "      <td>18.0</td>\n",
       "      <td>1</td>\n",
       "      <td>0.276396</td>\n",
       "      <td>1</td>\n",
       "    </tr>\n",
       "    <tr>\n",
       "      <th>99987030</th>\n",
       "      <td>0.0</td>\n",
       "      <td>0.0</td>\n",
       "      <td>0.0</td>\n",
       "      <td>0.0</td>\n",
       "      <td>0.0</td>\n",
       "      <td>0.0</td>\n",
       "      <td>11.0</td>\n",
       "      <td>0.0</td>\n",
       "      <td>2.0</td>\n",
       "      <td>0.0</td>\n",
       "      <td>0.0</td>\n",
       "      <td>4.0</td>\n",
       "      <td>8.0</td>\n",
       "      <td>0</td>\n",
       "      <td>0.071960</td>\n",
       "      <td>0</td>\n",
       "    </tr>\n",
       "    <tr>\n",
       "      <th>99987318</th>\n",
       "      <td>0.0</td>\n",
       "      <td>0.0</td>\n",
       "      <td>0.0</td>\n",
       "      <td>0.0</td>\n",
       "      <td>4.0</td>\n",
       "      <td>0.0</td>\n",
       "      <td>0.0</td>\n",
       "      <td>0.0</td>\n",
       "      <td>0.0</td>\n",
       "      <td>0.0</td>\n",
       "      <td>3.0</td>\n",
       "      <td>0.0</td>\n",
       "      <td>0.0</td>\n",
       "      <td>0</td>\n",
       "      <td>0.071960</td>\n",
       "      <td>0</td>\n",
       "    </tr>\n",
       "    <tr>\n",
       "      <th>99988469</th>\n",
       "      <td>0.0</td>\n",
       "      <td>0.0</td>\n",
       "      <td>0.0</td>\n",
       "      <td>0.0</td>\n",
       "      <td>4.0</td>\n",
       "      <td>0.0</td>\n",
       "      <td>0.0</td>\n",
       "      <td>24.0</td>\n",
       "      <td>0.0</td>\n",
       "      <td>0.0</td>\n",
       "      <td>12.0</td>\n",
       "      <td>0.0</td>\n",
       "      <td>0.0</td>\n",
       "      <td>0</td>\n",
       "      <td>0.071960</td>\n",
       "      <td>0</td>\n",
       "    </tr>\n",
       "    <tr>\n",
       "      <th>99992565</th>\n",
       "      <td>0.0</td>\n",
       "      <td>0.0</td>\n",
       "      <td>0.0</td>\n",
       "      <td>0.0</td>\n",
       "      <td>6.0</td>\n",
       "      <td>0.0</td>\n",
       "      <td>11.0</td>\n",
       "      <td>2.0</td>\n",
       "      <td>0.0</td>\n",
       "      <td>0.0</td>\n",
       "      <td>8.0</td>\n",
       "      <td>0.0</td>\n",
       "      <td>25.0</td>\n",
       "      <td>0</td>\n",
       "      <td>0.071960</td>\n",
       "      <td>0</td>\n",
       "    </tr>\n",
       "    <tr>\n",
       "      <th>99993334</th>\n",
       "      <td>0.0</td>\n",
       "      <td>0.0</td>\n",
       "      <td>0.0</td>\n",
       "      <td>0.0</td>\n",
       "      <td>0.0</td>\n",
       "      <td>0.0</td>\n",
       "      <td>3.0</td>\n",
       "      <td>0.0</td>\n",
       "      <td>0.0</td>\n",
       "      <td>4.0</td>\n",
       "      <td>0.0</td>\n",
       "      <td>0.0</td>\n",
       "      <td>2.0</td>\n",
       "      <td>0</td>\n",
       "      <td>0.071960</td>\n",
       "      <td>0</td>\n",
       "    </tr>\n",
       "    <tr>\n",
       "      <th>99994536</th>\n",
       "      <td>0.0</td>\n",
       "      <td>0.0</td>\n",
       "      <td>0.0</td>\n",
       "      <td>0.0</td>\n",
       "      <td>12.0</td>\n",
       "      <td>0.0</td>\n",
       "      <td>0.0</td>\n",
       "      <td>2.0</td>\n",
       "      <td>0.0</td>\n",
       "      <td>0.0</td>\n",
       "      <td>7.0</td>\n",
       "      <td>0.0</td>\n",
       "      <td>0.0</td>\n",
       "      <td>0</td>\n",
       "      <td>0.071960</td>\n",
       "      <td>0</td>\n",
       "    </tr>\n",
       "    <tr>\n",
       "      <th>99995391</th>\n",
       "      <td>0.0</td>\n",
       "      <td>0.0</td>\n",
       "      <td>0.0</td>\n",
       "      <td>0.0</td>\n",
       "      <td>0.0</td>\n",
       "      <td>1.0</td>\n",
       "      <td>8.0</td>\n",
       "      <td>0.0</td>\n",
       "      <td>14.0</td>\n",
       "      <td>44.0</td>\n",
       "      <td>0.0</td>\n",
       "      <td>11.0</td>\n",
       "      <td>34.0</td>\n",
       "      <td>2</td>\n",
       "      <td>0.352283</td>\n",
       "      <td>2</td>\n",
       "    </tr>\n",
       "    <tr>\n",
       "      <th>99995554</th>\n",
       "      <td>1.0</td>\n",
       "      <td>0.0</td>\n",
       "      <td>0.0</td>\n",
       "      <td>0.0</td>\n",
       "      <td>11.0</td>\n",
       "      <td>11.0</td>\n",
       "      <td>0.0</td>\n",
       "      <td>8.0</td>\n",
       "      <td>2.0</td>\n",
       "      <td>0.0</td>\n",
       "      <td>35.0</td>\n",
       "      <td>15.0</td>\n",
       "      <td>0.0</td>\n",
       "      <td>3</td>\n",
       "      <td>0.470410</td>\n",
       "      <td>3</td>\n",
       "    </tr>\n",
       "    <tr>\n",
       "      <th>99996214</th>\n",
       "      <td>0.0</td>\n",
       "      <td>0.0</td>\n",
       "      <td>0.0</td>\n",
       "      <td>0.0</td>\n",
       "      <td>0.0</td>\n",
       "      <td>0.0</td>\n",
       "      <td>0.0</td>\n",
       "      <td>0.0</td>\n",
       "      <td>0.0</td>\n",
       "      <td>0.0</td>\n",
       "      <td>1.0</td>\n",
       "      <td>0.0</td>\n",
       "      <td>0.0</td>\n",
       "      <td>0</td>\n",
       "      <td>0.071960</td>\n",
       "      <td>0</td>\n",
       "    </tr>\n",
       "    <tr>\n",
       "      <th>99997485</th>\n",
       "      <td>0.0</td>\n",
       "      <td>0.0</td>\n",
       "      <td>0.0</td>\n",
       "      <td>0.0</td>\n",
       "      <td>0.0</td>\n",
       "      <td>0.0</td>\n",
       "      <td>0.0</td>\n",
       "      <td>0.0</td>\n",
       "      <td>0.0</td>\n",
       "      <td>2.0</td>\n",
       "      <td>1.0</td>\n",
       "      <td>0.0</td>\n",
       "      <td>2.0</td>\n",
       "      <td>0</td>\n",
       "      <td>0.071960</td>\n",
       "      <td>0</td>\n",
       "    </tr>\n",
       "    <tr>\n",
       "      <th>99997895</th>\n",
       "      <td>0.0</td>\n",
       "      <td>0.0</td>\n",
       "      <td>0.0</td>\n",
       "      <td>0.0</td>\n",
       "      <td>10.0</td>\n",
       "      <td>0.0</td>\n",
       "      <td>0.0</td>\n",
       "      <td>0.0</td>\n",
       "      <td>0.0</td>\n",
       "      <td>0.0</td>\n",
       "      <td>14.0</td>\n",
       "      <td>0.0</td>\n",
       "      <td>0.0</td>\n",
       "      <td>0</td>\n",
       "      <td>0.071960</td>\n",
       "      <td>0</td>\n",
       "    </tr>\n",
       "    <tr>\n",
       "      <th>99998627</th>\n",
       "      <td>0.0</td>\n",
       "      <td>0.0</td>\n",
       "      <td>0.0</td>\n",
       "      <td>0.0</td>\n",
       "      <td>5.0</td>\n",
       "      <td>0.0</td>\n",
       "      <td>0.0</td>\n",
       "      <td>1.0</td>\n",
       "      <td>0.0</td>\n",
       "      <td>0.0</td>\n",
       "      <td>10.0</td>\n",
       "      <td>0.0</td>\n",
       "      <td>0.0</td>\n",
       "      <td>0</td>\n",
       "      <td>0.071960</td>\n",
       "      <td>0</td>\n",
       "    </tr>\n",
       "    <tr>\n",
       "      <th>99998824</th>\n",
       "      <td>0.0</td>\n",
       "      <td>0.0</td>\n",
       "      <td>0.0</td>\n",
       "      <td>0.0</td>\n",
       "      <td>0.0</td>\n",
       "      <td>5.0</td>\n",
       "      <td>0.0</td>\n",
       "      <td>0.0</td>\n",
       "      <td>0.0</td>\n",
       "      <td>0.0</td>\n",
       "      <td>0.0</td>\n",
       "      <td>8.0</td>\n",
       "      <td>0.0</td>\n",
       "      <td>1</td>\n",
       "      <td>0.276396</td>\n",
       "      <td>1</td>\n",
       "    </tr>\n",
       "  </tbody>\n",
       "</table>\n",
       "<p>113000 rows × 16 columns</p>\n",
       "</div>"
      ],
      "text/plain": [
       "          ClaimsTruncatedY2  DaysInHospitalY2  ClaimsTruncatedY3  \\\n",
       "MemberID                                                           \n",
       "4                       0.0               0.0                0.0   \n",
       "210                     0.0               0.0                0.0   \n",
       "3197                    0.0               0.0                0.0   \n",
       "3457                    0.0               0.0                0.0   \n",
       "3713                    0.0               0.0                0.0   \n",
       "3741                    0.0               0.0                0.0   \n",
       "3889                    0.0               0.0                0.0   \n",
       "4048                    0.0               0.0                0.0   \n",
       "4187                    0.0               0.0                0.0   \n",
       "5187                    0.0               0.0                0.0   \n",
       "8213                    0.0               0.0                0.0   \n",
       "9063                    0.0               0.0                0.0   \n",
       "10242                   0.0               0.0                0.0   \n",
       "11951                   0.0               1.0                0.0   \n",
       "14033                   0.0               0.0                0.0   \n",
       "14552                   0.0               0.0                0.0   \n",
       "14661                   0.0               0.0                0.0   \n",
       "14701                   0.0               0.0                0.0   \n",
       "14778                   0.0               0.0                0.0   \n",
       "14855                   0.0               0.0                0.0   \n",
       "17249                   0.0               0.0                0.0   \n",
       "18190                   0.0               0.0                0.0   \n",
       "18333                   0.0               0.0                0.0   \n",
       "18514                   0.0               0.0                0.0   \n",
       "20072                   0.0               3.0                0.0   \n",
       "20269                   0.0               0.0                0.0   \n",
       "20482                   0.0               0.0                0.0   \n",
       "20605                   0.0               0.0                0.0   \n",
       "21207                   1.0               1.0                0.0   \n",
       "21549                   0.0               0.0                0.0   \n",
       "...                     ...               ...                ...   \n",
       "99968870                0.0               0.0                0.0   \n",
       "99969451                0.0               0.0                0.0   \n",
       "99971678                0.0               0.0                0.0   \n",
       "99973127                0.0               0.0                0.0   \n",
       "99973285                0.0               0.0                0.0   \n",
       "99973335                0.0               0.0                0.0   \n",
       "99974933                0.0               0.0                0.0   \n",
       "99975677                0.0               0.0                1.0   \n",
       "99976647                0.0               0.0                0.0   \n",
       "99976798                0.0               0.0                0.0   \n",
       "99977491                0.0               0.0                0.0   \n",
       "99979211                0.0               0.0                0.0   \n",
       "99979429                0.0               0.0                0.0   \n",
       "99982956                0.0               0.0                0.0   \n",
       "99985652                0.0               0.0                0.0   \n",
       "99985795                0.0               0.0                0.0   \n",
       "99985996                0.0               0.0                0.0   \n",
       "99987030                0.0               0.0                0.0   \n",
       "99987318                0.0               0.0                0.0   \n",
       "99988469                0.0               0.0                0.0   \n",
       "99992565                0.0               0.0                0.0   \n",
       "99993334                0.0               0.0                0.0   \n",
       "99994536                0.0               0.0                0.0   \n",
       "99995391                0.0               0.0                0.0   \n",
       "99995554                1.0               0.0                0.0   \n",
       "99996214                0.0               0.0                0.0   \n",
       "99997485                0.0               0.0                0.0   \n",
       "99997895                0.0               0.0                0.0   \n",
       "99998627                0.0               0.0                0.0   \n",
       "99998824                0.0               0.0                0.0   \n",
       "\n",
       "          DaysInHospitalY3  LabsY1  LabsY2  LabsY3  DrugsY1  DrugsY2  DrugsY3  \\\n",
       "MemberID                                                                        \n",
       "4                      0.0     0.0     0.0     0.0      0.0      0.0      0.0   \n",
       "210                    0.0     2.0     1.0     1.0      5.0      0.0      5.0   \n",
       "3197                   0.0     0.0     2.0     0.0      5.0      3.0      6.0   \n",
       "3457                   0.0     0.0     0.0     0.0      0.0      0.0      0.0   \n",
       "3713                   0.0     0.0     9.0     0.0      0.0     17.0      0.0   \n",
       "3741                   0.0     0.0    11.0     0.0      0.0     35.0      0.0   \n",
       "3889                   0.0    11.0     0.0     0.0     30.0      0.0      0.0   \n",
       "4048                   0.0     0.0     0.0    17.0      0.0      0.0      1.0   \n",
       "4187                   0.0     0.0     0.0     0.0     67.0      0.0      0.0   \n",
       "5187                   0.0     0.0     0.0     1.0      0.0      0.0     10.0   \n",
       "8213                   0.0     0.0     4.0     0.0      0.0      0.0      0.0   \n",
       "9063                   0.0     0.0     0.0     0.0      2.0      0.0      0.0   \n",
       "10242                  0.0     0.0     7.0     0.0      0.0      3.0      0.0   \n",
       "11951                  0.0     3.0     3.0     0.0      0.0      0.0      0.0   \n",
       "14033                  2.0     0.0     1.0     2.0      0.0      3.0      2.0   \n",
       "14552                  0.0     0.0     0.0     1.0      0.0      0.0      0.0   \n",
       "14661                  0.0     2.0     5.0     0.0      1.0      0.0      2.0   \n",
       "14701                  0.0     0.0     0.0     0.0      0.0      0.0      0.0   \n",
       "14778                  0.0     2.0     1.0     8.0      6.0     13.0      8.0   \n",
       "14855                  0.0     0.0     0.0     1.0      0.0      0.0      0.0   \n",
       "17249                  0.0     2.0     0.0     6.0      0.0      0.0      0.0   \n",
       "18190                  0.0     6.0     6.0    16.0     15.0     58.0     67.0   \n",
       "18333                  0.0     6.0     6.0     0.0     10.0      6.0      0.0   \n",
       "18514                  0.0     5.0     0.0     5.0      0.0      0.0      0.0   \n",
       "20072                  0.0     1.0     8.0     1.0     13.0     19.0     24.0   \n",
       "20269                  0.0     4.0     0.0     0.0      0.0      0.0      0.0   \n",
       "20482                  0.0    17.0    11.0    15.0      0.0      0.0      0.0   \n",
       "20605                  0.0     0.0     0.0     3.0      0.0      0.0      0.0   \n",
       "21207                  0.0    16.0     4.0     0.0     29.0     77.0      0.0   \n",
       "21549                  0.0     0.0     0.0     0.0      0.0      0.0      3.0   \n",
       "...                    ...     ...     ...     ...      ...      ...      ...   \n",
       "99968870               0.0     1.0     3.0     0.0      2.0      2.0      6.0   \n",
       "99969451               0.0     0.0     3.0     3.0      3.0      2.0      1.0   \n",
       "99971678               0.0    11.0    14.0     4.0      7.0     10.0      3.0   \n",
       "99973127               1.0    18.0     5.0     1.0     13.0     22.0     16.0   \n",
       "99973285               0.0     0.0     0.0     1.0      0.0      0.0      1.0   \n",
       "99973335               0.0     8.0     0.0     0.0      0.0      0.0      0.0   \n",
       "99974933               0.0     0.0     0.0     8.0      0.0      0.0      4.0   \n",
       "99975677               0.0     0.0    20.0     1.0      0.0      0.0      8.0   \n",
       "99976647               0.0     5.0     3.0     0.0      4.0      5.0      2.0   \n",
       "99976798               0.0    11.0     0.0     0.0      3.0      0.0      0.0   \n",
       "99977491               3.0     0.0     0.0     1.0     24.0     27.0      9.0   \n",
       "99979211               0.0     0.0     0.0     0.0      0.0      0.0      0.0   \n",
       "99979429               0.0     0.0     0.0     0.0      0.0      0.0      0.0   \n",
       "99982956               0.0     0.0     1.0     1.0      0.0      2.0      0.0   \n",
       "99985652               0.0     0.0     0.0     0.0      1.0      0.0      0.0   \n",
       "99985795               0.0     0.0     0.0     0.0      0.0      5.0     22.0   \n",
       "99985996               0.0     0.0     0.0     0.0      0.0     18.0     35.0   \n",
       "99987030               0.0     0.0     0.0    11.0      0.0      2.0      0.0   \n",
       "99987318               0.0     4.0     0.0     0.0      0.0      0.0      0.0   \n",
       "99988469               0.0     4.0     0.0     0.0     24.0      0.0      0.0   \n",
       "99992565               0.0     6.0     0.0    11.0      2.0      0.0      0.0   \n",
       "99993334               0.0     0.0     0.0     3.0      0.0      0.0      4.0   \n",
       "99994536               0.0    12.0     0.0     0.0      2.0      0.0      0.0   \n",
       "99995391               0.0     0.0     1.0     8.0      0.0     14.0     44.0   \n",
       "99995554               0.0    11.0    11.0     0.0      8.0      2.0      0.0   \n",
       "99996214               0.0     0.0     0.0     0.0      0.0      0.0      0.0   \n",
       "99997485               0.0     0.0     0.0     0.0      0.0      0.0      2.0   \n",
       "99997895               0.0    10.0     0.0     0.0      0.0      0.0      0.0   \n",
       "99998627               0.0     5.0     0.0     0.0      1.0      0.0      0.0   \n",
       "99998824               0.0     0.0     5.0     0.0      0.0      0.0      0.0   \n",
       "\n",
       "          ClaimsY1  ClaimsY2  ClaimsY3  claimsy2_bucket_idx  AvgDIHY3  \\\n",
       "MemberID                                                                \n",
       "4              0.0       1.0       0.0                    0  0.071960   \n",
       "210            8.0       6.0       4.0                    1  0.276396   \n",
       "3197           5.0       5.0      11.0                    1  0.276396   \n",
       "3457           0.0       1.0       0.0                    0  0.071960   \n",
       "3713           0.0      10.0       0.0                    2  0.352283   \n",
       "3741           0.0      20.0       0.0                    4  0.551025   \n",
       "3889          13.0       0.0       0.0                    0  0.071960   \n",
       "4048           0.0       0.0      22.0                    0  0.071960   \n",
       "4187           4.0       0.0       0.0                    0  0.071960   \n",
       "5187           0.0       2.0      13.0                    0  0.071960   \n",
       "8213           0.0       3.0       0.0                    0  0.071960   \n",
       "9063           4.0       0.0       0.0                    0  0.071960   \n",
       "10242          0.0      14.0       0.0                    3  0.470410   \n",
       "11951          6.0      11.0       0.0                    2  0.352283   \n",
       "14033          0.0       4.0       8.0                    0  0.071960   \n",
       "14552          0.0       0.0       8.0                    0  0.071960   \n",
       "14661          2.0      12.0       3.0                    2  0.352283   \n",
       "14701          3.0       0.0       0.0                    0  0.071960   \n",
       "14778          6.0       8.0       8.0                    1  0.276396   \n",
       "14855          1.0       0.0       2.0                    0  0.071960   \n",
       "17249          4.0       2.0       4.0                    0  0.071960   \n",
       "18190          8.0      18.0      24.0                    4  0.551025   \n",
       "18333         10.0      10.0       0.0                    2  0.352283   \n",
       "18514          4.0       0.0       4.0                    0  0.071960   \n",
       "20072         15.0      42.0      22.0                    9  1.368167   \n",
       "20269          7.0       0.0       0.0                    0  0.071960   \n",
       "20482         36.0      21.0      44.0                    4  0.551025   \n",
       "20605          0.0       0.0       4.0                    0  0.071960   \n",
       "21207         30.0      16.0       0.0                    3  0.470410   \n",
       "21549          0.0       0.0      10.0                    0  0.071960   \n",
       "...            ...       ...       ...                  ...       ...   \n",
       "99968870       7.0      12.0      15.0                    2  0.352283   \n",
       "99969451       7.0       5.0      11.0                    1  0.276396   \n",
       "99971678       5.0      16.0       8.0                    3  0.470410   \n",
       "99973127      26.0      14.0      11.0                    3  0.470410   \n",
       "99973285       0.0       0.0       2.0                    0  0.071960   \n",
       "99973335       5.0       0.0       2.0                    0  0.071960   \n",
       "99974933       0.0       0.0       5.0                    0  0.071960   \n",
       "99975677       0.0      43.0       4.0                    9  1.368167   \n",
       "99976647       6.0       4.0       3.0                    0  0.071960   \n",
       "99976798       9.0       0.0       0.0                    0  0.071960   \n",
       "99977491       8.0       6.0      14.0                    1  0.276396   \n",
       "99979211       2.0       0.0       0.0                    0  0.071960   \n",
       "99979429       0.0       0.0       2.0                    0  0.071960   \n",
       "99982956       0.0       5.0       2.0                    1  0.276396   \n",
       "99985652       2.0       0.0       0.0                    0  0.071960   \n",
       "99985795       0.0       3.0       2.0                    0  0.071960   \n",
       "99985996       0.0       5.0      18.0                    1  0.276396   \n",
       "99987030       0.0       4.0       8.0                    0  0.071960   \n",
       "99987318       3.0       0.0       0.0                    0  0.071960   \n",
       "99988469      12.0       0.0       0.0                    0  0.071960   \n",
       "99992565       8.0       0.0      25.0                    0  0.071960   \n",
       "99993334       0.0       0.0       2.0                    0  0.071960   \n",
       "99994536       7.0       0.0       0.0                    0  0.071960   \n",
       "99995391       0.0      11.0      34.0                    2  0.352283   \n",
       "99995554      35.0      15.0       0.0                    3  0.470410   \n",
       "99996214       1.0       0.0       0.0                    0  0.071960   \n",
       "99997485       1.0       0.0       2.0                    0  0.071960   \n",
       "99997895      14.0       0.0       0.0                    0  0.071960   \n",
       "99998627      10.0       0.0       0.0                    0  0.071960   \n",
       "99998824       0.0       8.0       0.0                    1  0.276396   \n",
       "\n",
       "          claimsy2_bucket_idx  \n",
       "MemberID                       \n",
       "4                           0  \n",
       "210                         1  \n",
       "3197                        1  \n",
       "3457                        0  \n",
       "3713                        2  \n",
       "3741                        4  \n",
       "3889                        0  \n",
       "4048                        0  \n",
       "4187                        0  \n",
       "5187                        0  \n",
       "8213                        0  \n",
       "9063                        0  \n",
       "10242                       3  \n",
       "11951                       2  \n",
       "14033                       0  \n",
       "14552                       0  \n",
       "14661                       2  \n",
       "14701                       0  \n",
       "14778                       1  \n",
       "14855                       0  \n",
       "17249                       0  \n",
       "18190                       4  \n",
       "18333                       2  \n",
       "18514                       0  \n",
       "20072                       9  \n",
       "20269                       0  \n",
       "20482                       4  \n",
       "20605                       0  \n",
       "21207                       3  \n",
       "21549                       0  \n",
       "...                       ...  \n",
       "99968870                    2  \n",
       "99969451                    1  \n",
       "99971678                    3  \n",
       "99973127                    3  \n",
       "99973285                    0  \n",
       "99973335                    0  \n",
       "99974933                    0  \n",
       "99975677                    9  \n",
       "99976647                    0  \n",
       "99976798                    0  \n",
       "99977491                    1  \n",
       "99979211                    0  \n",
       "99979429                    0  \n",
       "99982956                    1  \n",
       "99985652                    0  \n",
       "99985795                    0  \n",
       "99985996                    1  \n",
       "99987030                    0  \n",
       "99987318                    0  \n",
       "99988469                    0  \n",
       "99992565                    0  \n",
       "99993334                    0  \n",
       "99994536                    0  \n",
       "99995391                    2  \n",
       "99995554                    3  \n",
       "99996214                    0  \n",
       "99997485                    0  \n",
       "99997895                    0  \n",
       "99998627                    0  \n",
       "99998824                    1  \n",
       "\n",
       "[113000 rows x 16 columns]"
      ]
     },
     "execution_count": 41,
     "metadata": {},
     "output_type": "execute_result"
    }
   ],
   "source": [
    "#combined_avg_df = combined_df.join(claims_dih_df, on=\"claimsy2_bucket_idx\", how='inner', rsuffix=\"_1\")\n",
    "combined_avg_df = pysqldf(\"SELECT *  \\\n",
    "        FROM combined_df cd INNER JOIN  claims_dih_df cl \\\n",
    "        ON(cd.claimsy2_bucket_idx = cl.claimsy2_bucket_idx) \\\n",
    "        \")\n",
    "combined_avg_df.set_index(\"MemberID\", inplace=True)\n",
    "combined_avg_df"
   ]
  },
  {
   "cell_type": "markdown",
   "metadata": {},
   "source": [
    "### Split the Target Data and Hide it out\n",
    "The original Kaggle completition had Target.csv which contain the member_ids. The  task was to predict the days_in_hospital for those member_ids. However, since the competition is closed now, we cannot verify our predictions. So, create our own Target (Y2 and Y3) by splitting the dih_y2 and dih_y3."
   ]
  },
  {
   "cell_type": "code",
   "execution_count": 42,
   "metadata": {
    "collapsed": false
   },
   "outputs": [
    {
     "name": "stdout",
     "output_type": "stream",
     "text": [
      "X_train shape:  (47861, 1)\n",
      "X_test shape:  (23574, 1)\n",
      "y_train shape:  (47861,)\n",
      "y_test shape:  (23574,)\n"
     ]
    }
   ],
   "source": [
    "from sklearn.model_selection import train_test_split\n",
    "#First divide DaysInHospital data in train and test \n",
    "dihy3_y = dihy3_flat_df[\"DaysInHospitalY3\"].copy()\n",
    "dihy3_X = dihy3_flat_df.drop(\"DaysInHospitalY3\", axis=1) # drop labels for training set\n",
    "\n",
    "dihy3_X_train, dihy3_X_test, dihy3_ytrain, dihy3_ytest = \\\n",
    "                            train_test_split(dihy3_X, dihy3_y, test_size=0.33, random_state=42)\n",
    "print(\"X_train shape: \", dihy3_X_train.shape)\n",
    "print(\"X_test shape: \", dihy3_X_test.shape)\n",
    "print(\"y_train shape: \", dihy3_ytrain.shape)\n",
    "print(\"y_test shape: \", dihy3_ytest.shape)\n",
    "\n",
    "#Then take inner join with combined_avg_df so that we only get train MemberID in train set \n",
    "#and test MemberID in test set\n",
    "combined_avg_df1_X_test = dihy3_X_test.join(combined_avg_df, on=None, how=\"inner\", rsuffix=\"_2\")\n",
    "combined_avg_df1_X_train = dihy3_X_train.join(combined_avg_df, on=None, how=\"inner\", rsuffix=\"_2\")"
   ]
  },
  {
   "cell_type": "markdown",
   "metadata": {},
   "source": [
    "Our combined_avg_df1_X_test already have prediction column (AvgDIHY3). Lets see how much is the error."
   ]
  },
  {
   "cell_type": "markdown",
   "metadata": {},
   "source": [
    "### Calculate Error\n",
    "The HHP prediction accuracy measure is the log root-mean-squared-error (log RMSE) loss function\n",
    "\n",
    "e=((sum(square(log(pi+1)−log(ai+1)])))/n\n",
    " \n",
    "where\n",
    "\n",
    "i: is a member\n",
    "\n",
    "n: is the total number of members\n",
    "\n",
    "pi: is the predicted number of days spent in the hospital for member i in the test period\n",
    "\n",
    "ai: is the actual number of days spent in the hospital for member  i in the test period."
   ]
  },
  {
   "cell_type": "code",
   "execution_count": 43,
   "metadata": {
    "collapsed": true
   },
   "outputs": [],
   "source": [
    "from sklearn.metrics import mean_squared_error\n",
    "def calc_error(actual, predictions):\n",
    "    return(np.mean(np.square(np.log(predictions+1) - np.log(actual+1))))\n",
    "def calc_rmse(actual, predictions):\n",
    "    mse = mean_squared_error(actual, predictions)\n",
    "    return(np.sqrt(mse))"
   ]
  },
  {
   "cell_type": "code",
   "execution_count": 44,
   "metadata": {
    "collapsed": false
   },
   "outputs": [
    {
     "name": "stdout",
     "output_type": "stream",
     "text": [
      "Error =  0.2436542912261619\n",
      "RMSE =  1.5413890511508508\n"
     ]
    }
   ],
   "source": [
    "predict_avg = np.floor(combined_avg_df1_X_test[\"AvgDIHY3\"])\n",
    "error_avg = calc_error(dihy3_ytest, predict_avg)\n",
    "rmse_avg = calc_rmse(dihy3_ytest, predict_avg)\n",
    "print(\"Error = \", error_avg)\n",
    "print(\"RMSE = \", rmse_avg)"
   ]
  },
  {
   "cell_type": "code",
   "execution_count": 45,
   "metadata": {
    "collapsed": false
   },
   "outputs": [],
   "source": [
    "pairwise = zip (dihy3_ytest, predict_avg)\n",
    "matched = [idx for idx, pair in enumerate(pairwise) if pair[0] == pair[1]]"
   ]
  },
  {
   "cell_type": "code",
   "execution_count": 46,
   "metadata": {
    "collapsed": false
   },
   "outputs": [
    {
     "name": "stdout",
     "output_type": "stream",
     "text": [
      "Accurate =  19058  total =  23574 precentage =  80.84330194281836\n"
     ]
    }
   ],
   "source": [
    "accurate = len(matched)\n",
    "total = len(predict_avg)\n",
    "print(\"Accurate = \", accurate, \" total = \", total, \"precentage = \", accurate*100/total)"
   ]
  },
  {
   "cell_type": "markdown",
   "metadata": {},
   "source": [
    "OK. So, we have very basic model which is not machine learning based and base error coming out of it. Lets try machine learning model. "
   ]
  },
  {
   "cell_type": "markdown",
   "metadata": {},
   "source": [
    "## Create first Machine Learning Model\n",
    "Lets try out RandomForest since it generally works as a base model"
   ]
  },
  {
   "cell_type": "markdown",
   "metadata": {},
   "source": [
    "### Create pipeline\n",
    "Lets consider only numerical inputs for now"
   ]
  },
  {
   "cell_type": "code",
   "execution_count": 47,
   "metadata": {
    "collapsed": true
   },
   "outputs": [],
   "source": [
    "from sklearn.base import BaseEstimator, TransformerMixin\n",
    "\n",
    "# Create a class to select numerical or categorical columns \n",
    "# since Scikit-Learn doesn't handle DataFrames yet\n",
    "class DataFrameSelector(BaseEstimator, TransformerMixin):\n",
    "    def __init__(self, attribute_names):\n",
    "        self.attribute_names = attribute_names\n",
    "    def fit(self, X, y=None):\n",
    "        return self\n",
    "    def transform(self, X):\n",
    "        return X[self.attribute_names].values"
   ]
  },
  {
   "cell_type": "code",
   "execution_count": 48,
   "metadata": {
    "collapsed": false
   },
   "outputs": [],
   "source": [
    "from sklearn.pipeline import Pipeline\n",
    "from sklearn.preprocessing import StandardScaler\n",
    "from sklearn.preprocessing import Imputer\n",
    "\n",
    "num_attribs = [\"ClaimsTruncatedY2\", \"DaysInHospitalY2\", \n",
    "               \"LabsY1\",\"LabsY2\",\n",
    "               \"DrugsY1\",\"DrugsY2\",\n",
    "               \"ClaimsY1\",\"ClaimsY2\"]\n",
    "\n",
    "num_pipeline = Pipeline([\n",
    "        ('selector', DataFrameSelector(num_attribs)),\n",
    "        ('imputer', Imputer(strategy=\"median\")),\n",
    "        #('attribs_adder', CombinedAttributesAdder()),\n",
    "        ('std_scaler', StandardScaler()),\n",
    "    ])\n",
    "\n",
    "X_train_prepared = num_pipeline.fit_transform(combined_avg_df1_X_train)"
   ]
  },
  {
   "cell_type": "code",
   "execution_count": 49,
   "metadata": {
    "collapsed": false
   },
   "outputs": [],
   "source": [
    "from sklearn.model_selection import GridSearchCV\n",
    "from sklearn.model_selection import cross_val_score\n",
    "from sklearn.ensemble import RandomForestRegressor\n",
    "\n",
    "if __avoid_run_heavy_tasks__ == False:\n",
    "    param_grid = [\n",
    "        {'n_estimators': [3, 10, 30], 'max_features': [2, 4, 6, 8]},\n",
    "        {'bootstrap': [False], 'n_estimators': [3, 10], 'max_features': [2, 3, 4]},\n",
    "      ]\n",
    "\n",
    "    forest_reg = RandomForestRegressor(random_state=42)\n",
    "    # train across 5 folds, that's a total of (12+6)*5=90 rounds of training \n",
    "    grid_search = GridSearchCV(forest_reg, param_grid, cv=5,\n",
    "                               scoring='neg_mean_squared_error')\n",
    "    grid_search.fit(X_train_prepared, dihy3_ytrain)\n",
    "    print(grid_search.best_estimator_)\n",
    "    \n",
    "    cvres = grid_search.cv_results_\n",
    "    for accuracy, params in zip(cvres[\"mean_test_score\"], cvres[\"params\"]):\n",
    "        print(accuracy, params)"
   ]
  },
  {
   "cell_type": "code",
   "execution_count": 50,
   "metadata": {
    "collapsed": false
   },
   "outputs": [
    {
     "name": "stdout",
     "output_type": "stream",
     "text": [
      "Error =  0.2717722908121741\n",
      "RMSE =  1.559120273688745\n"
     ]
    }
   ],
   "source": [
    "#final_model = grid_search.best_estimator_\n",
    "final_model = RandomForestRegressor(bootstrap=True, criterion='mse', max_depth=None,\n",
    "           max_features=2, max_leaf_nodes=None, min_impurity_decrease=0.0,\n",
    "           min_impurity_split=None, min_samples_leaf=1,\n",
    "           min_samples_split=2, min_weight_fraction_leaf=0.0,\n",
    "           n_estimators=30, n_jobs=1, oob_score=False, random_state=42,\n",
    "           verbose=0, warm_start=False)\n",
    "final_model.fit(X_train_prepared, dihy3_ytrain)\n",
    "\n",
    "X_test_prepared = num_pipeline.transform(combined_avg_df1_X_test)\n",
    "predict_base_rf = final_model.predict(X_test_prepared)\n",
    "predict_base_rf = np.floor(predict_base_rf)\n",
    "error_base_rf = calc_error(dihy3_ytest, predict_base_rf)\n",
    "rmse_base_rf = calc_rmse(dihy3_ytest, predict_base_rf)\n",
    "print(\"Error = \", error_base_rf)\n",
    "print(\"RMSE = \", rmse_base_rf)\n"
   ]
  },
  {
   "cell_type": "code",
   "execution_count": 51,
   "metadata": {
    "collapsed": false
   },
   "outputs": [
    {
     "name": "stdout",
     "output_type": "stream",
     "text": [
      "Accurate =  18003  total =  23574 precentage =  76.36803257826419\n"
     ]
    }
   ],
   "source": [
    "pairwise = zip (dihy3_ytest, predict_base_rf)\n",
    "matched = [idx for idx, pair in enumerate(pairwise) if pair[0] == pair[1]]\n",
    "accurate = len(matched)\n",
    "total = len(predict_avg)\n",
    "print(\"Accurate = \", accurate, \" total = \", total, \"precentage = \", accurate*100/total)"
   ]
  },
  {
   "cell_type": "code",
   "execution_count": 52,
   "metadata": {
    "collapsed": false
   },
   "outputs": [
    {
     "data": {
      "text/plain": [
       "array([-2.45243823, -2.61456451, -2.89964008, -2.23455588, -2.38395185,\n",
       "       -1.95808435, -2.56335282, -2.62674591, -2.30292151, -2.38951638])"
      ]
     },
     "execution_count": 52,
     "metadata": {},
     "output_type": "execute_result"
    }
   ],
   "source": [
    "kFolds = 10\n",
    "corss_val_base_rf = cross_val_score(final_model, X_train_prepared.astype(np.float32), \\\n",
    "                             dihy3_ytrain,\n",
    "                             scoring=\"neg_mean_squared_error\", cv=kFolds)\n",
    "corss_val_base_rf"
   ]
  },
  {
   "cell_type": "markdown",
   "metadata": {},
   "source": [
    "<b>Summary</b>\n",
    "Error of ML base model is close to basic \"average\" based model. Next step is to do feature engineering to improve the accuracy. "
   ]
  },
  {
   "cell_type": "markdown",
   "metadata": {},
   "source": [
    "## Reporting"
   ]
  },
  {
   "cell_type": "code",
   "execution_count": 53,
   "metadata": {
    "collapsed": false
   },
   "outputs": [
    {
     "data": {
      "text/html": [
       "<div>\n",
       "<style scoped>\n",
       "    .dataframe tbody tr th:only-of-type {\n",
       "        vertical-align: middle;\n",
       "    }\n",
       "\n",
       "    .dataframe tbody tr th {\n",
       "        vertical-align: top;\n",
       "    }\n",
       "\n",
       "    .dataframe thead th {\n",
       "        text-align: right;\n",
       "    }\n",
       "</style>\n",
       "<table border=\"1\" class=\"dataframe\">\n",
       "  <thead>\n",
       "    <tr style=\"text-align: right;\">\n",
       "      <th></th>\n",
       "      <th>Experiment</th>\n",
       "      <th>Error (Test)</th>\n",
       "      <th>RMSE (Test)</th>\n",
       "      <th>p_value</th>\n",
       "      <th>t_score</th>\n",
       "      <th>Experiment description</th>\n",
       "    </tr>\n",
       "  </thead>\n",
       "  <tbody>\n",
       "    <tr>\n",
       "      <th>0</th>\n",
       "      <td>Simple logic based on finding Average for DIH</td>\n",
       "      <td>0.243654</td>\n",
       "      <td>1.541389</td>\n",
       "      <td>not calculated</td>\n",
       "      <td>not calculated</td>\n",
       "      <td>The mean value of DIH is calculated based on h...</td>\n",
       "    </tr>\n",
       "    <tr>\n",
       "      <th>1</th>\n",
       "      <td>Random Forest</td>\n",
       "      <td>0.271772</td>\n",
       "      <td>1.559120</td>\n",
       "      <td>not calculated</td>\n",
       "      <td>not calculated</td>\n",
       "      <td>Only numeric fields which are directly availab...</td>\n",
       "    </tr>\n",
       "  </tbody>\n",
       "</table>\n",
       "</div>"
      ],
      "text/plain": [
       "                                      Experiment  Error (Test)  RMSE (Test)  \\\n",
       "0  Simple logic based on finding Average for DIH      0.243654     1.541389   \n",
       "1                                  Random Forest      0.271772     1.559120   \n",
       "\n",
       "          p_value         t_score  \\\n",
       "0  not calculated  not calculated   \n",
       "1  not calculated  not calculated   \n",
       "\n",
       "                              Experiment description  \n",
       "0  The mean value of DIH is calculated based on h...  \n",
       "1  Only numeric fields which are directly availab...  "
      ]
     },
     "execution_count": 53,
     "metadata": {},
     "output_type": "execute_result"
    }
   ],
   "source": [
    "results_table = pd.DataFrame(columns=[\"Experiment\", \"Error (Test)\", \"RMSE (Test)\", \n",
    "                                \"cross_val_scores\", \"p_value\", \"t_score\", \"Experiment description\", ])\n",
    "results_table.loc[len(results_table)] = [\"Simple logic based on finding Average for DIH\", \n",
    "                             error_avg, rmse_avg,\n",
    "                             [],\"not calculated\", \"not calculated\",  \n",
    "                             'The mean value of DIH is calculated based on histogram of number of claims in y2']\n",
    "results_table.loc[len(results_table)] = [\"Random Forest\", \n",
    "                             error_base_rf, rmse_base_rf,\n",
    "                              corss_val_base_rf,\"not calculated\", \"not calculated\",  \n",
    "                             'Only numeric fields which are directly available in claims, labs and drugs table are used as features']\n",
    "results_table[[\"Experiment\", \"Error (Test)\", \"RMSE (Test)\", \"p_value\", \"t_score\", \"Experiment description\"]]"
   ]
  },
  {
   "cell_type": "markdown",
   "metadata": {
    "collapsed": true
   },
   "source": [
    "# Phase 2"
   ]
  },
  {
   "cell_type": "markdown",
   "metadata": {},
   "source": [
    "## Feature Engineering\n",
    "In the basic pipeline, we have used very few attributes of the data. Lets analyze all the different data fields that are available. "
   ]
  },
  {
   "cell_type": "markdown",
   "metadata": {},
   "source": [
    "### Claims Data - Cleanup numeric values represented as range\n",
    "LengthOfStay, DSFS and CharlsonIndex are numeric values but stored as range. Lets separate out Min and Max values in separate columns"
   ]
  },
  {
   "cell_type": "code",
   "execution_count": 54,
   "metadata": {
    "collapsed": false
   },
   "outputs": [
    {
     "data": {
      "text/html": [
       "<div>\n",
       "<style scoped>\n",
       "    .dataframe tbody tr th:only-of-type {\n",
       "        vertical-align: middle;\n",
       "    }\n",
       "\n",
       "    .dataframe tbody tr th {\n",
       "        vertical-align: top;\n",
       "    }\n",
       "\n",
       "    .dataframe thead th {\n",
       "        text-align: right;\n",
       "    }\n",
       "</style>\n",
       "<table border=\"1\" class=\"dataframe\">\n",
       "  <thead>\n",
       "    <tr style=\"text-align: right;\">\n",
       "      <th></th>\n",
       "      <th>MemberID</th>\n",
       "      <th>ProviderID</th>\n",
       "      <th>Vendor</th>\n",
       "      <th>PCP</th>\n",
       "      <th>Year</th>\n",
       "      <th>Specialty</th>\n",
       "      <th>PlaceSvc</th>\n",
       "      <th>PayDelay</th>\n",
       "      <th>LengthOfStay</th>\n",
       "      <th>DSFS</th>\n",
       "      <th>PrimaryConditionGroup</th>\n",
       "      <th>CharlsonIndex</th>\n",
       "      <th>ProcedureGroup</th>\n",
       "      <th>SupLOS</th>\n",
       "    </tr>\n",
       "  </thead>\n",
       "  <tbody>\n",
       "    <tr>\n",
       "      <th>0</th>\n",
       "      <td>42286978</td>\n",
       "      <td>8013252.0</td>\n",
       "      <td>172193.0</td>\n",
       "      <td>37796.0</td>\n",
       "      <td>Y1</td>\n",
       "      <td>Surgery</td>\n",
       "      <td>Office</td>\n",
       "      <td>28</td>\n",
       "      <td>NaN</td>\n",
       "      <td>8- 9 months</td>\n",
       "      <td>NEUMENT</td>\n",
       "      <td>0</td>\n",
       "      <td>MED</td>\n",
       "      <td>0</td>\n",
       "    </tr>\n",
       "    <tr>\n",
       "      <th>1</th>\n",
       "      <td>97903248</td>\n",
       "      <td>3316066.0</td>\n",
       "      <td>726296.0</td>\n",
       "      <td>5300.0</td>\n",
       "      <td>Y3</td>\n",
       "      <td>Internal</td>\n",
       "      <td>Office</td>\n",
       "      <td>50</td>\n",
       "      <td>NaN</td>\n",
       "      <td>7- 8 months</td>\n",
       "      <td>NEUMENT</td>\n",
       "      <td>1-2</td>\n",
       "      <td>EM</td>\n",
       "      <td>0</td>\n",
       "    </tr>\n",
       "  </tbody>\n",
       "</table>\n",
       "</div>"
      ],
      "text/plain": [
       "   MemberID  ProviderID    Vendor      PCP Year Specialty PlaceSvc PayDelay  \\\n",
       "0  42286978   8013252.0  172193.0  37796.0   Y1   Surgery   Office       28   \n",
       "1  97903248   3316066.0  726296.0   5300.0   Y3  Internal   Office       50   \n",
       "\n",
       "  LengthOfStay         DSFS PrimaryConditionGroup CharlsonIndex  \\\n",
       "0          NaN  8- 9 months               NEUMENT             0   \n",
       "1          NaN  7- 8 months               NEUMENT           1-2   \n",
       "\n",
       "  ProcedureGroup  SupLOS  \n",
       "0            MED       0  \n",
       "1             EM       0  "
      ]
     },
     "execution_count": 54,
     "metadata": {},
     "output_type": "execute_result"
    }
   ],
   "source": [
    "claims_df.head(2)"
   ]
  },
  {
   "cell_type": "code",
   "execution_count": 55,
   "metadata": {
    "collapsed": false
   },
   "outputs": [],
   "source": [
    "#Cleanup the numerical columns first\n",
    "#DSFS - DSFSMin, DSFSMax\n",
    "#CharlsonIndex - CharlsonIndexMin, CharlsonIndexMax\n",
    "\n",
    "def apply_and_concat(dataframe, field, func, column_names):\n",
    "    return pd.concat((\n",
    "        dataframe,\n",
    "        dataframe[field].apply(\n",
    "            lambda cell: pd.Series(func(cell), index=column_names))), axis=1)\n",
    "\n",
    "def dsfs_min(strdsfs):\n",
    "    try:\n",
    "        if len(strdsfs) > 0:\n",
    "            strdsfs = strdsfs.replace(\"months\", \"\")\n",
    "            strdsfs = strdsfs.replace(\"month\", \"\")\n",
    "            parts = strdsfs.split(\"-\")\n",
    "            parts = [ int(x) for x in parts ]\n",
    "            return parts[0]\n",
    "        else:\n",
    "            return(0)\n",
    "    except:\n",
    "        return(0)\n",
    "    \n",
    "def dsfs_max(strdsfs):\n",
    "    try:\n",
    "        if len(strdsfs) > 0:\n",
    "            strdsfs = strdsfs.replace(\"months\", \"\")\n",
    "            strdsfs = strdsfs.replace(\"month\", \"\")\n",
    "            parts = strdsfs.split(\"-\")\n",
    "            parts = [ int(x) for x in parts ]\n",
    "            return parts[1]\n",
    "        else:\n",
    "            return(0)\n",
    "    except:\n",
    "        return(0)\n",
    "    \n",
    "def CharlsonIndex_min(strc):\n",
    "    try:\n",
    "        if len(strdsfs) > 0:\n",
    "            parts = strc.split(\"-\")\n",
    "            parts = [ int(x) for x in parts ]\n",
    "            return parts[0]\n",
    "        else:\n",
    "            return(0)\n",
    "    except:\n",
    "        return(0)\n",
    "\n",
    "def CharlsonIndex_max(strc):\n",
    "    try:\n",
    "        if len(strc) > 0:\n",
    "            parts = strc.split(\"-\")\n",
    "            if len(parts) > 1:\n",
    "                return int(parts[1])\n",
    "            else:\n",
    "                return 0\n",
    "        else:\n",
    "            return(0)\n",
    "    except:\n",
    "        return(0)\n",
    "\n",
    "\n",
    "#apply_and_concat(claims_df, 'DSFS', dsfs_min_max, ['DSFSMin', 'DSFSMax'])\n",
    "\n",
    "claims_df[\"DSFSMin\"] = claims_df['DSFS'].apply(dsfs_min)\n",
    "claims_df[\"DSFSMax\"] = claims_df['DSFS'].apply(dsfs_max)\n",
    "claims_df[\"CharlsonIndexMin\"] = claims_df['CharlsonIndex'].apply(CharlsonIndex_min)\n",
    "claims_df[\"CharlsonIndexMax\"] = claims_df['CharlsonIndex'].apply(CharlsonIndex_max)\n"
   ]
  },
  {
   "cell_type": "code",
   "execution_count": 56,
   "metadata": {
    "collapsed": false
   },
   "outputs": [
    {
     "data": {
      "text/plain": [
       "array([nan, '1 day', '2- 4 weeks', '2 days', '3 days', '4 days',\n",
       "       '1- 2 weeks', '4- 8 weeks', '6 days', '5 days', '26+ weeks'],\n",
       "      dtype=object)"
      ]
     },
     "execution_count": 56,
     "metadata": {},
     "output_type": "execute_result"
    }
   ],
   "source": [
    "claims_df[\"LengthOfStay\"].unique()"
   ]
  },
  {
   "cell_type": "code",
   "execution_count": 57,
   "metadata": {
    "collapsed": false
   },
   "outputs": [],
   "source": [
    "def LengthOfStay_max(strc):\n",
    "    if strc == \"1 day\":\n",
    "        return 1\n",
    "    elif strc == \"2- 4 weeks\":\n",
    "        return 4 * 7\n",
    "    elif strc == \"2 days\":\n",
    "        return 2\n",
    "    elif strc == \"3 days\":\n",
    "        return 3\n",
    "    elif strc == \"4 days\":\n",
    "        return 4\n",
    "    elif strc == \"1- 2 weeks\":\n",
    "        return 14\n",
    "    elif strc == \"4- 8 weeks\":\n",
    "        return 56\n",
    "    elif strc == \"6 days\":\n",
    "        return 6\n",
    "    elif strc == \"5 days\":\n",
    "        return 5\n",
    "    elif strc == \"26+ weeks\":\n",
    "        return 30*7\n",
    "    return 0\n",
    "\n",
    "def LengthOfStay_min(strc):\n",
    "    if strc == \"1 day\":\n",
    "        return 1\n",
    "    elif strc == \"2- 4 weeks\":\n",
    "        return 2 * 7\n",
    "    elif strc == \"2 days\":\n",
    "        return 2\n",
    "    elif strc == \"3 days\":\n",
    "        return 3\n",
    "    elif strc == \"4 days\":\n",
    "        return 4\n",
    "    elif strc == \"1- 2 weeks\":\n",
    "        return 7\n",
    "    elif strc == \"4- 8 weeks\":\n",
    "        return 28\n",
    "    elif strc == \"6 days\":\n",
    "        return 6\n",
    "    elif strc == \"5 days\":\n",
    "        return 5\n",
    "    elif strc == \"26+ weeks\":\n",
    "        return 26*7\n",
    "    return 0"
   ]
  },
  {
   "cell_type": "code",
   "execution_count": 58,
   "metadata": {
    "collapsed": true
   },
   "outputs": [],
   "source": [
    "claims_df[\"LengthOfStayMin\"] = claims_df['LengthOfStay'].apply(LengthOfStay_min)\n",
    "claims_df[\"LengthOfStayMax\"] = claims_df['LengthOfStay'].apply(LengthOfStay_max)"
   ]
  },
  {
   "cell_type": "code",
   "execution_count": 59,
   "metadata": {
    "collapsed": false
   },
   "outputs": [
    {
     "data": {
      "text/html": [
       "<div>\n",
       "<style scoped>\n",
       "    .dataframe tbody tr th:only-of-type {\n",
       "        vertical-align: middle;\n",
       "    }\n",
       "\n",
       "    .dataframe tbody tr th {\n",
       "        vertical-align: top;\n",
       "    }\n",
       "\n",
       "    .dataframe thead th {\n",
       "        text-align: right;\n",
       "    }\n",
       "</style>\n",
       "<table border=\"1\" class=\"dataframe\">\n",
       "  <thead>\n",
       "    <tr style=\"text-align: right;\">\n",
       "      <th></th>\n",
       "      <th>MemberID</th>\n",
       "      <th>ProviderID</th>\n",
       "      <th>Vendor</th>\n",
       "      <th>PCP</th>\n",
       "      <th>Year</th>\n",
       "      <th>Specialty</th>\n",
       "      <th>PlaceSvc</th>\n",
       "      <th>PayDelay</th>\n",
       "      <th>LengthOfStay</th>\n",
       "      <th>DSFS</th>\n",
       "      <th>PrimaryConditionGroup</th>\n",
       "      <th>CharlsonIndex</th>\n",
       "      <th>ProcedureGroup</th>\n",
       "      <th>SupLOS</th>\n",
       "      <th>DSFSMin</th>\n",
       "      <th>DSFSMax</th>\n",
       "      <th>CharlsonIndexMin</th>\n",
       "      <th>CharlsonIndexMax</th>\n",
       "      <th>LengthOfStayMin</th>\n",
       "      <th>LengthOfStayMax</th>\n",
       "    </tr>\n",
       "  </thead>\n",
       "  <tbody>\n",
       "    <tr>\n",
       "      <th>0</th>\n",
       "      <td>42286978</td>\n",
       "      <td>8013252.0</td>\n",
       "      <td>172193.0</td>\n",
       "      <td>37796.0</td>\n",
       "      <td>Y1</td>\n",
       "      <td>Surgery</td>\n",
       "      <td>Office</td>\n",
       "      <td>28</td>\n",
       "      <td>NaN</td>\n",
       "      <td>8- 9 months</td>\n",
       "      <td>NEUMENT</td>\n",
       "      <td>0</td>\n",
       "      <td>MED</td>\n",
       "      <td>0</td>\n",
       "      <td>8</td>\n",
       "      <td>9</td>\n",
       "      <td>0</td>\n",
       "      <td>0</td>\n",
       "      <td>0</td>\n",
       "      <td>0</td>\n",
       "    </tr>\n",
       "    <tr>\n",
       "      <th>1</th>\n",
       "      <td>97903248</td>\n",
       "      <td>3316066.0</td>\n",
       "      <td>726296.0</td>\n",
       "      <td>5300.0</td>\n",
       "      <td>Y3</td>\n",
       "      <td>Internal</td>\n",
       "      <td>Office</td>\n",
       "      <td>50</td>\n",
       "      <td>NaN</td>\n",
       "      <td>7- 8 months</td>\n",
       "      <td>NEUMENT</td>\n",
       "      <td>1-2</td>\n",
       "      <td>EM</td>\n",
       "      <td>0</td>\n",
       "      <td>7</td>\n",
       "      <td>8</td>\n",
       "      <td>0</td>\n",
       "      <td>2</td>\n",
       "      <td>0</td>\n",
       "      <td>0</td>\n",
       "    </tr>\n",
       "    <tr>\n",
       "      <th>2</th>\n",
       "      <td>2759427</td>\n",
       "      <td>2997752.0</td>\n",
       "      <td>140343.0</td>\n",
       "      <td>91972.0</td>\n",
       "      <td>Y3</td>\n",
       "      <td>Internal</td>\n",
       "      <td>Office</td>\n",
       "      <td>14</td>\n",
       "      <td>NaN</td>\n",
       "      <td>0- 1 month</td>\n",
       "      <td>METAB3</td>\n",
       "      <td>0</td>\n",
       "      <td>EM</td>\n",
       "      <td>0</td>\n",
       "      <td>0</td>\n",
       "      <td>1</td>\n",
       "      <td>0</td>\n",
       "      <td>0</td>\n",
       "      <td>0</td>\n",
       "      <td>0</td>\n",
       "    </tr>\n",
       "    <tr>\n",
       "      <th>3</th>\n",
       "      <td>73570559</td>\n",
       "      <td>7053364.0</td>\n",
       "      <td>240043.0</td>\n",
       "      <td>70119.0</td>\n",
       "      <td>Y3</td>\n",
       "      <td>Laboratory</td>\n",
       "      <td>Independent Lab</td>\n",
       "      <td>24</td>\n",
       "      <td>NaN</td>\n",
       "      <td>5- 6 months</td>\n",
       "      <td>METAB3</td>\n",
       "      <td>1-2</td>\n",
       "      <td>SCS</td>\n",
       "      <td>0</td>\n",
       "      <td>5</td>\n",
       "      <td>6</td>\n",
       "      <td>0</td>\n",
       "      <td>2</td>\n",
       "      <td>0</td>\n",
       "      <td>0</td>\n",
       "    </tr>\n",
       "    <tr>\n",
       "      <th>4</th>\n",
       "      <td>11837054</td>\n",
       "      <td>7557061.0</td>\n",
       "      <td>496247.0</td>\n",
       "      <td>68968.0</td>\n",
       "      <td>Y2</td>\n",
       "      <td>Surgery</td>\n",
       "      <td>Outpatient Hospital</td>\n",
       "      <td>27</td>\n",
       "      <td>NaN</td>\n",
       "      <td>4- 5 months</td>\n",
       "      <td>FXDISLC</td>\n",
       "      <td>1-2</td>\n",
       "      <td>EM</td>\n",
       "      <td>0</td>\n",
       "      <td>4</td>\n",
       "      <td>5</td>\n",
       "      <td>0</td>\n",
       "      <td>2</td>\n",
       "      <td>0</td>\n",
       "      <td>0</td>\n",
       "    </tr>\n",
       "  </tbody>\n",
       "</table>\n",
       "</div>"
      ],
      "text/plain": [
       "   MemberID  ProviderID    Vendor      PCP Year   Specialty  \\\n",
       "0  42286978   8013252.0  172193.0  37796.0   Y1     Surgery   \n",
       "1  97903248   3316066.0  726296.0   5300.0   Y3    Internal   \n",
       "2   2759427   2997752.0  140343.0  91972.0   Y3    Internal   \n",
       "3  73570559   7053364.0  240043.0  70119.0   Y3  Laboratory   \n",
       "4  11837054   7557061.0  496247.0  68968.0   Y2     Surgery   \n",
       "\n",
       "              PlaceSvc PayDelay LengthOfStay         DSFS  \\\n",
       "0               Office       28          NaN  8- 9 months   \n",
       "1               Office       50          NaN  7- 8 months   \n",
       "2               Office       14          NaN   0- 1 month   \n",
       "3      Independent Lab       24          NaN  5- 6 months   \n",
       "4  Outpatient Hospital       27          NaN  4- 5 months   \n",
       "\n",
       "  PrimaryConditionGroup CharlsonIndex ProcedureGroup  SupLOS  DSFSMin  \\\n",
       "0               NEUMENT             0            MED       0        8   \n",
       "1               NEUMENT           1-2             EM       0        7   \n",
       "2                METAB3             0             EM       0        0   \n",
       "3                METAB3           1-2            SCS       0        5   \n",
       "4               FXDISLC           1-2             EM       0        4   \n",
       "\n",
       "   DSFSMax  CharlsonIndexMin  CharlsonIndexMax  LengthOfStayMin  \\\n",
       "0        9                 0                 0                0   \n",
       "1        8                 0                 2                0   \n",
       "2        1                 0                 0                0   \n",
       "3        6                 0                 2                0   \n",
       "4        5                 0                 2                0   \n",
       "\n",
       "   LengthOfStayMax  \n",
       "0                0  \n",
       "1                0  \n",
       "2                0  \n",
       "3                0  \n",
       "4                0  "
      ]
     },
     "execution_count": 59,
     "metadata": {},
     "output_type": "execute_result"
    }
   ],
   "source": [
    "claims_df.head(5)"
   ]
  },
  {
   "cell_type": "markdown",
   "metadata": {},
   "source": [
    "### Claims Data - Categorical Columns and One Hot Encoding\n",
    "Lets use simple SQL to convert categorical values into individual column and also sum them up by MemberID and Year"
   ]
  },
  {
   "cell_type": "code",
   "execution_count": 60,
   "metadata": {
    "collapsed": false
   },
   "outputs": [
    {
     "name": "stdout",
     "output_type": "stream",
     "text": [
      "Specialty : ['Surgery' 'Internal' 'Laboratory' 'Pediatrics' 'Rehabilitation'\n",
      " 'Diagnostic Imaging' 'Anesthesiology' 'Emergency' 'General Practice'\n",
      " 'Other' 'Obstetrics and Gynecology' 'Pathology' nan]\n",
      "PlaceSvc : ['Office' 'Independent Lab' 'Outpatient Hospital' 'Inpatient Hospital'\n",
      " 'Urgent Care' 'Ambulance' 'Home' nan 'Other']\n",
      "PrimaryConditionGroup : ['NEUMENT' 'METAB3' 'FXDISLC' 'TRAUMA' 'RESPR4' 'INFEC4' 'MISCHRT'\n",
      " 'ARTHSPIN' 'ROAMI' 'HEART2' 'MSC2a3' 'PNEUM' 'MISCL5' 'GIOBSENT' 'RENAL3'\n",
      " 'GYNEC1' 'AMI' 'UTI' 'COPD' 'GIBLEED' 'HIPFX' 'SKNAUT' 'CANCRB' 'SEIZURE'\n",
      " 'CHF' 'PRGNCY' 'METAB1' 'HEART4' 'ODaBNCA' 'HEMTOL' 'GYNECA' 'APPCHOL'\n",
      " 'MISCL1' 'RENAL2' nan 'STROKE' 'PERVALV' 'CANCRA' 'CATAST' 'FLaELEC'\n",
      " 'SEPSIS' 'LIVERDZ' 'PNCRDZ' 'RENAL1' 'CANCRM' 'PERINTL']\n",
      "ProcedureGroup : ['MED' 'EM' 'SCS' 'RAD' 'ANES' 'SDS' 'PL' 'SIS' 'SMS' 'SGS' 'SEOA' 'SNS'\n",
      " nan 'SAS' 'SRS' 'SUS' 'SO' 'SMCD']\n"
     ]
    }
   ],
   "source": [
    "#Lets find distinct values of Specialty, PlaceSvc, DSFS, \n",
    "#PrimaryConditionGroup, CharlsOnIndex, ProcedureGroup\n",
    "cat_cols = [\"Specialty\", \"PlaceSvc\", \"PrimaryConditionGroup\", \"ProcedureGroup\"]\n",
    "unique_vals = dict()\n",
    "for cat_col in cat_cols:\n",
    "    unique_vals[cat_col] = claims_df[cat_col].unique()\n",
    "    print(cat_col, \":\", unique_vals[cat_col])\n"
   ]
  },
  {
   "cell_type": "markdown",
   "metadata": {},
   "source": [
    "<B>One hot Encoding using SQL - </B>\n",
    "Generage Query like below:\n",
    "\n",
    "sum(case when Specialty = 'Surgery' then 1 else 0 end) as spl_surgery, \\\n",
    "sum(case when Specialty = 'Internal' then 1 else 0 end) as spl_internal\n",
    "                              "
   ]
  },
  {
   "cell_type": "code",
   "execution_count": 61,
   "metadata": {
    "collapsed": false
   },
   "outputs": [
    {
     "name": "stdout",
     "output_type": "stream",
     "text": [
      "SELECT MemberID, Year, COUNT(DISTINCT ProviderID) as ProviderCount, COUNT(DISTINCT Vendor) as VendorCount, MIN(PCP) as MinPCP, MAX(PCP) as MaxPCP, AVG(PCP) as AvgPCP, MIN(LengthOfStayMin) as MinLengthOfStayMin, MAX(LengthOfStayMin) as MaxLengthOfStayMin, AVG(LengthOfStayMin) as AvgLengthOfStayMin,MIN(LengthOfStayMax) as MinLengthOfStayMax, MAX(LengthOfStayMax) as MaxLengthOfStayMax, AVG(LengthOfStayMax) as AvgLengthOfStayMax,MIN(DSFSMin) as MinDSFSMin, MAX(DSFSMin) as MaxDSFSMin, AVG(DSFSMin) as AvgDSFSMin,MIN(DSFSMax) as MinDSFSMax, MAX(DSFSMax) as MaxDSFSMax, AVG(DSFSMax) as AvgDSFSMax,MIN(CharlsonIndexMin) as MinCharlsonIndexMin, MAX(CharlsonIndexMin) as MaxCharlsonIndexMin, AVG(CharlsonIndexMin) as AvgCharlsonIndexMin,MIN(CharlsonIndexMax) as MinCharlsonIndexMax, MAX(CharlsonIndexMax) as MaxCharlsonIndexMax, AVG(CharlsonIndexMax) as AvgCharlsonIndexMax ,SUM(CASE WHEN Specialty = 'Surgery' THEN 1 ELSE 0 END) AS Specialty_Surgery,SUM(CASE WHEN Specialty = 'Internal' THEN 1 ELSE 0 END) AS Specialty_Internal,SUM(CASE WHEN Specialty = 'Laboratory' THEN 1 ELSE 0 END) AS Specialty_Laboratory,SUM(CASE WHEN Specialty = 'Pediatrics' THEN 1 ELSE 0 END) AS Specialty_Pediatrics,SUM(CASE WHEN Specialty = 'Rehabilitation' THEN 1 ELSE 0 END) AS Specialty_Rehabilitation,SUM(CASE WHEN Specialty = 'DiagnosticImaging' THEN 1 ELSE 0 END) AS Specialty_DiagnosticImaging,SUM(CASE WHEN Specialty = 'Anesthesiology' THEN 1 ELSE 0 END) AS Specialty_Anesthesiology,SUM(CASE WHEN Specialty = 'Emergency' THEN 1 ELSE 0 END) AS Specialty_Emergency,SUM(CASE WHEN Specialty = 'GeneralPractice' THEN 1 ELSE 0 END) AS Specialty_GeneralPractice,SUM(CASE WHEN Specialty = 'Other' THEN 1 ELSE 0 END) AS Specialty_Other,SUM(CASE WHEN Specialty = 'ObstetricsandGynecology' THEN 1 ELSE 0 END) AS Specialty_ObstetricsandGynecology,SUM(CASE WHEN Specialty = 'Pathology' THEN 1 ELSE 0 END) AS Specialty_Pathology,SUM(CASE WHEN Specialty = 'nan' THEN 1 ELSE 0 END) AS Specialty_nan,SUM(CASE WHEN PlaceSvc = 'Office' THEN 1 ELSE 0 END) AS PlaceSvc_Office,SUM(CASE WHEN PlaceSvc = 'IndependentLab' THEN 1 ELSE 0 END) AS PlaceSvc_IndependentLab,SUM(CASE WHEN PlaceSvc = 'OutpatientHospital' THEN 1 ELSE 0 END) AS PlaceSvc_OutpatientHospital,SUM(CASE WHEN PlaceSvc = 'InpatientHospital' THEN 1 ELSE 0 END) AS PlaceSvc_InpatientHospital,SUM(CASE WHEN PlaceSvc = 'UrgentCare' THEN 1 ELSE 0 END) AS PlaceSvc_UrgentCare,SUM(CASE WHEN PlaceSvc = 'Ambulance' THEN 1 ELSE 0 END) AS PlaceSvc_Ambulance,SUM(CASE WHEN PlaceSvc = 'Home' THEN 1 ELSE 0 END) AS PlaceSvc_Home,SUM(CASE WHEN PlaceSvc = 'nan' THEN 1 ELSE 0 END) AS PlaceSvc_nan,SUM(CASE WHEN PlaceSvc = 'Other' THEN 1 ELSE 0 END) AS PlaceSvc_Other,SUM(CASE WHEN PrimaryConditionGroup = 'NEUMENT' THEN 1 ELSE 0 END) AS PrimaryConditionGroup_NEUMENT,SUM(CASE WHEN PrimaryConditionGroup = 'METAB3' THEN 1 ELSE 0 END) AS PrimaryConditionGroup_METAB3,SUM(CASE WHEN PrimaryConditionGroup = 'FXDISLC' THEN 1 ELSE 0 END) AS PrimaryConditionGroup_FXDISLC,SUM(CASE WHEN PrimaryConditionGroup = 'TRAUMA' THEN 1 ELSE 0 END) AS PrimaryConditionGroup_TRAUMA,SUM(CASE WHEN PrimaryConditionGroup = 'RESPR4' THEN 1 ELSE 0 END) AS PrimaryConditionGroup_RESPR4,SUM(CASE WHEN PrimaryConditionGroup = 'INFEC4' THEN 1 ELSE 0 END) AS PrimaryConditionGroup_INFEC4,SUM(CASE WHEN PrimaryConditionGroup = 'MISCHRT' THEN 1 ELSE 0 END) AS PrimaryConditionGroup_MISCHRT,SUM(CASE WHEN PrimaryConditionGroup = 'ARTHSPIN' THEN 1 ELSE 0 END) AS PrimaryConditionGroup_ARTHSPIN,SUM(CASE WHEN PrimaryConditionGroup = 'ROAMI' THEN 1 ELSE 0 END) AS PrimaryConditionGroup_ROAMI,SUM(CASE WHEN PrimaryConditionGroup = 'HEART2' THEN 1 ELSE 0 END) AS PrimaryConditionGroup_HEART2,SUM(CASE WHEN PrimaryConditionGroup = 'MSC2a3' THEN 1 ELSE 0 END) AS PrimaryConditionGroup_MSC2a3,SUM(CASE WHEN PrimaryConditionGroup = 'PNEUM' THEN 1 ELSE 0 END) AS PrimaryConditionGroup_PNEUM,SUM(CASE WHEN PrimaryConditionGroup = 'MISCL5' THEN 1 ELSE 0 END) AS PrimaryConditionGroup_MISCL5,SUM(CASE WHEN PrimaryConditionGroup = 'GIOBSENT' THEN 1 ELSE 0 END) AS PrimaryConditionGroup_GIOBSENT,SUM(CASE WHEN PrimaryConditionGroup = 'RENAL3' THEN 1 ELSE 0 END) AS PrimaryConditionGroup_RENAL3,SUM(CASE WHEN PrimaryConditionGroup = 'GYNEC1' THEN 1 ELSE 0 END) AS PrimaryConditionGroup_GYNEC1,SUM(CASE WHEN PrimaryConditionGroup = 'AMI' THEN 1 ELSE 0 END) AS PrimaryConditionGroup_AMI,SUM(CASE WHEN PrimaryConditionGroup = 'UTI' THEN 1 ELSE 0 END) AS PrimaryConditionGroup_UTI,SUM(CASE WHEN PrimaryConditionGroup = 'COPD' THEN 1 ELSE 0 END) AS PrimaryConditionGroup_COPD,SUM(CASE WHEN PrimaryConditionGroup = 'GIBLEED' THEN 1 ELSE 0 END) AS PrimaryConditionGroup_GIBLEED,SUM(CASE WHEN PrimaryConditionGroup = 'HIPFX' THEN 1 ELSE 0 END) AS PrimaryConditionGroup_HIPFX,SUM(CASE WHEN PrimaryConditionGroup = 'SKNAUT' THEN 1 ELSE 0 END) AS PrimaryConditionGroup_SKNAUT,SUM(CASE WHEN PrimaryConditionGroup = 'CANCRB' THEN 1 ELSE 0 END) AS PrimaryConditionGroup_CANCRB,SUM(CASE WHEN PrimaryConditionGroup = 'SEIZURE' THEN 1 ELSE 0 END) AS PrimaryConditionGroup_SEIZURE,SUM(CASE WHEN PrimaryConditionGroup = 'CHF' THEN 1 ELSE 0 END) AS PrimaryConditionGroup_CHF,SUM(CASE WHEN PrimaryConditionGroup = 'PRGNCY' THEN 1 ELSE 0 END) AS PrimaryConditionGroup_PRGNCY,SUM(CASE WHEN PrimaryConditionGroup = 'METAB1' THEN 1 ELSE 0 END) AS PrimaryConditionGroup_METAB1,SUM(CASE WHEN PrimaryConditionGroup = 'HEART4' THEN 1 ELSE 0 END) AS PrimaryConditionGroup_HEART4,SUM(CASE WHEN PrimaryConditionGroup = 'ODaBNCA' THEN 1 ELSE 0 END) AS PrimaryConditionGroup_ODaBNCA,SUM(CASE WHEN PrimaryConditionGroup = 'HEMTOL' THEN 1 ELSE 0 END) AS PrimaryConditionGroup_HEMTOL,SUM(CASE WHEN PrimaryConditionGroup = 'GYNECA' THEN 1 ELSE 0 END) AS PrimaryConditionGroup_GYNECA,SUM(CASE WHEN PrimaryConditionGroup = 'APPCHOL' THEN 1 ELSE 0 END) AS PrimaryConditionGroup_APPCHOL,SUM(CASE WHEN PrimaryConditionGroup = 'MISCL1' THEN 1 ELSE 0 END) AS PrimaryConditionGroup_MISCL1,SUM(CASE WHEN PrimaryConditionGroup = 'RENAL2' THEN 1 ELSE 0 END) AS PrimaryConditionGroup_RENAL2,SUM(CASE WHEN PrimaryConditionGroup = 'nan' THEN 1 ELSE 0 END) AS PrimaryConditionGroup_nan,SUM(CASE WHEN PrimaryConditionGroup = 'STROKE' THEN 1 ELSE 0 END) AS PrimaryConditionGroup_STROKE,SUM(CASE WHEN PrimaryConditionGroup = 'PERVALV' THEN 1 ELSE 0 END) AS PrimaryConditionGroup_PERVALV,SUM(CASE WHEN PrimaryConditionGroup = 'CANCRA' THEN 1 ELSE 0 END) AS PrimaryConditionGroup_CANCRA,SUM(CASE WHEN PrimaryConditionGroup = 'CATAST' THEN 1 ELSE 0 END) AS PrimaryConditionGroup_CATAST,SUM(CASE WHEN PrimaryConditionGroup = 'FLaELEC' THEN 1 ELSE 0 END) AS PrimaryConditionGroup_FLaELEC,SUM(CASE WHEN PrimaryConditionGroup = 'SEPSIS' THEN 1 ELSE 0 END) AS PrimaryConditionGroup_SEPSIS,SUM(CASE WHEN PrimaryConditionGroup = 'LIVERDZ' THEN 1 ELSE 0 END) AS PrimaryConditionGroup_LIVERDZ,SUM(CASE WHEN PrimaryConditionGroup = 'PNCRDZ' THEN 1 ELSE 0 END) AS PrimaryConditionGroup_PNCRDZ,SUM(CASE WHEN PrimaryConditionGroup = 'RENAL1' THEN 1 ELSE 0 END) AS PrimaryConditionGroup_RENAL1,SUM(CASE WHEN PrimaryConditionGroup = 'CANCRM' THEN 1 ELSE 0 END) AS PrimaryConditionGroup_CANCRM,SUM(CASE WHEN PrimaryConditionGroup = 'PERINTL' THEN 1 ELSE 0 END) AS PrimaryConditionGroup_PERINTL,SUM(CASE WHEN ProcedureGroup = 'MED' THEN 1 ELSE 0 END) AS ProcedureGroup_MED,SUM(CASE WHEN ProcedureGroup = 'EM' THEN 1 ELSE 0 END) AS ProcedureGroup_EM,SUM(CASE WHEN ProcedureGroup = 'SCS' THEN 1 ELSE 0 END) AS ProcedureGroup_SCS,SUM(CASE WHEN ProcedureGroup = 'RAD' THEN 1 ELSE 0 END) AS ProcedureGroup_RAD,SUM(CASE WHEN ProcedureGroup = 'ANES' THEN 1 ELSE 0 END) AS ProcedureGroup_ANES,SUM(CASE WHEN ProcedureGroup = 'SDS' THEN 1 ELSE 0 END) AS ProcedureGroup_SDS,SUM(CASE WHEN ProcedureGroup = 'PL' THEN 1 ELSE 0 END) AS ProcedureGroup_PL,SUM(CASE WHEN ProcedureGroup = 'SIS' THEN 1 ELSE 0 END) AS ProcedureGroup_SIS,SUM(CASE WHEN ProcedureGroup = 'SMS' THEN 1 ELSE 0 END) AS ProcedureGroup_SMS,SUM(CASE WHEN ProcedureGroup = 'SGS' THEN 1 ELSE 0 END) AS ProcedureGroup_SGS,SUM(CASE WHEN ProcedureGroup = 'SEOA' THEN 1 ELSE 0 END) AS ProcedureGroup_SEOA,SUM(CASE WHEN ProcedureGroup = 'SNS' THEN 1 ELSE 0 END) AS ProcedureGroup_SNS,SUM(CASE WHEN ProcedureGroup = 'nan' THEN 1 ELSE 0 END) AS ProcedureGroup_nan,SUM(CASE WHEN ProcedureGroup = 'SAS' THEN 1 ELSE 0 END) AS ProcedureGroup_SAS,SUM(CASE WHEN ProcedureGroup = 'SRS' THEN 1 ELSE 0 END) AS ProcedureGroup_SRS,SUM(CASE WHEN ProcedureGroup = 'SUS' THEN 1 ELSE 0 END) AS ProcedureGroup_SUS,SUM(CASE WHEN ProcedureGroup = 'SO' THEN 1 ELSE 0 END) AS ProcedureGroup_SO,SUM(CASE WHEN ProcedureGroup = 'SMCD' THEN 1 ELSE 0 END) AS ProcedureGroup_SMCD FROM claims_df cd GROUP BY MemberID, Year\n"
     ]
    }
   ],
   "source": [
    "sql = []\n",
    "for cat_col in cat_cols:\n",
    "    cat_sql = []\n",
    "    for unique_value in unique_vals[cat_col]:\n",
    "        unique_value = str(unique_value).replace(\" \", \"\")\n",
    "        col_name = cat_col + \"_\" + str(unique_value)\n",
    "        cat_sql.append(\"SUM(CASE WHEN \" + cat_col + \" = '\" + unique_value + \"' THEN 1 ELSE 0 END) AS \" + col_name )\n",
    "    sql.append(','.join(cat_sql))\n",
    "strsql = ','.join(sql)\n",
    "\n",
    "num_sql = \"SELECT MemberID, Year, \\\n",
    "COUNT(DISTINCT ProviderID) as ProviderCount, \\\n",
    "COUNT(DISTINCT Vendor) as VendorCount, \\\n",
    "MIN(PCP) as MinPCP, MAX(PCP) as MaxPCP, AVG(PCP) as AvgPCP, \\\n",
    "MIN(LengthOfStayMin) as MinLengthOfStayMin, MAX(LengthOfStayMin) as MaxLengthOfStayMin, AVG(LengthOfStayMin) as AvgLengthOfStayMin,\\\n",
    "MIN(LengthOfStayMax) as MinLengthOfStayMax, MAX(LengthOfStayMax) as MaxLengthOfStayMax, AVG(LengthOfStayMax) as AvgLengthOfStayMax,\\\n",
    "MIN(DSFSMin) as MinDSFSMin, MAX(DSFSMin) as MaxDSFSMin, AVG(DSFSMin) as AvgDSFSMin,\\\n",
    "MIN(DSFSMax) as MinDSFSMax, MAX(DSFSMax) as MaxDSFSMax, AVG(DSFSMax) as AvgDSFSMax,\\\n",
    "MIN(CharlsonIndexMin) as MinCharlsonIndexMin, MAX(CharlsonIndexMin) as MaxCharlsonIndexMin, AVG(CharlsonIndexMin) as AvgCharlsonIndexMin,\\\n",
    "MIN(CharlsonIndexMax) as MinCharlsonIndexMax, MAX(CharlsonIndexMax) as MaxCharlsonIndexMax, AVG(CharlsonIndexMax) as AvgCharlsonIndexMax \\\n",
    "\"\n",
    "\n",
    "\n",
    "complete_sql = num_sql + \",\" + strsql + \" FROM claims_df cd GROUP BY MemberID, Year\"\n",
    "print(complete_sql)"
   ]
  },
  {
   "cell_type": "code",
   "execution_count": 62,
   "metadata": {
    "collapsed": false
   },
   "outputs": [],
   "source": [
    "summary_claims_df = pysqldf(complete_sql)"
   ]
  },
  {
   "cell_type": "code",
   "execution_count": 63,
   "metadata": {
    "collapsed": false
   },
   "outputs": [
    {
     "data": {
      "text/html": [
       "<div>\n",
       "<style scoped>\n",
       "    .dataframe tbody tr th:only-of-type {\n",
       "        vertical-align: middle;\n",
       "    }\n",
       "\n",
       "    .dataframe tbody tr th {\n",
       "        vertical-align: top;\n",
       "    }\n",
       "\n",
       "    .dataframe thead th {\n",
       "        text-align: right;\n",
       "    }\n",
       "</style>\n",
       "<table border=\"1\" class=\"dataframe\">\n",
       "  <thead>\n",
       "    <tr style=\"text-align: right;\">\n",
       "      <th></th>\n",
       "      <th>MemberID</th>\n",
       "      <th>Year</th>\n",
       "      <th>ProviderCount</th>\n",
       "      <th>VendorCount</th>\n",
       "      <th>MinPCP</th>\n",
       "      <th>MaxPCP</th>\n",
       "      <th>AvgPCP</th>\n",
       "      <th>MinLengthOfStayMin</th>\n",
       "      <th>MaxLengthOfStayMin</th>\n",
       "      <th>AvgLengthOfStayMin</th>\n",
       "      <th>...</th>\n",
       "      <th>ProcedureGroup_SMS</th>\n",
       "      <th>ProcedureGroup_SGS</th>\n",
       "      <th>ProcedureGroup_SEOA</th>\n",
       "      <th>ProcedureGroup_SNS</th>\n",
       "      <th>ProcedureGroup_nan</th>\n",
       "      <th>ProcedureGroup_SAS</th>\n",
       "      <th>ProcedureGroup_SRS</th>\n",
       "      <th>ProcedureGroup_SUS</th>\n",
       "      <th>ProcedureGroup_SO</th>\n",
       "      <th>ProcedureGroup_SMCD</th>\n",
       "    </tr>\n",
       "  </thead>\n",
       "  <tbody>\n",
       "    <tr>\n",
       "      <th>0</th>\n",
       "      <td>4</td>\n",
       "      <td>Y2</td>\n",
       "      <td>1</td>\n",
       "      <td>1</td>\n",
       "      <td>31106.0</td>\n",
       "      <td>31106.0</td>\n",
       "      <td>31106.0</td>\n",
       "      <td>0</td>\n",
       "      <td>0</td>\n",
       "      <td>0.00</td>\n",
       "      <td>...</td>\n",
       "      <td>0</td>\n",
       "      <td>0</td>\n",
       "      <td>0</td>\n",
       "      <td>0</td>\n",
       "      <td>0</td>\n",
       "      <td>0</td>\n",
       "      <td>0</td>\n",
       "      <td>0</td>\n",
       "      <td>0</td>\n",
       "      <td>0</td>\n",
       "    </tr>\n",
       "    <tr>\n",
       "      <th>1</th>\n",
       "      <td>210</td>\n",
       "      <td>Y1</td>\n",
       "      <td>4</td>\n",
       "      <td>4</td>\n",
       "      <td>18880.0</td>\n",
       "      <td>37508.0</td>\n",
       "      <td>35179.5</td>\n",
       "      <td>0</td>\n",
       "      <td>2</td>\n",
       "      <td>0.25</td>\n",
       "      <td>...</td>\n",
       "      <td>0</td>\n",
       "      <td>0</td>\n",
       "      <td>0</td>\n",
       "      <td>0</td>\n",
       "      <td>0</td>\n",
       "      <td>0</td>\n",
       "      <td>0</td>\n",
       "      <td>0</td>\n",
       "      <td>0</td>\n",
       "      <td>0</td>\n",
       "    </tr>\n",
       "    <tr>\n",
       "      <th>2</th>\n",
       "      <td>210</td>\n",
       "      <td>Y2</td>\n",
       "      <td>3</td>\n",
       "      <td>3</td>\n",
       "      <td>37508.0</td>\n",
       "      <td>37508.0</td>\n",
       "      <td>37508.0</td>\n",
       "      <td>0</td>\n",
       "      <td>0</td>\n",
       "      <td>0.00</td>\n",
       "      <td>...</td>\n",
       "      <td>0</td>\n",
       "      <td>0</td>\n",
       "      <td>0</td>\n",
       "      <td>0</td>\n",
       "      <td>0</td>\n",
       "      <td>0</td>\n",
       "      <td>0</td>\n",
       "      <td>0</td>\n",
       "      <td>0</td>\n",
       "      <td>0</td>\n",
       "    </tr>\n",
       "    <tr>\n",
       "      <th>3</th>\n",
       "      <td>210</td>\n",
       "      <td>Y3</td>\n",
       "      <td>2</td>\n",
       "      <td>2</td>\n",
       "      <td>37508.0</td>\n",
       "      <td>37508.0</td>\n",
       "      <td>37508.0</td>\n",
       "      <td>0</td>\n",
       "      <td>0</td>\n",
       "      <td>0.00</td>\n",
       "      <td>...</td>\n",
       "      <td>0</td>\n",
       "      <td>0</td>\n",
       "      <td>0</td>\n",
       "      <td>0</td>\n",
       "      <td>0</td>\n",
       "      <td>0</td>\n",
       "      <td>0</td>\n",
       "      <td>0</td>\n",
       "      <td>0</td>\n",
       "      <td>0</td>\n",
       "    </tr>\n",
       "    <tr>\n",
       "      <th>4</th>\n",
       "      <td>3197</td>\n",
       "      <td>Y1</td>\n",
       "      <td>3</td>\n",
       "      <td>3</td>\n",
       "      <td>47016.0</td>\n",
       "      <td>47016.0</td>\n",
       "      <td>47016.0</td>\n",
       "      <td>0</td>\n",
       "      <td>0</td>\n",
       "      <td>0.00</td>\n",
       "      <td>...</td>\n",
       "      <td>0</td>\n",
       "      <td>0</td>\n",
       "      <td>0</td>\n",
       "      <td>0</td>\n",
       "      <td>0</td>\n",
       "      <td>0</td>\n",
       "      <td>0</td>\n",
       "      <td>0</td>\n",
       "      <td>0</td>\n",
       "      <td>0</td>\n",
       "    </tr>\n",
       "  </tbody>\n",
       "</table>\n",
       "<p>5 rows × 111 columns</p>\n",
       "</div>"
      ],
      "text/plain": [
       "   MemberID Year  ProviderCount  VendorCount   MinPCP   MaxPCP   AvgPCP  \\\n",
       "0         4   Y2              1            1  31106.0  31106.0  31106.0   \n",
       "1       210   Y1              4            4  18880.0  37508.0  35179.5   \n",
       "2       210   Y2              3            3  37508.0  37508.0  37508.0   \n",
       "3       210   Y3              2            2  37508.0  37508.0  37508.0   \n",
       "4      3197   Y1              3            3  47016.0  47016.0  47016.0   \n",
       "\n",
       "   MinLengthOfStayMin  MaxLengthOfStayMin  AvgLengthOfStayMin  \\\n",
       "0                   0                   0                0.00   \n",
       "1                   0                   2                0.25   \n",
       "2                   0                   0                0.00   \n",
       "3                   0                   0                0.00   \n",
       "4                   0                   0                0.00   \n",
       "\n",
       "          ...           ProcedureGroup_SMS  ProcedureGroup_SGS  \\\n",
       "0         ...                            0                   0   \n",
       "1         ...                            0                   0   \n",
       "2         ...                            0                   0   \n",
       "3         ...                            0                   0   \n",
       "4         ...                            0                   0   \n",
       "\n",
       "   ProcedureGroup_SEOA  ProcedureGroup_SNS  ProcedureGroup_nan  \\\n",
       "0                    0                   0                   0   \n",
       "1                    0                   0                   0   \n",
       "2                    0                   0                   0   \n",
       "3                    0                   0                   0   \n",
       "4                    0                   0                   0   \n",
       "\n",
       "   ProcedureGroup_SAS  ProcedureGroup_SRS  ProcedureGroup_SUS  \\\n",
       "0                   0                   0                   0   \n",
       "1                   0                   0                   0   \n",
       "2                   0                   0                   0   \n",
       "3                   0                   0                   0   \n",
       "4                   0                   0                   0   \n",
       "\n",
       "   ProcedureGroup_SO  ProcedureGroup_SMCD  \n",
       "0                  0                    0  \n",
       "1                  0                    0  \n",
       "2                  0                    0  \n",
       "3                  0                    0  \n",
       "4                  0                    0  \n",
       "\n",
       "[5 rows x 111 columns]"
      ]
     },
     "execution_count": 63,
     "metadata": {},
     "output_type": "execute_result"
    }
   ],
   "source": [
    "summary_claims_df.head(5)"
   ]
  },
  {
   "cell_type": "code",
   "execution_count": 64,
   "metadata": {
    "collapsed": false
   },
   "outputs": [
    {
     "data": {
      "text/plain": [
       "(218415, 111)"
      ]
     },
     "execution_count": 64,
     "metadata": {},
     "output_type": "execute_result"
    }
   ],
   "source": [
    "summary_claims_df.shape\n"
   ]
  },
  {
   "cell_type": "markdown",
   "metadata": {},
   "source": [
    "### Members Table - Similar Cleanup"
   ]
  },
  {
   "cell_type": "code",
   "execution_count": 65,
   "metadata": {
    "collapsed": false
   },
   "outputs": [
    {
     "data": {
      "text/plain": [
       "array(['70-79', '40-49', '0-9', '30-39', '50-59', '60-69', '10-19', '80+',\n",
       "       '20-29', nan], dtype=object)"
      ]
     },
     "execution_count": 65,
     "metadata": {},
     "output_type": "execute_result"
    }
   ],
   "source": [
    "#Lets cleanup members table\n",
    "members_df[\"AgeAtFirstClaim\"].unique()\n"
   ]
  },
  {
   "cell_type": "code",
   "execution_count": 66,
   "metadata": {
    "collapsed": true
   },
   "outputs": [],
   "source": [
    "def AgeAtFirstClaim_max(strc):\n",
    "    try:\n",
    "        if len(strc) > 0:\n",
    "            parts = strc.split(\"-\")\n",
    "            if len(parts) > 1:\n",
    "                return int(parts[1])\n",
    "            else:\n",
    "                return 0\n",
    "        else:\n",
    "            return(0)\n",
    "    except:\n",
    "        return(0)\n",
    "\n",
    "def AgeAtFirstClaim_min(strc):\n",
    "    try:\n",
    "        if len(strc) > 0:\n",
    "            parts = strc.split(\"-\")\n",
    "            return int(parts[0])\n",
    "        else:\n",
    "            return(0)\n",
    "    except:\n",
    "        return(0)\n",
    "    \n",
    "#apply_and_concat(claims_df, 'DSFS', dsfs_min_max, ['DSFSMin', 'DSFSMax'])\n",
    "\n",
    "members_df[\"AgeAtFirstClaimMin\"] = members_df['AgeAtFirstClaim'].apply(AgeAtFirstClaim_min)\n",
    "members_df[\"AgeAtFirstClaimMax\"] = members_df['AgeAtFirstClaim'].apply(AgeAtFirstClaim_max)"
   ]
  },
  {
   "cell_type": "markdown",
   "metadata": {},
   "source": [
    "### Combine All Tables \n",
    "All Tables can be indexed using MemberID-Year now and then can be combined"
   ]
  },
  {
   "cell_type": "code",
   "execution_count": 67,
   "metadata": {
    "collapsed": false
   },
   "outputs": [],
   "source": [
    "#Combine lab_summary_df, drug_summary_df, summary_claims_df,dihy2_df, dihy3_df \n",
    "#All above dataframes can be indexed on MembedID and Yera\n",
    "#lab_summary_df.set_index([\"MemberID\", \"Year\"], inplace=True)\n",
    "#drug_summary_df.set_index([\"MemberID\", \"Year\"], inplace=True)\n",
    "summary_claims_df.set_index([\"MemberID\", \"Year\"], inplace=True)\n"
   ]
  },
  {
   "cell_type": "code",
   "execution_count": 68,
   "metadata": {
    "collapsed": false
   },
   "outputs": [],
   "source": [
    "#year2 days in hospital is target for year 1\n",
    "dihy2_df[\"Year\"] = \"Y1\"\n",
    "dihy2_df.set_index([\"MemberID\", \"Year\"], inplace=True)\n",
    "#year3 days in hospital is target for year 1\n",
    "dihy3_df[\"Year\"] = \"Y2\"\n",
    "dihy3_df.set_index([\"MemberID\", \"Year\"], inplace=True)"
   ]
  },
  {
   "cell_type": "code",
   "execution_count": 69,
   "metadata": {
    "collapsed": false
   },
   "outputs": [],
   "source": [
    "lab_summary_df.set_index([\"MemberID\", \"Year\"], inplace=True)\n",
    "drug_summary_df.set_index([\"MemberID\", \"Year\"], inplace=True)"
   ]
  },
  {
   "cell_type": "code",
   "execution_count": 70,
   "metadata": {
    "collapsed": false
   },
   "outputs": [],
   "source": [
    "#summary_df = dihy2_df.union(dihy3_df, on=None, how='outer')\n",
    "summary_df = pd.concat([dihy2_df, dihy3_df])\n",
    "summary_df = summary_df.join(lab_summary_df, on=None, how='outer')\n",
    "summary_df = summary_df.join(drug_summary_df, on=None, how='outer')\n",
    "summary_df = summary_df.join(summary_claims_df, on=None, how='outer')"
   ]
  },
  {
   "cell_type": "code",
   "execution_count": 71,
   "metadata": {
    "collapsed": false
   },
   "outputs": [
    {
     "name": "stdout",
     "output_type": "stream",
     "text": [
      "summary_df.shape =  (218415, 113)\n",
      "lab_summary_df.shape =  (154934, 1)\n",
      "summary_claims_df.shape =  (218415, 109)\n"
     ]
    }
   ],
   "source": [
    "print(\"summary_df.shape = \", summary_df.shape)\n",
    "print(\"lab_summary_df.shape = \", lab_summary_df.shape)\n",
    "print(\"summary_claims_df.shape = \", summary_claims_df.shape)\n"
   ]
  },
  {
   "cell_type": "code",
   "execution_count": 72,
   "metadata": {
    "collapsed": false
   },
   "outputs": [
    {
     "data": {
      "text/plain": [
       "Int64Index([       4,      210,     3197,     3457,     3713,     3741,\n",
       "                3889,     4048,     4187,     5187,\n",
       "            ...\n",
       "            99992565, 99993334, 99994536, 99995391, 99995554, 99996214,\n",
       "            99997485, 99997895, 99998627, 99998824],\n",
       "           dtype='int64', name='MemberID', length=113000)"
      ]
     },
     "execution_count": 72,
     "metadata": {},
     "output_type": "execute_result"
    }
   ],
   "source": [
    "summary_df.index.get_level_values('MemberID').unique()"
   ]
  },
  {
   "cell_type": "code",
   "execution_count": 73,
   "metadata": {
    "collapsed": false
   },
   "outputs": [
    {
     "data": {
      "text/plain": [
       "113000"
      ]
     },
     "execution_count": 73,
     "metadata": {},
     "output_type": "execute_result"
    }
   ],
   "source": [
    "members_df.MemberID.count()"
   ]
  },
  {
   "cell_type": "code",
   "execution_count": 74,
   "metadata": {
    "collapsed": false
   },
   "outputs": [],
   "source": [
    "summary_df_m = summary_df.reset_index()\n",
    "summary_df_m.set_index(\"MemberID\", inplace=True)"
   ]
  },
  {
   "cell_type": "code",
   "execution_count": 75,
   "metadata": {
    "collapsed": false
   },
   "outputs": [
    {
     "data": {
      "text/html": [
       "<div>\n",
       "<style scoped>\n",
       "    .dataframe tbody tr th:only-of-type {\n",
       "        vertical-align: middle;\n",
       "    }\n",
       "\n",
       "    .dataframe tbody tr th {\n",
       "        vertical-align: top;\n",
       "    }\n",
       "\n",
       "    .dataframe thead th {\n",
       "        text-align: right;\n",
       "    }\n",
       "</style>\n",
       "<table border=\"1\" class=\"dataframe\">\n",
       "  <thead>\n",
       "    <tr style=\"text-align: right;\">\n",
       "      <th></th>\n",
       "      <th>AgeAtFirstClaim</th>\n",
       "      <th>Sex</th>\n",
       "      <th>AgeAtFirstClaimMin</th>\n",
       "      <th>AgeAtFirstClaimMax</th>\n",
       "    </tr>\n",
       "    <tr>\n",
       "      <th>MemberID</th>\n",
       "      <th></th>\n",
       "      <th></th>\n",
       "      <th></th>\n",
       "      <th></th>\n",
       "    </tr>\n",
       "  </thead>\n",
       "  <tbody>\n",
       "    <tr>\n",
       "      <th>14723353</th>\n",
       "      <td>70-79</td>\n",
       "      <td>M</td>\n",
       "      <td>70</td>\n",
       "      <td>79</td>\n",
       "    </tr>\n",
       "    <tr>\n",
       "      <th>75706636</th>\n",
       "      <td>70-79</td>\n",
       "      <td>M</td>\n",
       "      <td>70</td>\n",
       "      <td>79</td>\n",
       "    </tr>\n",
       "  </tbody>\n",
       "</table>\n",
       "</div>"
      ],
      "text/plain": [
       "         AgeAtFirstClaim Sex  AgeAtFirstClaimMin  AgeAtFirstClaimMax\n",
       "MemberID                                                            \n",
       "14723353           70-79   M                  70                  79\n",
       "75706636           70-79   M                  70                  79"
      ]
     },
     "execution_count": 75,
     "metadata": {},
     "output_type": "execute_result"
    }
   ],
   "source": [
    "members_df.set_index(\"MemberID\", inplace=True)\n",
    "members_df.head(2)"
   ]
  },
  {
   "cell_type": "code",
   "execution_count": 76,
   "metadata": {
    "collapsed": true
   },
   "outputs": [],
   "source": [
    "summary_df_m = summary_df_m.join(members_df, on=None, how='outer')"
   ]
  },
  {
   "cell_type": "code",
   "execution_count": 77,
   "metadata": {
    "collapsed": false
   },
   "outputs": [
    {
     "data": {
      "text/plain": [
       "(218415, 118)"
      ]
     },
     "execution_count": 77,
     "metadata": {},
     "output_type": "execute_result"
    }
   ],
   "source": [
    "summary_df_m.shape"
   ]
  },
  {
   "cell_type": "code",
   "execution_count": 78,
   "metadata": {
    "collapsed": false
   },
   "outputs": [
    {
     "data": {
      "text/html": [
       "<div>\n",
       "<style scoped>\n",
       "    .dataframe tbody tr th:only-of-type {\n",
       "        vertical-align: middle;\n",
       "    }\n",
       "\n",
       "    .dataframe tbody tr th {\n",
       "        vertical-align: top;\n",
       "    }\n",
       "\n",
       "    .dataframe thead th {\n",
       "        text-align: right;\n",
       "    }\n",
       "</style>\n",
       "<table border=\"1\" class=\"dataframe\">\n",
       "  <thead>\n",
       "    <tr style=\"text-align: right;\">\n",
       "      <th></th>\n",
       "      <th>Year</th>\n",
       "      <th>ClaimsTruncated</th>\n",
       "      <th>DaysInHospital</th>\n",
       "      <th>TotalLabCount</th>\n",
       "      <th>TotalDrugCount</th>\n",
       "      <th>ProviderCount</th>\n",
       "      <th>VendorCount</th>\n",
       "      <th>MinPCP</th>\n",
       "      <th>MaxPCP</th>\n",
       "      <th>AvgPCP</th>\n",
       "      <th>...</th>\n",
       "      <th>ProcedureGroup_nan</th>\n",
       "      <th>ProcedureGroup_SAS</th>\n",
       "      <th>ProcedureGroup_SRS</th>\n",
       "      <th>ProcedureGroup_SUS</th>\n",
       "      <th>ProcedureGroup_SO</th>\n",
       "      <th>ProcedureGroup_SMCD</th>\n",
       "      <th>AgeAtFirstClaim</th>\n",
       "      <th>Sex</th>\n",
       "      <th>AgeAtFirstClaimMin</th>\n",
       "      <th>AgeAtFirstClaimMax</th>\n",
       "    </tr>\n",
       "    <tr>\n",
       "      <th>MemberID</th>\n",
       "      <th></th>\n",
       "      <th></th>\n",
       "      <th></th>\n",
       "      <th></th>\n",
       "      <th></th>\n",
       "      <th></th>\n",
       "      <th></th>\n",
       "      <th></th>\n",
       "      <th></th>\n",
       "      <th></th>\n",
       "      <th></th>\n",
       "      <th></th>\n",
       "      <th></th>\n",
       "      <th></th>\n",
       "      <th></th>\n",
       "      <th></th>\n",
       "      <th></th>\n",
       "      <th></th>\n",
       "      <th></th>\n",
       "      <th></th>\n",
       "      <th></th>\n",
       "    </tr>\n",
       "  </thead>\n",
       "  <tbody>\n",
       "    <tr>\n",
       "      <th>4</th>\n",
       "      <td>Y2</td>\n",
       "      <td>0.0</td>\n",
       "      <td>0.0</td>\n",
       "      <td>NaN</td>\n",
       "      <td>NaN</td>\n",
       "      <td>1</td>\n",
       "      <td>1</td>\n",
       "      <td>31106.0</td>\n",
       "      <td>31106.0</td>\n",
       "      <td>31106.0</td>\n",
       "      <td>...</td>\n",
       "      <td>0</td>\n",
       "      <td>0</td>\n",
       "      <td>0</td>\n",
       "      <td>0</td>\n",
       "      <td>0</td>\n",
       "      <td>0</td>\n",
       "      <td>0-9</td>\n",
       "      <td>M</td>\n",
       "      <td>0</td>\n",
       "      <td>9</td>\n",
       "    </tr>\n",
       "    <tr>\n",
       "      <th>210</th>\n",
       "      <td>Y1</td>\n",
       "      <td>0.0</td>\n",
       "      <td>0.0</td>\n",
       "      <td>2.0</td>\n",
       "      <td>5.0</td>\n",
       "      <td>4</td>\n",
       "      <td>4</td>\n",
       "      <td>18880.0</td>\n",
       "      <td>37508.0</td>\n",
       "      <td>35179.5</td>\n",
       "      <td>...</td>\n",
       "      <td>0</td>\n",
       "      <td>0</td>\n",
       "      <td>0</td>\n",
       "      <td>0</td>\n",
       "      <td>0</td>\n",
       "      <td>0</td>\n",
       "      <td>30-39</td>\n",
       "      <td>NaN</td>\n",
       "      <td>30</td>\n",
       "      <td>39</td>\n",
       "    </tr>\n",
       "  </tbody>\n",
       "</table>\n",
       "<p>2 rows × 118 columns</p>\n",
       "</div>"
      ],
      "text/plain": [
       "         Year  ClaimsTruncated  DaysInHospital  TotalLabCount  TotalDrugCount  \\\n",
       "MemberID                                                                        \n",
       "4          Y2              0.0             0.0            NaN             NaN   \n",
       "210        Y1              0.0             0.0            2.0             5.0   \n",
       "\n",
       "          ProviderCount  VendorCount   MinPCP   MaxPCP   AvgPCP  \\\n",
       "MemberID                                                          \n",
       "4                     1            1  31106.0  31106.0  31106.0   \n",
       "210                   4            4  18880.0  37508.0  35179.5   \n",
       "\n",
       "                 ...          ProcedureGroup_nan  ProcedureGroup_SAS  \\\n",
       "MemberID         ...                                                   \n",
       "4                ...                           0                   0   \n",
       "210              ...                           0                   0   \n",
       "\n",
       "          ProcedureGroup_SRS  ProcedureGroup_SUS  ProcedureGroup_SO  \\\n",
       "MemberID                                                              \n",
       "4                          0                   0                  0   \n",
       "210                        0                   0                  0   \n",
       "\n",
       "          ProcedureGroup_SMCD  AgeAtFirstClaim  Sex  AgeAtFirstClaimMin  \\\n",
       "MemberID                                                                  \n",
       "4                           0              0-9    M                   0   \n",
       "210                         0            30-39  NaN                  30   \n",
       "\n",
       "          AgeAtFirstClaimMax  \n",
       "MemberID                      \n",
       "4                          9  \n",
       "210                       39  \n",
       "\n",
       "[2 rows x 118 columns]"
      ]
     },
     "execution_count": 78,
     "metadata": {},
     "output_type": "execute_result"
    }
   ],
   "source": [
    "summary_df_m.head(2)"
   ]
  },
  {
   "cell_type": "markdown",
   "metadata": {},
   "source": [
    "### Make sure we have not lost any Member data"
   ]
  },
  {
   "cell_type": "code",
   "execution_count": 79,
   "metadata": {
    "collapsed": false
   },
   "outputs": [
    {
     "data": {
      "text/plain": [
       "Int64Index([       4,      210,     3197,     3457,     3713,     3741,\n",
       "                3889,     4048,     4187,     5187,\n",
       "            ...\n",
       "            99992565, 99993334, 99994536, 99995391, 99995554, 99996214,\n",
       "            99997485, 99997895, 99998627, 99998824],\n",
       "           dtype='int64', name='MemberID', length=113000)"
      ]
     },
     "execution_count": 79,
     "metadata": {},
     "output_type": "execute_result"
    }
   ],
   "source": [
    "summary_df_m.index.get_level_values('MemberID').unique()"
   ]
  },
  {
   "cell_type": "code",
   "execution_count": 80,
   "metadata": {
    "collapsed": false
   },
   "outputs": [
    {
     "data": {
      "text/plain": [
       "Int64Index([14723353, 75706636, 17320609, 69690888, 33004608, 63690883,\n",
       "            50065607, 34270657, 75299016, 22358692,\n",
       "            ...\n",
       "            21382846, 29024181, 90655054,   735535, 10486927, 99711514,\n",
       "            31690877,  9519985, 92806272, 81827173],\n",
       "           dtype='int64', name='MemberID', length=113000)"
      ]
     },
     "execution_count": 80,
     "metadata": {},
     "output_type": "execute_result"
    }
   ],
   "source": [
    "members_df.index.get_level_values(\"MemberID\").unique()"
   ]
  },
  {
   "cell_type": "markdown",
   "metadata": {},
   "source": [
    "<B>Summary </B> Observe that both tables have same number of Members. So, we are good"
   ]
  },
  {
   "cell_type": "code",
   "execution_count": 81,
   "metadata": {
    "collapsed": true
   },
   "outputs": [],
   "source": [
    "#Write down the prepared DF to disk so that we can simply start from his point\n",
    "summary_df_m.to_csv(data_path + \"summary_df.csv\")"
   ]
  },
  {
   "cell_type": "code",
   "execution_count": 82,
   "metadata": {
    "collapsed": true
   },
   "outputs": [],
   "source": [
    "summary_df_m = pd.read_csv(data_path + \"summary_df.csv\")"
   ]
  },
  {
   "cell_type": "code",
   "execution_count": 83,
   "metadata": {
    "collapsed": false
   },
   "outputs": [
    {
     "data": {
      "text/plain": [
       "array(['Y2', 'Y1', 'Y3'], dtype=object)"
      ]
     },
     "execution_count": 83,
     "metadata": {},
     "output_type": "execute_result"
    }
   ],
   "source": [
    "summary_df_m[\"Year\"].unique()"
   ]
  },
  {
   "cell_type": "markdown",
   "metadata": {},
   "source": [
    "## Drop Y3 data\n",
    "We do not have predictions available for Y4. And unlike real competation, we can't submit Y4 predictions to the kaggle and get our score. So, there is no point in using Y3 data for training. So drop it."
   ]
  },
  {
   "cell_type": "code",
   "execution_count": 84,
   "metadata": {
    "collapsed": true
   },
   "outputs": [],
   "source": [
    "summary_df_m = (summary_df_m[summary_df_m[\"Year\"] != \"Y3\"])"
   ]
  },
  {
   "cell_type": "markdown",
   "metadata": {},
   "source": [
    "## Split the Target Data and Hide it out"
   ]
  },
  {
   "cell_type": "code",
   "execution_count": 85,
   "metadata": {
    "collapsed": false
   },
   "outputs": [
    {
     "data": {
      "text/plain": [
       "147473"
      ]
     },
     "execution_count": 85,
     "metadata": {},
     "output_type": "execute_result"
    }
   ],
   "source": [
    "#If DaysInHospital is missing, mark it 0\n",
    "summary_df_m[\"DaysInHospital\"].fillna(0, inplace=True)\n",
    "summary_df_m[\"DaysInHospital\"].count()"
   ]
  },
  {
   "cell_type": "code",
   "execution_count": 86,
   "metadata": {
    "collapsed": false
   },
   "outputs": [
    {
     "name": "stdout",
     "output_type": "stream",
     "text": [
      "X_train shape:  (98806, 116)\n",
      "X_test shape:  (48667, 116)\n",
      "y_train shape:  (98806,)\n",
      "y_test shape:  (48667,)\n"
     ]
    }
   ],
   "source": [
    "from sklearn.model_selection import train_test_split\n",
    "#First divide DaysInHospital data in train and test \n",
    "y = summary_df_m[\"DaysInHospital\"].copy()\n",
    "X = summary_df_m.drop(\"DaysInHospital\", axis=1) # drop labels for training set\n",
    "\n",
    "#Drop unnecessary columns\n",
    "\n",
    "X.drop(\"AgeAtFirstClaim\", inplace=True, axis=1)\n",
    "X.drop(\"Sex\", inplace=True, axis=1) #check if we need this\n",
    "'''\n",
    "X.drop(\"PCP\", inplace=True, axis=1)\n",
    "X.drop(\"LengthOfStay\", inplace=True, axis=1)\n",
    "X.drop(\"DSFS\", inplace=True, axis=1)\n",
    "X.drop(\"CharlsonIndex\", inplace=True, axis=1)\n",
    "'''\n",
    "\n",
    "X_train, X_test, y_train, y_test = \\\n",
    "                            train_test_split(X, y, test_size=0.33, random_state=42)\n",
    "print(\"X_train shape: \", X_train.shape)\n",
    "print(\"X_test shape: \", X_test.shape)\n",
    "print(\"y_train shape: \", y_train.shape)\n",
    "print(\"y_test shape: \", y_test.shape)"
   ]
  },
  {
   "cell_type": "code",
   "execution_count": 87,
   "metadata": {
    "collapsed": false
   },
   "outputs": [
    {
     "data": {
      "text/plain": [
       "(147473, 119)"
      ]
     },
     "execution_count": 87,
     "metadata": {},
     "output_type": "execute_result"
    }
   ],
   "source": [
    "#Drop unnecessary columns\n",
    "summary_df_m.shape"
   ]
  },
  {
   "cell_type": "markdown",
   "metadata": {},
   "source": [
    "## Create Pipeline for Data Preperation"
   ]
  },
  {
   "cell_type": "code",
   "execution_count": 88,
   "metadata": {
    "collapsed": false
   },
   "outputs": [
    {
     "data": {
      "text/plain": [
       "['MemberID',\n",
       " 'ClaimsTruncated',\n",
       " 'TotalLabCount',\n",
       " 'TotalDrugCount',\n",
       " 'ProviderCount',\n",
       " 'VendorCount',\n",
       " 'MinPCP',\n",
       " 'MaxPCP',\n",
       " 'AvgPCP',\n",
       " 'MinLengthOfStayMin',\n",
       " 'MaxLengthOfStayMin',\n",
       " 'AvgLengthOfStayMin',\n",
       " 'MinLengthOfStayMax',\n",
       " 'MaxLengthOfStayMax',\n",
       " 'AvgLengthOfStayMax',\n",
       " 'MinDSFSMin',\n",
       " 'MaxDSFSMin',\n",
       " 'AvgDSFSMin',\n",
       " 'MinDSFSMax',\n",
       " 'MaxDSFSMax',\n",
       " 'AvgDSFSMax',\n",
       " 'MinCharlsonIndexMin',\n",
       " 'MaxCharlsonIndexMin',\n",
       " 'AvgCharlsonIndexMin',\n",
       " 'MinCharlsonIndexMax',\n",
       " 'MaxCharlsonIndexMax',\n",
       " 'AvgCharlsonIndexMax',\n",
       " 'Specialty_Surgery',\n",
       " 'Specialty_Internal',\n",
       " 'Specialty_Laboratory',\n",
       " 'Specialty_Pediatrics',\n",
       " 'Specialty_Rehabilitation',\n",
       " 'Specialty_DiagnosticImaging',\n",
       " 'Specialty_Anesthesiology',\n",
       " 'Specialty_Emergency',\n",
       " 'Specialty_GeneralPractice',\n",
       " 'Specialty_Other',\n",
       " 'Specialty_ObstetricsandGynecology',\n",
       " 'Specialty_Pathology',\n",
       " 'Specialty_nan',\n",
       " 'PlaceSvc_Office',\n",
       " 'PlaceSvc_IndependentLab',\n",
       " 'PlaceSvc_OutpatientHospital',\n",
       " 'PlaceSvc_InpatientHospital',\n",
       " 'PlaceSvc_UrgentCare',\n",
       " 'PlaceSvc_Ambulance',\n",
       " 'PlaceSvc_Home',\n",
       " 'PlaceSvc_nan',\n",
       " 'PlaceSvc_Other',\n",
       " 'PrimaryConditionGroup_NEUMENT',\n",
       " 'PrimaryConditionGroup_METAB3',\n",
       " 'PrimaryConditionGroup_FXDISLC',\n",
       " 'PrimaryConditionGroup_TRAUMA',\n",
       " 'PrimaryConditionGroup_RESPR4',\n",
       " 'PrimaryConditionGroup_INFEC4',\n",
       " 'PrimaryConditionGroup_MISCHRT',\n",
       " 'PrimaryConditionGroup_ARTHSPIN',\n",
       " 'PrimaryConditionGroup_ROAMI',\n",
       " 'PrimaryConditionGroup_HEART2',\n",
       " 'PrimaryConditionGroup_MSC2a3',\n",
       " 'PrimaryConditionGroup_PNEUM',\n",
       " 'PrimaryConditionGroup_MISCL5',\n",
       " 'PrimaryConditionGroup_GIOBSENT',\n",
       " 'PrimaryConditionGroup_RENAL3',\n",
       " 'PrimaryConditionGroup_GYNEC1',\n",
       " 'PrimaryConditionGroup_AMI',\n",
       " 'PrimaryConditionGroup_UTI',\n",
       " 'PrimaryConditionGroup_COPD',\n",
       " 'PrimaryConditionGroup_GIBLEED',\n",
       " 'PrimaryConditionGroup_HIPFX',\n",
       " 'PrimaryConditionGroup_SKNAUT',\n",
       " 'PrimaryConditionGroup_CANCRB',\n",
       " 'PrimaryConditionGroup_SEIZURE',\n",
       " 'PrimaryConditionGroup_CHF',\n",
       " 'PrimaryConditionGroup_PRGNCY',\n",
       " 'PrimaryConditionGroup_METAB1',\n",
       " 'PrimaryConditionGroup_HEART4',\n",
       " 'PrimaryConditionGroup_ODaBNCA',\n",
       " 'PrimaryConditionGroup_HEMTOL',\n",
       " 'PrimaryConditionGroup_GYNECA',\n",
       " 'PrimaryConditionGroup_APPCHOL',\n",
       " 'PrimaryConditionGroup_MISCL1',\n",
       " 'PrimaryConditionGroup_RENAL2',\n",
       " 'PrimaryConditionGroup_nan',\n",
       " 'PrimaryConditionGroup_STROKE',\n",
       " 'PrimaryConditionGroup_PERVALV',\n",
       " 'PrimaryConditionGroup_CANCRA',\n",
       " 'PrimaryConditionGroup_CATAST',\n",
       " 'PrimaryConditionGroup_FLaELEC',\n",
       " 'PrimaryConditionGroup_SEPSIS',\n",
       " 'PrimaryConditionGroup_LIVERDZ',\n",
       " 'PrimaryConditionGroup_PNCRDZ',\n",
       " 'PrimaryConditionGroup_RENAL1',\n",
       " 'PrimaryConditionGroup_CANCRM',\n",
       " 'PrimaryConditionGroup_PERINTL',\n",
       " 'ProcedureGroup_MED',\n",
       " 'ProcedureGroup_EM',\n",
       " 'ProcedureGroup_SCS',\n",
       " 'ProcedureGroup_RAD',\n",
       " 'ProcedureGroup_ANES',\n",
       " 'ProcedureGroup_SDS',\n",
       " 'ProcedureGroup_PL',\n",
       " 'ProcedureGroup_SIS',\n",
       " 'ProcedureGroup_SMS',\n",
       " 'ProcedureGroup_SGS',\n",
       " 'ProcedureGroup_SEOA',\n",
       " 'ProcedureGroup_SNS',\n",
       " 'ProcedureGroup_nan',\n",
       " 'ProcedureGroup_SAS',\n",
       " 'ProcedureGroup_SRS',\n",
       " 'ProcedureGroup_SUS',\n",
       " 'ProcedureGroup_SO',\n",
       " 'ProcedureGroup_SMCD',\n",
       " 'AgeAtFirstClaimMin',\n",
       " 'AgeAtFirstClaimMax']"
      ]
     },
     "execution_count": 88,
     "metadata": {},
     "output_type": "execute_result"
    }
   ],
   "source": [
    "num_columns = list(X_train.columns.values)\n",
    "num_columns.remove(\"Year\")\n",
    "num_columns"
   ]
  },
  {
   "cell_type": "code",
   "execution_count": 89,
   "metadata": {
    "collapsed": false
   },
   "outputs": [],
   "source": [
    "from sklearn.pipeline import Pipeline\n",
    "from sklearn.preprocessing import StandardScaler\n",
    "from sklearn.preprocessing import Imputer\n",
    "\n",
    "num_attribs = num_columns #all columns are numeric now\n",
    "\n",
    "num_pipeline = Pipeline([\n",
    "        ('selector', DataFrameSelector(num_attribs)),\n",
    "        ('imputer', Imputer(strategy=\"median\")),\n",
    "        #('attribs_adder', CombinedAttributesAdder()),\n",
    "        ('std_scaler', StandardScaler()),\n",
    "    ])\n",
    "\n",
    "X_train_prepared = num_pipeline.fit_transform(X_train)\n",
    "X_test_prepared = num_pipeline.fit_transform(X_test)"
   ]
  },
  {
   "cell_type": "markdown",
   "metadata": {},
   "source": [
    "## Try out Multiple Machine Learning Models"
   ]
  },
  {
   "cell_type": "code",
   "execution_count": 90,
   "metadata": {
    "collapsed": false
   },
   "outputs": [],
   "source": [
    "from sklearn.linear_model import LinearRegression\n",
    "from sklearn.linear_model import LogisticRegression\n",
    "from sklearn.naive_bayes import GaussianNB\n",
    "from sklearn.svm import SVR\n",
    "from sklearn.ensemble import RandomForestRegressor\n",
    "\n",
    "from sklearn.model_selection import cross_val_score\n",
    "from sklearn.model_selection import KFold\n",
    "\n",
    "if __avoid_run_heavy_tasks__ == False:\n",
    "    models = []\n",
    "    models.append(('LINEAR', LinearRegression()))\n",
    "    #models.append(('LR', LogisticRegression()))\n",
    "    models.append(('NB', GaussianNB()))\n",
    "    if __avoid_run_svm__ == False:\n",
    "        models.append(('SVM', SVR()))\n",
    "    models.append(('RandomForest', RandomForestRegressor()))\n",
    "\n",
    "    agg_results = []\n",
    "    names = []\n",
    "    scoring = 'neg_mean_squared_error'\n",
    "    for name, model in models:\n",
    "        kfold = KFold(n_splits=5, random_state=7)\n",
    "        #cv_results = cross_val_score(model, X_train_prepared[:1000,:], y_train[:1000], cv=kfold, scoring=scoring)\n",
    "        if __name__ == \"__main__\":    \n",
    "            cv_results = cross_val_score(model, X_train_prepared[:50000,:], y_train[:50000], cv=kfold, scoring=scoring, n_jobs=-1)\n",
    "        agg_results.append(cv_results)\n",
    "        names.append(name)\n",
    "        msg = \"%s: %f (%f)\" % (name, cv_results.mean(), cv_results.std())\n",
    "        print(msg)\n"
   ]
  },
  {
   "cell_type": "markdown",
   "metadata": {},
   "source": [
    "<b>Summary</b>\n",
    "The Linear, SVM and RanfomForest seem to perform equally well. Notice that we did this experiment on about 40% of the data and Negative RMSE was used as measure. Lets pick up SVM and Random Forest and score them on held out dataset. "
   ]
  },
  {
   "cell_type": "code",
   "execution_count": 91,
   "metadata": {
    "collapsed": false
   },
   "outputs": [
    {
     "name": "stdout",
     "output_type": "stream",
     "text": [
      "Error =  inf\n",
      "RMSE =  1.5815708738457035\n"
     ]
    },
    {
     "name": "stderr",
     "output_type": "stream",
     "text": [
      "/Users/Avadhoot/anaconda/lib/python3.6/site-packages/ipykernel/__main__.py:3: RuntimeWarning: divide by zero encountered in log\n",
      "  app.launch_new_instance()\n",
      "/Users/Avadhoot/anaconda/lib/python3.6/site-packages/ipykernel/__main__.py:3: RuntimeWarning: invalid value encountered in log\n",
      "  app.launch_new_instance()\n"
     ]
    }
   ],
   "source": [
    "from sklearn.ensemble import RandomForestRegressor\n",
    "#rf_final_model = grid_search.best_estimator_\n",
    "lin_final_model = LinearRegression()\n",
    "lin_final_model.fit(X_train_prepared, y_train)\n",
    "\n",
    "predict_lin = np.floor(lin_final_model.predict(X_test_prepared))\n",
    "error_lin = calc_error(y_test, predict_lin)\n",
    "rmse_lin = calc_rmse(y_test, predict_lin)\n",
    "print(\"Error = \", error_lin)\n",
    "print(\"RMSE = \", rmse_lin)"
   ]
  },
  {
   "cell_type": "markdown",
   "metadata": {},
   "source": [
    "## Hyper-parameter tuning for Random Forest"
   ]
  },
  {
   "cell_type": "code",
   "execution_count": 92,
   "metadata": {
    "collapsed": false
   },
   "outputs": [],
   "source": [
    "from sklearn.model_selection import GridSearchCV\n",
    "from sklearn.model_selection import cross_val_score\n",
    "from sklearn.ensemble import RandomForestRegressor\n",
    "\n",
    "if __avoid_run_heavy_tasks__ == False:\n",
    "\n",
    "    param_grid = [\n",
    "        {'n_estimators': [3, 10, 30], 'max_features': [2, 4, 6, 8]},\n",
    "        {'bootstrap': [False], 'n_estimators': [3, 10], 'max_features': [2, 3, 4]},\n",
    "      ]\n",
    "\n",
    "    forest_reg = RandomForestRegressor(random_state=42)\n",
    "    grid_search = GridSearchCV(forest_reg, param_grid, cv=5,\n",
    "                               scoring='neg_mean_squared_error')\n",
    "    #grid_search.fit(X_train_prepared[:1000,:], y_train[:1000])\n",
    "    grid_search.fit(X_train_prepared, y_train)\n",
    "    print(grid_search.best_estimator_)"
   ]
  },
  {
   "cell_type": "code",
   "execution_count": 93,
   "metadata": {
    "collapsed": false
   },
   "outputs": [
    {
     "name": "stdout",
     "output_type": "stream",
     "text": [
      "Error =  0.25479374541837824\n",
      "RMSE =  1.5738346918562176\n"
     ]
    },
    {
     "data": {
      "text/plain": [
       "0.25479374541837824"
      ]
     },
     "execution_count": 93,
     "metadata": {},
     "output_type": "execute_result"
    }
   ],
   "source": [
    "from sklearn.ensemble import RandomForestRegressor\n",
    "#rf_final_model = grid_search.best_estimator_\n",
    "rf_final_model = RandomForestRegressor(bootstrap=True, criterion='mse', max_depth=None,\n",
    "           max_features=6, max_leaf_nodes=None, min_impurity_decrease=0.0,\n",
    "           min_impurity_split=None, min_samples_leaf=1,\n",
    "           min_samples_split=2, min_weight_fraction_leaf=0.0,\n",
    "           n_estimators=30, n_jobs=1, oob_score=False, random_state=42,\n",
    "           verbose=0, warm_start=False)\n",
    "rf_final_model.fit(X_train_prepared, y_train)\n",
    "\n",
    "predict_rf = rf_final_model.predict(X_test_prepared)\n",
    "predict_rf = np.floor(predict_rf)\n",
    "error_rf = calc_error(y_test, predict_rf)\n",
    "rmse_rf = calc_rmse(y_test, predict_rf)\n",
    "print(\"Error = \", error_rf)\n",
    "print(\"RMSE = \", rmse_rf)\n",
    "error_rf"
   ]
  },
  {
   "cell_type": "code",
   "execution_count": 94,
   "metadata": {
    "collapsed": false
   },
   "outputs": [
    {
     "data": {
      "text/plain": [
       "array([-2.27601106, -2.3975855 , -2.3617343 , -2.37683042, -2.12574505,\n",
       "       -2.48326028, -2.50439568, -2.33549382, -2.41254361, -2.30833293])"
      ]
     },
     "execution_count": 94,
     "metadata": {},
     "output_type": "execute_result"
    }
   ],
   "source": [
    "kFolds = 10\n",
    "corss_val_rf = cross_val_score(rf_final_model, X_train_prepared.astype(np.float32), \\\n",
    "                             y_train,\n",
    "                             scoring=\"neg_mean_squared_error\", cv=kFolds)\n",
    "corss_val_rf"
   ]
  },
  {
   "cell_type": "code",
   "execution_count": 95,
   "metadata": {
    "collapsed": false
   },
   "outputs": [
    {
     "data": {
      "text/html": [
       "<div>\n",
       "<style scoped>\n",
       "    .dataframe tbody tr th:only-of-type {\n",
       "        vertical-align: middle;\n",
       "    }\n",
       "\n",
       "    .dataframe tbody tr th {\n",
       "        vertical-align: top;\n",
       "    }\n",
       "\n",
       "    .dataframe thead th {\n",
       "        text-align: right;\n",
       "    }\n",
       "</style>\n",
       "<table border=\"1\" class=\"dataframe\">\n",
       "  <thead>\n",
       "    <tr style=\"text-align: right;\">\n",
       "      <th></th>\n",
       "      <th>Experiment</th>\n",
       "      <th>Error (Test)</th>\n",
       "      <th>RMSE (Test)</th>\n",
       "      <th>p_value</th>\n",
       "      <th>t_score</th>\n",
       "      <th>Experiment description</th>\n",
       "    </tr>\n",
       "  </thead>\n",
       "  <tbody>\n",
       "    <tr>\n",
       "      <th>0</th>\n",
       "      <td>Simple logic based on finding Average for DIH</td>\n",
       "      <td>0.243654</td>\n",
       "      <td>1.541389</td>\n",
       "      <td>not calculated</td>\n",
       "      <td>not calculated</td>\n",
       "      <td>The mean value of DIH is calculated based on h...</td>\n",
       "    </tr>\n",
       "    <tr>\n",
       "      <th>1</th>\n",
       "      <td>Random Forest</td>\n",
       "      <td>0.271772</td>\n",
       "      <td>1.559120</td>\n",
       "      <td>not calculated</td>\n",
       "      <td>not calculated</td>\n",
       "      <td>Only numeric fields which are directly availab...</td>\n",
       "    </tr>\n",
       "    <tr>\n",
       "      <th>2</th>\n",
       "      <td>Random Forest - After Feature Engineering</td>\n",
       "      <td>0.254794</td>\n",
       "      <td>1.573835</td>\n",
       "      <td>not calculated</td>\n",
       "      <td>not calculated</td>\n",
       "      <td>Feature Engineering, Parameter Tuning</td>\n",
       "    </tr>\n",
       "  </tbody>\n",
       "</table>\n",
       "</div>"
      ],
      "text/plain": [
       "                                      Experiment  Error (Test)  RMSE (Test)  \\\n",
       "0  Simple logic based on finding Average for DIH      0.243654     1.541389   \n",
       "1                                  Random Forest      0.271772     1.559120   \n",
       "2      Random Forest - After Feature Engineering      0.254794     1.573835   \n",
       "\n",
       "          p_value         t_score  \\\n",
       "0  not calculated  not calculated   \n",
       "1  not calculated  not calculated   \n",
       "2  not calculated  not calculated   \n",
       "\n",
       "                              Experiment description  \n",
       "0  The mean value of DIH is calculated based on h...  \n",
       "1  Only numeric fields which are directly availab...  \n",
       "2              Feature Engineering, Parameter Tuning  "
      ]
     },
     "execution_count": 95,
     "metadata": {},
     "output_type": "execute_result"
    }
   ],
   "source": [
    "results_table.loc[len(results_table)] = [\"Random Forest - After Feature Engineering\", \n",
    "                             error_rf, rmse_rf,\n",
    "                              corss_val_rf,\"not calculated\", \"not calculated\",  \n",
    "                             'Feature Engineering, Parameter Tuning']\n",
    "results_table[[\"Experiment\", \"Error (Test)\", \"RMSE (Test)\", \"p_value\", \"t_score\", \"Experiment description\"]]"
   ]
  },
  {
   "cell_type": "markdown",
   "metadata": {},
   "source": [
    "## Hyper-parameter tuning for SVM\n",
    "Lets try Random Search instead of Grid Search this time around.\n",
    "Since SVM training takes long time, using only partial dataset (about 1/3 size)"
   ]
  },
  {
   "cell_type": "code",
   "execution_count": 96,
   "metadata": {
    "collapsed": false
   },
   "outputs": [],
   "source": [
    "from sklearn.svm import SVR\n",
    "from sklearn.model_selection import RandomizedSearchCV\n",
    "from scipy.stats import reciprocal, uniform\n",
    "\n",
    "if __avoid_run_svm__ == False:\n",
    "    param_distributions = {\"gamma\": reciprocal(0.001, 0.5), \"C\": uniform(2, 10)}\n",
    "    rnd_search_cv = RandomizedSearchCV(SVR(), param_distributions, n_iter=10, verbose=2, random_state=42,  n_jobs=-1)\n",
    "    if __name__ == \"__main__\":     \n",
    "        rnd_search_cv.fit(X_train_prepared[:40000,:], y_train[:40000])\n",
    "        #rnd_search_cv.fit(X_train_prepared, y_train)\n",
    "    rnd_search_cv.best_estimator_"
   ]
  },
  {
   "cell_type": "code",
   "execution_count": 97,
   "metadata": {
    "collapsed": false
   },
   "outputs": [],
   "source": [
    "if __avoid_run_svm__ == False:\n",
    "    #best_svr = rnd_search_cv.best_estimator_\n",
    "    best_svr = SVR(C=10.324426408004218, cache_size=200, coef0=0.0, degree=3, epsilon=0.1,\n",
    "      gamma=0.003741940611118496, kernel='rbf', max_iter=-1, shrinking=True,\n",
    "      tol=0.001, verbose=False)\n",
    "\n",
    "    best_svr.fit(X_train_prepared[:40000,:], y_train[:40000])\n",
    "\n",
    "    predict_svr = best_svr.predict(X_test_prepared)\n",
    "    predict_svr = np.floor(predict_svr)\n",
    "    error_svr = calc_error(y_test, predict_svr)\n",
    "    error_svr"
   ]
  },
  {
   "cell_type": "code",
   "execution_count": 98,
   "metadata": {
    "collapsed": false
   },
   "outputs": [],
   "source": [
    "if __avoid_run_svm__ == False:\n",
    "    rmse_svr = calc_rmse(y_test, predict_svr)\n",
    "    print(\"RMSE = \", rmse_svr)"
   ]
  },
  {
   "cell_type": "code",
   "execution_count": 99,
   "metadata": {
    "collapsed": true
   },
   "outputs": [],
   "source": [
    "if __avoid_run_svm__ == False:\n",
    "    kFolds = 10\n",
    "    corss_val_svr = cross_val_score(best_svr, X_train_prepared.astype(np.float32), \\\n",
    "                                 y_train,\n",
    "                                 scoring=\"neg_mean_squared_error\", cv=kFolds)\n",
    "    corss_val_svr"
   ]
  },
  {
   "cell_type": "code",
   "execution_count": 100,
   "metadata": {
    "collapsed": false
   },
   "outputs": [
    {
     "data": {
      "text/html": [
       "<div>\n",
       "<style scoped>\n",
       "    .dataframe tbody tr th:only-of-type {\n",
       "        vertical-align: middle;\n",
       "    }\n",
       "\n",
       "    .dataframe tbody tr th {\n",
       "        vertical-align: top;\n",
       "    }\n",
       "\n",
       "    .dataframe thead th {\n",
       "        text-align: right;\n",
       "    }\n",
       "</style>\n",
       "<table border=\"1\" class=\"dataframe\">\n",
       "  <thead>\n",
       "    <tr style=\"text-align: right;\">\n",
       "      <th></th>\n",
       "      <th>Experiment</th>\n",
       "      <th>Error (Test)</th>\n",
       "      <th>RMSE (Test)</th>\n",
       "      <th>p_value</th>\n",
       "      <th>t_score</th>\n",
       "      <th>Experiment description</th>\n",
       "    </tr>\n",
       "  </thead>\n",
       "  <tbody>\n",
       "    <tr>\n",
       "      <th>0</th>\n",
       "      <td>Simple logic based on finding Average for DIH</td>\n",
       "      <td>0.243654</td>\n",
       "      <td>1.541389</td>\n",
       "      <td>not calculated</td>\n",
       "      <td>not calculated</td>\n",
       "      <td>The mean value of DIH is calculated based on h...</td>\n",
       "    </tr>\n",
       "    <tr>\n",
       "      <th>1</th>\n",
       "      <td>Random Forest</td>\n",
       "      <td>0.271772</td>\n",
       "      <td>1.559120</td>\n",
       "      <td>not calculated</td>\n",
       "      <td>not calculated</td>\n",
       "      <td>Only numeric fields which are directly availab...</td>\n",
       "    </tr>\n",
       "    <tr>\n",
       "      <th>2</th>\n",
       "      <td>Random Forest - After Feature Engineering</td>\n",
       "      <td>0.254794</td>\n",
       "      <td>1.573835</td>\n",
       "      <td>not calculated</td>\n",
       "      <td>not calculated</td>\n",
       "      <td>Feature Engineering, Parameter Tuning</td>\n",
       "    </tr>\n",
       "    <tr>\n",
       "      <th>3</th>\n",
       "      <td>SVM(SVR) - After Feature Engineering</td>\n",
       "      <td>Divide by 0 error</td>\n",
       "      <td>1.651900</td>\n",
       "      <td>not calculated</td>\n",
       "      <td>not calculated</td>\n",
       "      <td>Feature Engineering, Parameter Tuning</td>\n",
       "    </tr>\n",
       "  </tbody>\n",
       "</table>\n",
       "</div>"
      ],
      "text/plain": [
       "                                      Experiment       Error (Test)  \\\n",
       "0  Simple logic based on finding Average for DIH           0.243654   \n",
       "1                                  Random Forest           0.271772   \n",
       "2      Random Forest - After Feature Engineering           0.254794   \n",
       "3           SVM(SVR) - After Feature Engineering  Divide by 0 error   \n",
       "\n",
       "   RMSE (Test)         p_value         t_score  \\\n",
       "0     1.541389  not calculated  not calculated   \n",
       "1     1.559120  not calculated  not calculated   \n",
       "2     1.573835  not calculated  not calculated   \n",
       "3     1.651900  not calculated  not calculated   \n",
       "\n",
       "                              Experiment description  \n",
       "0  The mean value of DIH is calculated based on h...  \n",
       "1  Only numeric fields which are directly availab...  \n",
       "2              Feature Engineering, Parameter Tuning  \n",
       "3              Feature Engineering, Parameter Tuning  "
      ]
     },
     "execution_count": 100,
     "metadata": {},
     "output_type": "execute_result"
    }
   ],
   "source": [
    "if __avoid_run_svm__ == False:\n",
    "    results_table.loc[len(results_table)] = [\"SVM(SVR) - After Feature Engineering\", \n",
    "                                 \"Divide by 0 error\", rmse_svr,\n",
    "                                  corss_val_svr,\"not calculated\", \"not calculated\",  \n",
    "                                 'Feature Engineering, Parameter Tuning']\n",
    "else:\n",
    "    results_table.loc[len(results_table)] = [\"SVM(SVR) - After Feature Engineering\", \n",
    "                                 \"Divide by 0 error\", 1.6519,\n",
    "                                  [],\"not calculated\", \"not calculated\",  \n",
    "                                 'Feature Engineering, Parameter Tuning']\n",
    "results_table[[\"Experiment\", \"Error (Test)\", \"RMSE (Test)\", \"p_value\", \"t_score\", \"Experiment description\"]]"
   ]
  },
  {
   "cell_type": "markdown",
   "metadata": {},
   "source": [
    "## Full Pipeline - Random Forest"
   ]
  },
  {
   "cell_type": "code",
   "execution_count": 101,
   "metadata": {
    "collapsed": false
   },
   "outputs": [
    {
     "name": "stdout",
     "output_type": "stream",
     "text": [
      "Error =  0.2726796902622541\n",
      "RMSE =  1.542195163645455\n"
     ]
    }
   ],
   "source": [
    "#Create Full Prediction Pipeline\n",
    "rf = RandomForestRegressor(bootstrap=True, criterion='mse', max_depth=None,\n",
    "           max_features=6, max_leaf_nodes=None, min_impurity_decrease=0.0,\n",
    "           min_impurity_split=None, min_samples_leaf=1,\n",
    "           min_samples_split=2, min_weight_fraction_leaf=0.0,\n",
    "           n_estimators=30, n_jobs=1, oob_score=False, random_state=42,\n",
    "           verbose=0, warm_start=False)\n",
    "\n",
    "full_pipeline_with_predictor = Pipeline([\n",
    "        (\"preparation\", num_pipeline),\n",
    "        (\"random forest\", rf)\n",
    "    ])\n",
    "\n",
    "full_pipeline_with_predictor.fit(X_train, y_train)\n",
    "predict_full = full_pipeline_with_predictor.predict(X_test)\n",
    "error_rf_full = calc_error(y_test, predict_full)\n",
    "rmse_rf_full = calc_rmse(y_test, predict_full)\n",
    "print(\"Error = \", error_rf_full)\n",
    "print(\"RMSE = \", rmse_rf_full)"
   ]
  },
  {
   "cell_type": "code",
   "execution_count": 102,
   "metadata": {
    "collapsed": false
   },
   "outputs": [
    {
     "data": {
      "text/plain": [
       "array([-2.27811791, -2.40004988, -2.36339248, -2.37533428, -2.12745296,\n",
       "       -2.48034863, -2.50298475, -2.33430309, -2.41405295, -2.30921908])"
      ]
     },
     "execution_count": 102,
     "metadata": {},
     "output_type": "execute_result"
    }
   ],
   "source": [
    "kFolds = 10\n",
    "corss_val_rf_full = cross_val_score(full_pipeline_with_predictor, X_train, \\\n",
    "                             y_train,\n",
    "                             scoring=\"neg_mean_squared_error\", cv=kFolds)\n",
    "corss_val_rf_full"
   ]
  },
  {
   "cell_type": "code",
   "execution_count": 103,
   "metadata": {
    "collapsed": false
   },
   "outputs": [
    {
     "data": {
      "text/html": [
       "<div>\n",
       "<style scoped>\n",
       "    .dataframe tbody tr th:only-of-type {\n",
       "        vertical-align: middle;\n",
       "    }\n",
       "\n",
       "    .dataframe tbody tr th {\n",
       "        vertical-align: top;\n",
       "    }\n",
       "\n",
       "    .dataframe thead th {\n",
       "        text-align: right;\n",
       "    }\n",
       "</style>\n",
       "<table border=\"1\" class=\"dataframe\">\n",
       "  <thead>\n",
       "    <tr style=\"text-align: right;\">\n",
       "      <th></th>\n",
       "      <th>Experiment</th>\n",
       "      <th>Error (Test)</th>\n",
       "      <th>RMSE (Test)</th>\n",
       "      <th>p_value</th>\n",
       "      <th>t_score</th>\n",
       "      <th>Experiment description</th>\n",
       "    </tr>\n",
       "  </thead>\n",
       "  <tbody>\n",
       "    <tr>\n",
       "      <th>0</th>\n",
       "      <td>Simple logic based on finding Average for DIH</td>\n",
       "      <td>0.243654</td>\n",
       "      <td>1.541389</td>\n",
       "      <td>not calculated</td>\n",
       "      <td>not calculated</td>\n",
       "      <td>The mean value of DIH is calculated based on h...</td>\n",
       "    </tr>\n",
       "    <tr>\n",
       "      <th>1</th>\n",
       "      <td>Random Forest</td>\n",
       "      <td>0.271772</td>\n",
       "      <td>1.559120</td>\n",
       "      <td>not calculated</td>\n",
       "      <td>not calculated</td>\n",
       "      <td>Only numeric fields which are directly availab...</td>\n",
       "    </tr>\n",
       "    <tr>\n",
       "      <th>2</th>\n",
       "      <td>Random Forest - After Feature Engineering</td>\n",
       "      <td>0.254794</td>\n",
       "      <td>1.573835</td>\n",
       "      <td>not calculated</td>\n",
       "      <td>not calculated</td>\n",
       "      <td>Feature Engineering, Parameter Tuning</td>\n",
       "    </tr>\n",
       "    <tr>\n",
       "      <th>3</th>\n",
       "      <td>SVM(SVR) - After Feature Engineering</td>\n",
       "      <td>Divide by 0 error</td>\n",
       "      <td>1.651900</td>\n",
       "      <td>not calculated</td>\n",
       "      <td>not calculated</td>\n",
       "      <td>Feature Engineering, Parameter Tuning</td>\n",
       "    </tr>\n",
       "    <tr>\n",
       "      <th>4</th>\n",
       "      <td>Random Forest - After Feature Engineering</td>\n",
       "      <td>0.27268</td>\n",
       "      <td>1.542195</td>\n",
       "      <td>not calculated</td>\n",
       "      <td>not calculated</td>\n",
       "      <td>Full Prediction Pipeline</td>\n",
       "    </tr>\n",
       "  </tbody>\n",
       "</table>\n",
       "</div>"
      ],
      "text/plain": [
       "                                      Experiment       Error (Test)  \\\n",
       "0  Simple logic based on finding Average for DIH           0.243654   \n",
       "1                                  Random Forest           0.271772   \n",
       "2      Random Forest - After Feature Engineering           0.254794   \n",
       "3           SVM(SVR) - After Feature Engineering  Divide by 0 error   \n",
       "4      Random Forest - After Feature Engineering            0.27268   \n",
       "\n",
       "   RMSE (Test)         p_value         t_score  \\\n",
       "0     1.541389  not calculated  not calculated   \n",
       "1     1.559120  not calculated  not calculated   \n",
       "2     1.573835  not calculated  not calculated   \n",
       "3     1.651900  not calculated  not calculated   \n",
       "4     1.542195  not calculated  not calculated   \n",
       "\n",
       "                              Experiment description  \n",
       "0  The mean value of DIH is calculated based on h...  \n",
       "1  Only numeric fields which are directly availab...  \n",
       "2              Feature Engineering, Parameter Tuning  \n",
       "3              Feature Engineering, Parameter Tuning  \n",
       "4                           Full Prediction Pipeline  "
      ]
     },
     "execution_count": 103,
     "metadata": {},
     "output_type": "execute_result"
    }
   ],
   "source": [
    "results_table.loc[len(results_table)] = [\"Random Forest - After Feature Engineering\", \n",
    "                             error_rf_full, rmse_rf_full,\n",
    "                             corss_val_rf_full,\"not calculated\", \"not calculated\",  \n",
    "                             'Full Prediction Pipeline']\n",
    "results_table[[\"Experiment\", \"Error (Test)\", \"RMSE (Test)\", \"p_value\", \"t_score\", \"Experiment description\"]]"
   ]
  },
  {
   "cell_type": "code",
   "execution_count": 104,
   "metadata": {
    "collapsed": false
   },
   "outputs": [
    {
     "data": {
      "text/plain": [
       "0.4529763494770584"
      ]
     },
     "execution_count": 104,
     "metadata": {},
     "output_type": "execute_result"
    }
   ],
   "source": [
    "import numpy as np\n",
    "np.mean(y_test)"
   ]
  },
  {
   "cell_type": "code",
   "execution_count": 105,
   "metadata": {
    "collapsed": false
   },
   "outputs": [],
   "source": [
    "#Write down the Result DF to disk so that we can simply start from his point\n",
    "results_table.to_csv(data_path + \"result_table.csv\")"
   ]
  },
  {
   "cell_type": "code",
   "execution_count": 106,
   "metadata": {
    "collapsed": true
   },
   "outputs": [],
   "source": [
    "results_table = pd.read_csv(data_path + \"result_table.csv\")"
   ]
  },
  {
   "cell_type": "markdown",
   "metadata": {},
   "source": [
    "<B>Summary: </B>\n",
    "1. It looks like Random Forest is giving best accuracy so far\n",
    "2. Need to look into why error calculation of SVR is erroring out. But SVR RMSE is not as accurate as Random Forest\n",
    "3. In grid search, linear regression was also giving fairly similar results. We can try linear regression too\n",
    "4. The mean value of y_test only 0.25. From this perspective, RMSE of 1.07 seem to be high. Need to further tune the model."
   ]
  },
  {
   "cell_type": "markdown",
   "metadata": {},
   "source": [
    "## Plan of Action for Phase 3 and Phase 4\n",
    "Here are the things that should be tried in Phase 3 for further improving the accuracy\n",
    "1. Relook at all the extracted features. For example, LengthOfStay (LOS) is range which is converted to MinLOS and MaxLOS. But while creating aggregation at MemberID+Year level, we have Min/Max/Avg of each numeric column. However, Max(MinLOS) does not make sense and possibly confusing the ML algo. Need to relook into this\n",
    "2. While creating base model (Phase 2), we divided Days_In_Hopsital for Y3 into test and train set. In Phase 3, we first created the entire merged set and then divided it into test and train set. Which strategy is right?\n",
    "3. Moving avergae as a feature - Is there corelation between a member DaysInHospital for Y2 and Y3? If yes, do we need to add DaysInHospitalY2 as feature for calculating Y3?\n",
    "4. Is CharlsonIndex related to specialty of primary condition group? Should we use CharlsonIndex as value for corresponding primary condition group?\n",
    "5. Analyze the predictions - the days in hospital range from 0 to 14 but most of the records are 0. Analyze where the predictions are going wrong? If most of the predictions are going wrong in predicting 0, then can we think of other strategy? For example - can we use classifier first (0 days Vs >0 days) and then do regression for non zero cases?"
   ]
  },
  {
   "cell_type": "markdown",
   "metadata": {
    "collapsed": true
   },
   "source": [
    "# Phase 3"
   ]
  },
  {
   "cell_type": "markdown",
   "metadata": {},
   "source": [
    "## Measure p-value, t-score\n",
    "Lets use the Random Forest as the base model since it is giving a goot accuracy. \n",
    "Lets create mechanism to track p-value and t-score to check the new models against the base Random Forest model"
   ]
  },
  {
   "cell_type": "code",
   "execution_count": 107,
   "metadata": {
    "collapsed": true
   },
   "outputs": [],
   "source": [
    "from scipy import stats\n",
    "def stats_compare_models(control_new_mse, treatment_new_mse):\n",
    "    control = np.sqrt(-control_new_mse)\n",
    "    treatment = np.sqrt(-treatment_new_mse)\n",
    "    (t_score, p_value) = stats.ttest_rel(control, treatment)\n",
    "    print(t_score, p_value)\n",
    "    if p_value > 0.05/2:  #Two sided \n",
    "        result_message = 'There is no significant difference between the two machine learning pipelines (Accept H0)'\n",
    "    else:\n",
    "        result_message = 'The two machine learning pipelines are different (reject H0)'\n",
    "        if t_score < 0.0: #in the case of regression lower RMSE is better; A is lower \n",
    "            result_message = 'Machine learning pipeline A is better than B'\n",
    "        else:\n",
    "            result_message = 'Machine learning pipeline B is better than A'\n",
    "    return (p_value, t_score, result_message)\n",
    "    "
   ]
  },
  {
   "cell_type": "code",
   "execution_count": 108,
   "metadata": {
    "collapsed": false
   },
   "outputs": [],
   "source": [
    "#add a column to hold the summary of comparison result\n",
    "results_table[\"ControlModel\"] = \"\"\n",
    "results_table[\"ModelComparisonResult\"] = \"\""
   ]
  },
  {
   "cell_type": "code",
   "execution_count": 109,
   "metadata": {
    "collapsed": false
   },
   "outputs": [
    {
     "name": "stdout",
     "output_type": "stream",
     "text": [
      "0.8567281750093443 0.4138243006463007\n"
     ]
    }
   ],
   "source": [
    "#Compare initial based line model with Random Forest Model after feature engineering and \n",
    "#hyper-parameter tuning\n",
    "control = results_table.loc[1][\"cross_val_scores\"][1:-1].split()\n",
    "control = np.array(list(map(float, control)))\n",
    "\n",
    "treatment = results_table.loc[2][\"cross_val_scores\"][1:-1].split()\n",
    "treatment = np.array(list(map(float, treatment)))\n",
    "\n",
    "(p_value, t_score, result_message) = stats_compare_models(control, treatment)\n",
    "results_table.at[2, 'p_value'] = p_value\n",
    "results_table.at[2, 't_score'] = t_score\n",
    "results_table.at[2, 'ControlModel'] = \"Compared with BaseLine RF. \"\n",
    "results_table.at[2, 'ModelComparisonResult'] = result_message"
   ]
  },
  {
   "cell_type": "code",
   "execution_count": 110,
   "metadata": {
    "collapsed": false
   },
   "outputs": [
    {
     "name": "stdout",
     "output_type": "stream",
     "text": [
      "-0.5937758085291613 0.5672842200089325\n"
     ]
    }
   ],
   "source": [
    "#Compare initial based line model with Random Forest Model after feature engineering and \n",
    "#hyper-parameter tuning\n",
    "control = results_table.loc[2][\"cross_val_scores\"][1:-1].split()\n",
    "control = np.array(list(map(float, control)))\n",
    "\n",
    "treatment = results_table.loc[4][\"cross_val_scores\"][1:-1].split()\n",
    "treatment = np.array(list(map(float, treatment)))\n",
    "\n",
    "(p_value, t_score, result_message) = stats_compare_models(control, treatment)\n",
    "results_table.at[4, 'p_value'] = p_value\n",
    "results_table.at[4, 't_score'] = t_score\n",
    "results_table.at[4, 'ControlModel'] = \"Compared with RF after feature engineering. \"\n",
    "results_table.at[4, 'ModelComparisonResult'] = result_message"
   ]
  },
  {
   "cell_type": "code",
   "execution_count": 111,
   "metadata": {
    "collapsed": false
   },
   "outputs": [
    {
     "data": {
      "text/html": [
       "<div>\n",
       "<style scoped>\n",
       "    .dataframe tbody tr th:only-of-type {\n",
       "        vertical-align: middle;\n",
       "    }\n",
       "\n",
       "    .dataframe tbody tr th {\n",
       "        vertical-align: top;\n",
       "    }\n",
       "\n",
       "    .dataframe thead th {\n",
       "        text-align: right;\n",
       "    }\n",
       "</style>\n",
       "<table border=\"1\" class=\"dataframe\">\n",
       "  <thead>\n",
       "    <tr style=\"text-align: right;\">\n",
       "      <th></th>\n",
       "      <th>Experiment</th>\n",
       "      <th>Error (Test)</th>\n",
       "      <th>RMSE (Test)</th>\n",
       "      <th>p_value</th>\n",
       "      <th>t_score</th>\n",
       "      <th>ControlModel</th>\n",
       "      <th>ModelComparisonResult</th>\n",
       "      <th>Experiment description</th>\n",
       "    </tr>\n",
       "  </thead>\n",
       "  <tbody>\n",
       "    <tr>\n",
       "      <th>0</th>\n",
       "      <td>Simple logic based on finding Average for DIH</td>\n",
       "      <td>0.2436542912261619</td>\n",
       "      <td>1.541389</td>\n",
       "      <td>not calculated</td>\n",
       "      <td>not calculated</td>\n",
       "      <td></td>\n",
       "      <td></td>\n",
       "      <td>The mean value of DIH is calculated based on h...</td>\n",
       "    </tr>\n",
       "    <tr>\n",
       "      <th>1</th>\n",
       "      <td>Random Forest</td>\n",
       "      <td>0.2717722908121741</td>\n",
       "      <td>1.559120</td>\n",
       "      <td>not calculated</td>\n",
       "      <td>not calculated</td>\n",
       "      <td></td>\n",
       "      <td></td>\n",
       "      <td>Only numeric fields which are directly availab...</td>\n",
       "    </tr>\n",
       "    <tr>\n",
       "      <th>2</th>\n",
       "      <td>Random Forest - After Feature Engineering</td>\n",
       "      <td>0.25479374541837824</td>\n",
       "      <td>1.573835</td>\n",
       "      <td>0.413824</td>\n",
       "      <td>0.856728</td>\n",
       "      <td>Compared with BaseLine RF.</td>\n",
       "      <td>There is no significant difference between the...</td>\n",
       "      <td>Feature Engineering, Parameter Tuning</td>\n",
       "    </tr>\n",
       "    <tr>\n",
       "      <th>3</th>\n",
       "      <td>SVM(SVR) - After Feature Engineering</td>\n",
       "      <td>Divide by 0 error</td>\n",
       "      <td>1.651900</td>\n",
       "      <td>not calculated</td>\n",
       "      <td>not calculated</td>\n",
       "      <td></td>\n",
       "      <td></td>\n",
       "      <td>Feature Engineering, Parameter Tuning</td>\n",
       "    </tr>\n",
       "    <tr>\n",
       "      <th>4</th>\n",
       "      <td>Random Forest - After Feature Engineering</td>\n",
       "      <td>0.2726796902622541</td>\n",
       "      <td>1.542195</td>\n",
       "      <td>0.567284</td>\n",
       "      <td>-0.593776</td>\n",
       "      <td>Compared with RF after feature engineering.</td>\n",
       "      <td>There is no significant difference between the...</td>\n",
       "      <td>Full Prediction Pipeline</td>\n",
       "    </tr>\n",
       "  </tbody>\n",
       "</table>\n",
       "</div>"
      ],
      "text/plain": [
       "                                      Experiment         Error (Test)  \\\n",
       "0  Simple logic based on finding Average for DIH   0.2436542912261619   \n",
       "1                                  Random Forest   0.2717722908121741   \n",
       "2      Random Forest - After Feature Engineering  0.25479374541837824   \n",
       "3           SVM(SVR) - After Feature Engineering    Divide by 0 error   \n",
       "4      Random Forest - After Feature Engineering   0.2726796902622541   \n",
       "\n",
       "   RMSE (Test)         p_value         t_score  \\\n",
       "0     1.541389  not calculated  not calculated   \n",
       "1     1.559120  not calculated  not calculated   \n",
       "2     1.573835        0.413824        0.856728   \n",
       "3     1.651900  not calculated  not calculated   \n",
       "4     1.542195        0.567284       -0.593776   \n",
       "\n",
       "                                   ControlModel  \\\n",
       "0                                                 \n",
       "1                                                 \n",
       "2                   Compared with BaseLine RF.    \n",
       "3                                                 \n",
       "4  Compared with RF after feature engineering.    \n",
       "\n",
       "                               ModelComparisonResult  \\\n",
       "0                                                      \n",
       "1                                                      \n",
       "2  There is no significant difference between the...   \n",
       "3                                                      \n",
       "4  There is no significant difference between the...   \n",
       "\n",
       "                              Experiment description  \n",
       "0  The mean value of DIH is calculated based on h...  \n",
       "1  Only numeric fields which are directly availab...  \n",
       "2              Feature Engineering, Parameter Tuning  \n",
       "3              Feature Engineering, Parameter Tuning  \n",
       "4                           Full Prediction Pipeline  "
      ]
     },
     "execution_count": 111,
     "metadata": {},
     "output_type": "execute_result"
    }
   ],
   "source": [
    "results_table[[\"Experiment\", \"Error (Test)\", \"RMSE (Test)\", \"p_value\", \"t_score\", \"ControlModel\", \"ModelComparisonResult\", \"Experiment description\"]]"
   ]
  },
  {
   "cell_type": "markdown",
   "metadata": {},
   "source": [
    "<B>Observations:</B>\n",
    "1. As expected, the Model 2 is much better than Model 1\n",
    "2. Model 2 and Model 4 are just same since Model 4 is mearly pipeline implementaiton of Model 2"
   ]
  },
  {
   "cell_type": "markdown",
   "metadata": {},
   "source": [
    "## Take out un-necessary columns(features)\n",
    "\n",
    "Relook at all the extracted features. For example, LengthOfStay (LOS) is range which is converted to MinLOS and MaxLOS. But while creating aggregation at MemberID+Year level, we have Min/Max/Avg of each numeric column. However, Max(MinLOS) does not make sense and possibly confusing the ML algo."
   ]
  },
  {
   "cell_type": "code",
   "execution_count": 112,
   "metadata": {
    "collapsed": false
   },
   "outputs": [
    {
     "data": {
      "text/plain": [
       "Index(['MemberID', 'Year', 'ClaimsTruncated', 'TotalLabCount',\n",
       "       'TotalDrugCount', 'ProviderCount', 'VendorCount', 'MinPCP', 'MaxPCP',\n",
       "       'AvgPCP', 'MinLengthOfStayMin', 'MaxLengthOfStayMin',\n",
       "       'AvgLengthOfStayMin', 'MinLengthOfStayMax', 'MaxLengthOfStayMax',\n",
       "       'AvgLengthOfStayMax', 'MinDSFSMin', 'MaxDSFSMin', 'AvgDSFSMin',\n",
       "       'MinDSFSMax', 'MaxDSFSMax', 'AvgDSFSMax', 'MinCharlsonIndexMin',\n",
       "       'MaxCharlsonIndexMin', 'AvgCharlsonIndexMin', 'MinCharlsonIndexMax',\n",
       "       'MaxCharlsonIndexMax', 'AvgCharlsonIndexMax', 'Specialty_Surgery',\n",
       "       'Specialty_Internal', 'Specialty_Laboratory', 'Specialty_Pediatrics',\n",
       "       'Specialty_Rehabilitation', 'Specialty_DiagnosticImaging',\n",
       "       'Specialty_Anesthesiology', 'Specialty_Emergency',\n",
       "       'Specialty_GeneralPractice', 'Specialty_Other',\n",
       "       'Specialty_ObstetricsandGynecology', 'Specialty_Pathology',\n",
       "       'Specialty_nan', 'PlaceSvc_Office', 'PlaceSvc_IndependentLab',\n",
       "       'PlaceSvc_OutpatientHospital', 'PlaceSvc_InpatientHospital',\n",
       "       'PlaceSvc_UrgentCare', 'PlaceSvc_Ambulance', 'PlaceSvc_Home',\n",
       "       'PlaceSvc_nan', 'PlaceSvc_Other'],\n",
       "      dtype='object')"
      ]
     },
     "execution_count": 112,
     "metadata": {},
     "output_type": "execute_result"
    }
   ],
   "source": [
    "X_train.columns[0:50]"
   ]
  },
  {
   "cell_type": "markdown",
   "metadata": {},
   "source": [
    "Lets take out below features\n",
    "\n",
    "MaxLengthOfStayMin, MinLengthOfStayMax,MaxDSFSMin,  MinDSFSMax, MaxCharlsonIndexMin, MinCharlsonIndexMax\n",
    "\n",
    "Also check if we can combine these columns\n",
    "\n",
    "AvgLengthOfStayMin-AvgLengthOfStayMax, AvgDSFSMin-AvgDSFSMax, AvgCharlsonIndexMin-AvgCharlsonIndexMax"
   ]
  },
  {
   "cell_type": "code",
   "execution_count": 113,
   "metadata": {
    "collapsed": false
   },
   "outputs": [],
   "source": [
    "num_attribs = num_columns\n",
    "remove_cols = [\"MaxLengthOfStayMin\", \"MinLengthOfStayMax\",\"MaxDSFSMin\", \"MinDSFSMax\", \"MaxCharlsonIndexMin\", \"MinCharlsonIndexMax\"]\n",
    "num_attribs = [x for x in num_attribs if x not in remove_cols]\n",
    "#num_attribs"
   ]
  },
  {
   "cell_type": "code",
   "execution_count": 114,
   "metadata": {
    "collapsed": false
   },
   "outputs": [
    {
     "name": "stdout",
     "output_type": "stream",
     "text": [
      "Error =  0.27452662965860447\n",
      "RMSE =  1.5461376072097786\n"
     ]
    }
   ],
   "source": [
    "num_pipeline = Pipeline([\n",
    "        ('selector', DataFrameSelector(num_attribs)),\n",
    "        ('imputer', Imputer(strategy=\"median\")),\n",
    "        #('attribs_adder', CombinedAttributesAdder()),\n",
    "        ('std_scaler', StandardScaler()),\n",
    "    ])\n",
    "\n",
    "full_pipeline_with_predictor = Pipeline([\n",
    "        (\"preparation\", num_pipeline),\n",
    "        (\"random forest\", rf)\n",
    "    ])\n",
    "\n",
    "full_pipeline_with_predictor.fit(X_train, y_train)\n",
    "predict_full = full_pipeline_with_predictor.predict(X_test)\n",
    "error_rf_full = calc_error(y_test, predict_full)\n",
    "rmse_rf_full = calc_rmse(y_test, predict_full)\n",
    "print(\"Error = \", error_rf_full)\n",
    "print(\"RMSE = \", rmse_rf_full)"
   ]
  },
  {
   "cell_type": "code",
   "execution_count": 115,
   "metadata": {
    "collapsed": false
   },
   "outputs": [
    {
     "data": {
      "text/plain": [
       "Index(['Unnamed: 0', 'Experiment', 'Error (Test)', 'RMSE (Test)',\n",
       "       'cross_val_scores', 'p_value', 't_score', 'Experiment description',\n",
       "       'ControlModel', 'ModelComparisonResult'],\n",
       "      dtype='object')"
      ]
     },
     "execution_count": 115,
     "metadata": {},
     "output_type": "execute_result"
    }
   ],
   "source": [
    "results_table.columns"
   ]
  },
  {
   "cell_type": "code",
   "execution_count": 116,
   "metadata": {
    "collapsed": false
   },
   "outputs": [
    {
     "data": {
      "text/html": [
       "<div>\n",
       "<style scoped>\n",
       "    .dataframe tbody tr th:only-of-type {\n",
       "        vertical-align: middle;\n",
       "    }\n",
       "\n",
       "    .dataframe tbody tr th {\n",
       "        vertical-align: top;\n",
       "    }\n",
       "\n",
       "    .dataframe thead th {\n",
       "        text-align: right;\n",
       "    }\n",
       "</style>\n",
       "<table border=\"1\" class=\"dataframe\">\n",
       "  <thead>\n",
       "    <tr style=\"text-align: right;\">\n",
       "      <th></th>\n",
       "      <th>Experiment</th>\n",
       "      <th>Error (Test)</th>\n",
       "      <th>RMSE (Test)</th>\n",
       "      <th>p_value</th>\n",
       "      <th>t_score</th>\n",
       "      <th>Experiment description</th>\n",
       "    </tr>\n",
       "  </thead>\n",
       "  <tbody>\n",
       "    <tr>\n",
       "      <th>0</th>\n",
       "      <td>Simple logic based on finding Average for DIH</td>\n",
       "      <td>0.2436542912261619</td>\n",
       "      <td>1.541389</td>\n",
       "      <td>not calculated</td>\n",
       "      <td>not calculated</td>\n",
       "      <td>The mean value of DIH is calculated based on h...</td>\n",
       "    </tr>\n",
       "    <tr>\n",
       "      <th>1</th>\n",
       "      <td>Random Forest</td>\n",
       "      <td>0.2717722908121741</td>\n",
       "      <td>1.559120</td>\n",
       "      <td>not calculated</td>\n",
       "      <td>not calculated</td>\n",
       "      <td>Only numeric fields which are directly availab...</td>\n",
       "    </tr>\n",
       "    <tr>\n",
       "      <th>2</th>\n",
       "      <td>Random Forest - After Feature Engineering</td>\n",
       "      <td>0.25479374541837824</td>\n",
       "      <td>1.573835</td>\n",
       "      <td>0.413824</td>\n",
       "      <td>0.856728</td>\n",
       "      <td>Feature Engineering, Parameter Tuning</td>\n",
       "    </tr>\n",
       "    <tr>\n",
       "      <th>3</th>\n",
       "      <td>SVM(SVR) - After Feature Engineering</td>\n",
       "      <td>Divide by 0 error</td>\n",
       "      <td>1.651900</td>\n",
       "      <td>not calculated</td>\n",
       "      <td>not calculated</td>\n",
       "      <td>Feature Engineering, Parameter Tuning</td>\n",
       "    </tr>\n",
       "    <tr>\n",
       "      <th>4</th>\n",
       "      <td>Random Forest - After Feature Engineering</td>\n",
       "      <td>0.2726796902622541</td>\n",
       "      <td>1.542195</td>\n",
       "      <td>0.567284</td>\n",
       "      <td>-0.593776</td>\n",
       "      <td>Full Prediction Pipeline</td>\n",
       "    </tr>\n",
       "    <tr>\n",
       "      <th>5</th>\n",
       "      <td>Random Forest - After Reducing some Features</td>\n",
       "      <td>0.274527</td>\n",
       "      <td>1.546138</td>\n",
       "      <td>not calculated</td>\n",
       "      <td>not calculated</td>\n",
       "      <td>Full Prediction Pipeline</td>\n",
       "    </tr>\n",
       "  </tbody>\n",
       "</table>\n",
       "</div>"
      ],
      "text/plain": [
       "                                      Experiment         Error (Test)  \\\n",
       "0  Simple logic based on finding Average for DIH   0.2436542912261619   \n",
       "1                                  Random Forest   0.2717722908121741   \n",
       "2      Random Forest - After Feature Engineering  0.25479374541837824   \n",
       "3           SVM(SVR) - After Feature Engineering    Divide by 0 error   \n",
       "4      Random Forest - After Feature Engineering   0.2726796902622541   \n",
       "5   Random Forest - After Reducing some Features             0.274527   \n",
       "\n",
       "   RMSE (Test)         p_value         t_score  \\\n",
       "0     1.541389  not calculated  not calculated   \n",
       "1     1.559120  not calculated  not calculated   \n",
       "2     1.573835        0.413824        0.856728   \n",
       "3     1.651900  not calculated  not calculated   \n",
       "4     1.542195        0.567284       -0.593776   \n",
       "5     1.546138  not calculated  not calculated   \n",
       "\n",
       "                              Experiment description  \n",
       "0  The mean value of DIH is calculated based on h...  \n",
       "1  Only numeric fields which are directly availab...  \n",
       "2              Feature Engineering, Parameter Tuning  \n",
       "3              Feature Engineering, Parameter Tuning  \n",
       "4                           Full Prediction Pipeline  \n",
       "5                           Full Prediction Pipeline  "
      ]
     },
     "execution_count": 116,
     "metadata": {},
     "output_type": "execute_result"
    }
   ],
   "source": [
    "results_table.loc[len(results_table)] = [\"\", \"Random Forest - After Reducing some Features\", \n",
    "                             error_rf_full, rmse_rf_full,\n",
    "                             [],\"not calculated\", \"not calculated\", \n",
    "                             'Full Prediction Pipeline', \"\", \"\"]\n",
    "results_table[[\"Experiment\", \"Error (Test)\", \"RMSE (Test)\", \"p_value\", \"t_score\", \"Experiment description\"]]"
   ]
  },
  {
   "cell_type": "markdown",
   "metadata": {},
   "source": [
    "<B>Observation: </B> Not much effect on Error or RMSE. Lets ignore"
   ]
  },
  {
   "cell_type": "code",
   "execution_count": 117,
   "metadata": {
    "collapsed": false
   },
   "outputs": [
    {
     "data": {
      "text/html": [
       "<div>\n",
       "<style scoped>\n",
       "    .dataframe tbody tr th:only-of-type {\n",
       "        vertical-align: middle;\n",
       "    }\n",
       "\n",
       "    .dataframe tbody tr th {\n",
       "        vertical-align: top;\n",
       "    }\n",
       "\n",
       "    .dataframe thead th {\n",
       "        text-align: right;\n",
       "    }\n",
       "</style>\n",
       "<table border=\"1\" class=\"dataframe\">\n",
       "  <thead>\n",
       "    <tr style=\"text-align: right;\">\n",
       "      <th></th>\n",
       "      <th>MemberID</th>\n",
       "      <th>Year</th>\n",
       "      <th>ClaimsTruncated</th>\n",
       "      <th>TotalLabCount</th>\n",
       "      <th>TotalDrugCount</th>\n",
       "      <th>ProviderCount</th>\n",
       "      <th>VendorCount</th>\n",
       "      <th>MinPCP</th>\n",
       "      <th>MaxPCP</th>\n",
       "      <th>AvgPCP</th>\n",
       "      <th>...</th>\n",
       "      <th>ProcedureGroup_SEOA</th>\n",
       "      <th>ProcedureGroup_SNS</th>\n",
       "      <th>ProcedureGroup_nan</th>\n",
       "      <th>ProcedureGroup_SAS</th>\n",
       "      <th>ProcedureGroup_SRS</th>\n",
       "      <th>ProcedureGroup_SUS</th>\n",
       "      <th>ProcedureGroup_SO</th>\n",
       "      <th>ProcedureGroup_SMCD</th>\n",
       "      <th>AgeAtFirstClaimMin</th>\n",
       "      <th>AgeAtFirstClaimMax</th>\n",
       "    </tr>\n",
       "  </thead>\n",
       "  <tbody>\n",
       "    <tr>\n",
       "      <th>206192</th>\n",
       "      <td>94385572</td>\n",
       "      <td>Y1</td>\n",
       "      <td>0.0</td>\n",
       "      <td>NaN</td>\n",
       "      <td>NaN</td>\n",
       "      <td>3</td>\n",
       "      <td>3</td>\n",
       "      <td>86658.0</td>\n",
       "      <td>86658.0</td>\n",
       "      <td>86658.0</td>\n",
       "      <td>...</td>\n",
       "      <td>0</td>\n",
       "      <td>0</td>\n",
       "      <td>0</td>\n",
       "      <td>0</td>\n",
       "      <td>1</td>\n",
       "      <td>0</td>\n",
       "      <td>0</td>\n",
       "      <td>0</td>\n",
       "      <td>40</td>\n",
       "      <td>49</td>\n",
       "    </tr>\n",
       "    <tr>\n",
       "      <th>87765</th>\n",
       "      <td>39979633</td>\n",
       "      <td>Y1</td>\n",
       "      <td>0.0</td>\n",
       "      <td>6.0</td>\n",
       "      <td>15.0</td>\n",
       "      <td>4</td>\n",
       "      <td>4</td>\n",
       "      <td>28871.0</td>\n",
       "      <td>28871.0</td>\n",
       "      <td>28871.0</td>\n",
       "      <td>...</td>\n",
       "      <td>0</td>\n",
       "      <td>0</td>\n",
       "      <td>0</td>\n",
       "      <td>0</td>\n",
       "      <td>0</td>\n",
       "      <td>0</td>\n",
       "      <td>0</td>\n",
       "      <td>0</td>\n",
       "      <td>20</td>\n",
       "      <td>29</td>\n",
       "    </tr>\n",
       "  </tbody>\n",
       "</table>\n",
       "<p>2 rows × 116 columns</p>\n",
       "</div>"
      ],
      "text/plain": [
       "        MemberID Year  ClaimsTruncated  TotalLabCount  TotalDrugCount  \\\n",
       "206192  94385572   Y1              0.0            NaN             NaN   \n",
       "87765   39979633   Y1              0.0            6.0            15.0   \n",
       "\n",
       "        ProviderCount  VendorCount   MinPCP   MaxPCP   AvgPCP  \\\n",
       "206192              3            3  86658.0  86658.0  86658.0   \n",
       "87765               4            4  28871.0  28871.0  28871.0   \n",
       "\n",
       "               ...          ProcedureGroup_SEOA  ProcedureGroup_SNS  \\\n",
       "206192         ...                            0                   0   \n",
       "87765          ...                            0                   0   \n",
       "\n",
       "        ProcedureGroup_nan  ProcedureGroup_SAS  ProcedureGroup_SRS  \\\n",
       "206192                   0                   0                   1   \n",
       "87765                    0                   0                   0   \n",
       "\n",
       "        ProcedureGroup_SUS  ProcedureGroup_SO  ProcedureGroup_SMCD  \\\n",
       "206192                   0                  0                    0   \n",
       "87765                    0                  0                    0   \n",
       "\n",
       "        AgeAtFirstClaimMin  AgeAtFirstClaimMax  \n",
       "206192                  40                  49  \n",
       "87765                   20                  29  \n",
       "\n",
       "[2 rows x 116 columns]"
      ]
     },
     "execution_count": 117,
     "metadata": {},
     "output_type": "execute_result"
    }
   ],
   "source": [
    "X_train.head(2)"
   ]
  },
  {
   "cell_type": "markdown",
   "metadata": {},
   "source": [
    "Combine\n",
    "AvgLengthOfStayMin-AvgLengthOfStayMax, AvgDSFSMin-AvgDSFSMax, AvgCharlsonIndexMin-AvgCharlsonIndexMax"
   ]
  },
  {
   "cell_type": "code",
   "execution_count": 118,
   "metadata": {
    "collapsed": false
   },
   "outputs": [
    {
     "name": "stderr",
     "output_type": "stream",
     "text": [
      "/Users/Avadhoot/anaconda/lib/python3.6/site-packages/ipykernel/__main__.py:1: SettingWithCopyWarning: \n",
      "A value is trying to be set on a copy of a slice from a DataFrame.\n",
      "Try using .loc[row_indexer,col_indexer] = value instead\n",
      "\n",
      "See the caveats in the documentation: http://pandas.pydata.org/pandas-docs/stable/indexing.html#indexing-view-versus-copy\n",
      "  if __name__ == '__main__':\n",
      "/Users/Avadhoot/anaconda/lib/python3.6/site-packages/ipykernel/__main__.py:2: SettingWithCopyWarning: \n",
      "A value is trying to be set on a copy of a slice from a DataFrame.\n",
      "Try using .loc[row_indexer,col_indexer] = value instead\n",
      "\n",
      "See the caveats in the documentation: http://pandas.pydata.org/pandas-docs/stable/indexing.html#indexing-view-versus-copy\n",
      "  from ipykernel import kernelapp as app\n",
      "/Users/Avadhoot/anaconda/lib/python3.6/site-packages/ipykernel/__main__.py:3: SettingWithCopyWarning: \n",
      "A value is trying to be set on a copy of a slice from a DataFrame.\n",
      "Try using .loc[row_indexer,col_indexer] = value instead\n",
      "\n",
      "See the caveats in the documentation: http://pandas.pydata.org/pandas-docs/stable/indexing.html#indexing-view-versus-copy\n",
      "  app.launch_new_instance()\n"
     ]
    }
   ],
   "source": [
    "X_train['AvgLengthOfStay'] = X_train[['AvgLengthOfStayMin', 'AvgLengthOfStayMax']].mean(axis=1)\n",
    "X_train['AvgDSFS'] = X_train[['AvgDSFSMin', 'AvgDSFSMax']].mean(axis=1)\n",
    "X_train['AvgCharlsonIndex'] = X_train[['AvgCharlsonIndexMin', 'AvgCharlsonIndexMax']].mean(axis=1)"
   ]
  },
  {
   "cell_type": "code",
   "execution_count": 119,
   "metadata": {
    "collapsed": false
   },
   "outputs": [
    {
     "name": "stderr",
     "output_type": "stream",
     "text": [
      "/Users/Avadhoot/anaconda/lib/python3.6/site-packages/ipykernel/__main__.py:1: SettingWithCopyWarning: \n",
      "A value is trying to be set on a copy of a slice from a DataFrame.\n",
      "Try using .loc[row_indexer,col_indexer] = value instead\n",
      "\n",
      "See the caveats in the documentation: http://pandas.pydata.org/pandas-docs/stable/indexing.html#indexing-view-versus-copy\n",
      "  if __name__ == '__main__':\n",
      "/Users/Avadhoot/anaconda/lib/python3.6/site-packages/ipykernel/__main__.py:2: SettingWithCopyWarning: \n",
      "A value is trying to be set on a copy of a slice from a DataFrame.\n",
      "Try using .loc[row_indexer,col_indexer] = value instead\n",
      "\n",
      "See the caveats in the documentation: http://pandas.pydata.org/pandas-docs/stable/indexing.html#indexing-view-versus-copy\n",
      "  from ipykernel import kernelapp as app\n",
      "/Users/Avadhoot/anaconda/lib/python3.6/site-packages/ipykernel/__main__.py:3: SettingWithCopyWarning: \n",
      "A value is trying to be set on a copy of a slice from a DataFrame.\n",
      "Try using .loc[row_indexer,col_indexer] = value instead\n",
      "\n",
      "See the caveats in the documentation: http://pandas.pydata.org/pandas-docs/stable/indexing.html#indexing-view-versus-copy\n",
      "  app.launch_new_instance()\n"
     ]
    }
   ],
   "source": [
    "X_test['AvgLengthOfStay'] = X_test[['AvgLengthOfStayMin', 'AvgLengthOfStayMax']].mean(axis=1)\n",
    "X_test['AvgDSFS'] = X_test[['AvgDSFSMin', 'AvgDSFSMax']].mean(axis=1)\n",
    "X_test['AvgCharlsonIndex'] = X_test[['AvgCharlsonIndexMin', 'AvgCharlsonIndexMax']].mean(axis=1)"
   ]
  },
  {
   "cell_type": "code",
   "execution_count": 120,
   "metadata": {
    "collapsed": false
   },
   "outputs": [],
   "source": [
    "num_attribs = X_train.columns\n",
    "remove_cols = [\"Year\", \"MaxLengthOfStayMin\", \"MinLengthOfStayMax\",\"MaxDSFSMin\", \"MinDSFSMax\", \"MaxCharlsonIndexMin\", \"MinCharlsonIndexMax\",\\\n",
    "              \"AvgLengthOfStayMin\", \"AvgLengthOfStayMax\", \"AvgDSFSMin\", \"AvgDSFSMax\", \"AvgCharlsonIndexMin\", \"AvgCharlsonIndexMax\"]\n",
    "num_attribs = [x for x in num_attribs if x not in remove_cols]\n",
    "#num_attribs"
   ]
  },
  {
   "cell_type": "code",
   "execution_count": 121,
   "metadata": {
    "collapsed": false
   },
   "outputs": [
    {
     "name": "stdout",
     "output_type": "stream",
     "text": [
      "Error =  0.2709773001334706\n",
      "RMSE =  1.5407292694146657\n"
     ]
    }
   ],
   "source": [
    "num_pipeline = Pipeline([\n",
    "        ('selector', DataFrameSelector(num_attribs)),\n",
    "        ('imputer', Imputer(strategy=\"median\")),\n",
    "        #('attribs_adder', CombinedAttributesAdder()),\n",
    "        ('std_scaler', StandardScaler()),\n",
    "    ])\n",
    "\n",
    "full_pipeline_with_predictor = Pipeline([\n",
    "        (\"preparation\", num_pipeline),\n",
    "        (\"random forest\", rf)\n",
    "    ])\n",
    "\n",
    "full_pipeline_with_predictor.fit(X_train, y_train)\n",
    "predict_full = full_pipeline_with_predictor.predict(X_test)\n",
    "error_rf_full = calc_error(y_test, predict_full)\n",
    "rmse_rf_full = calc_rmse(y_test, predict_full)\n",
    "print(\"Error = \", error_rf_full)\n",
    "print(\"RMSE = \", rmse_rf_full)"
   ]
  },
  {
   "cell_type": "markdown",
   "metadata": {},
   "source": [
    "<B>Observations: </B> Not much difference again"
   ]
  },
  {
   "cell_type": "markdown",
   "metadata": {},
   "source": [
    "## Prediction Result Analysis\n",
    "Lets see how many times our prediction is accurate"
   ]
  },
  {
   "cell_type": "code",
   "execution_count": 122,
   "metadata": {
    "collapsed": false
   },
   "outputs": [
    {
     "data": {
      "text/plain": [
       "<matplotlib.axes._subplots.AxesSubplot at 0x10d2a71d0>"
      ]
     },
     "execution_count": 122,
     "metadata": {},
     "output_type": "execute_result"
    },
    {
     "data": {
      "image/png": "[encoded data removed]",
      "text/plain": [
       "<Figure size 432x288 with 1 Axes>"
      ]
     },
     "metadata": {},
     "output_type": "display_data"
    }
   ],
   "source": [
    "def calc_squared_error(y, predict):\n",
    "    e = np.array(y) - np.array(predict)\n",
    "    e = np.power(e, 2)\n",
    "    return e\n",
    "error_vec = calc_squared_error(y_test, predict_full)\n",
    "error_df = pd.DataFrame(\n",
    "    {'y': list(y_test),\n",
    "     'squared_error': error_vec\n",
    "    })\n",
    "error_df[\"squared_error\"].hist()"
   ]
  },
  {
   "cell_type": "markdown",
   "metadata": {},
   "source": [
    "<B>Observation:</B> So for a very large set, the predictions are fairly accurate"
   ]
  },
  {
   "cell_type": "code",
   "execution_count": 123,
   "metadata": {
    "code_folding": [],
    "collapsed": false
   },
   "outputs": [
    {
     "name": "stdout",
     "output_type": "stream",
     "text": [
      "Accurate =  3223  total =  48667\n"
     ]
    }
   ],
   "source": [
    "#How man times the predictions are accurate\n",
    "accurate = len(error_df[(error_df['squared_error']==0)])\n",
    "total = len(error_df)\n",
    "print(\"Accurate = \", accurate, \" total = \", total)"
   ]
  },
  {
   "cell_type": "markdown",
   "metadata": {},
   "source": [
    "But our RMSE value is 1+. \n",
    "RMSE value of 1+ means we are predicting an additional day of hospitalization for every patient.\n",
    "\n",
    "So, where does the RMSE value of 1+ comes from? \n",
    "\n",
    "Lets try to analyze the predicted values against actual values"
   ]
  },
  {
   "cell_type": "code",
   "execution_count": 124,
   "metadata": {
    "collapsed": false
   },
   "outputs": [
    {
     "data": {
      "image/png": "[encoded data removed]",
      "text/plain": [
       "<Figure size 432x288 with 1 Axes>"
      ]
     },
     "metadata": {},
     "output_type": "display_data"
    }
   ],
   "source": [
    "fig, ax = plt.subplots()\n",
    "ax.scatter(y_test, predict_full, edgecolors=(0, 0, 0))\n",
    "ax.plot([y.min(), y.max()], [y.min(), y.max()], 'k--', lw=4)\n",
    "ax.set_xlabel('y')\n",
    "ax.set_ylabel('Predicted')\n",
    "plt.show()\n"
   ]
  },
  {
   "cell_type": "markdown",
   "metadata": {},
   "source": [
    "<B>Observations:</B>\n",
    "1. It looks like lots of 0s are predicted as 2 to 7\n",
    "2. And lots of 12, 13, 14 and 15 are predicted as < 4\n",
    "So, there is essentially a problem at the extreme\n",
    "\n",
    "Lets also confirm it by plotting y against squared error"
   ]
  },
  {
   "cell_type": "code",
   "execution_count": 125,
   "metadata": {
    "collapsed": false
   },
   "outputs": [
    {
     "data": {
      "text/plain": [
       "<matplotlib.axes._subplots.AxesSubplot at 0x10d9fecc0>"
      ]
     },
     "execution_count": 125,
     "metadata": {},
     "output_type": "execute_result"
    },
    {
     "data": {
      "image/png": "[encoded data removed]",
      "text/plain": [
       "<Figure size 432x288 with 1 Axes>"
      ]
     },
     "metadata": {},
     "output_type": "display_data"
    }
   ],
   "source": [
    "error_df.plot.scatter(x=\"y\", y=\"squared_error\")"
   ]
  },
  {
   "cell_type": "markdown",
   "metadata": {},
   "source": [
    "<B>Observation</B>\n",
    "Again peak at the extremes. So, our earlier observation seem to be correct"
   ]
  },
  {
   "cell_type": "code",
   "execution_count": 126,
   "metadata": {
    "collapsed": false
   },
   "outputs": [
    {
     "name": "stdout",
     "output_type": "stream",
     "text": [
      "Min and max values of y:  0.0 15.0\n",
      "Min and max values of predict:  0.0 5.833333333333333\n"
     ]
    }
   ],
   "source": [
    "#Are we predicting values in same range?\n",
    "print(\"Min and max values of y: \", np.min(y_test), np.max(y_test))\n",
    "print(\"Min and max values of predict: \", np.min(predict_full), np.max(predict_full))"
   ]
  },
  {
   "cell_type": "code",
   "execution_count": 127,
   "metadata": {
    "collapsed": false
   },
   "outputs": [
    {
     "data": {
      "text/plain": [
       "36791"
      ]
     },
     "execution_count": 127,
     "metadata": {},
     "output_type": "execute_result"
    }
   ],
   "source": [
    "#How many times squared error is < 1 and > 0\n",
    "len(error_df[(error_df['squared_error']<1) & (error_df['squared_error']>0)])"
   ]
  },
  {
   "cell_type": "markdown",
   "metadata": {},
   "source": [
    "<B>Observation: </B>Can we simply fix lot of cases by taking floor of our prediction?"
   ]
  },
  {
   "cell_type": "code",
   "execution_count": 128,
   "metadata": {
    "collapsed": false
   },
   "outputs": [
    {
     "name": "stdout",
     "output_type": "stream",
     "text": [
      "Error =  0.25147869631667885\n",
      "RMSE =  1.5720646240786582\n"
     ]
    }
   ],
   "source": [
    "predict_full_floor = np.floor(predict_full)\n",
    "error_rf_full_floor = calc_error(y_test, predict_full_floor)\n",
    "rmse_rf_full_floor = calc_rmse(y_test, predict_full_floor)\n",
    "print(\"Error = \", error_rf_full_floor)\n",
    "print(\"RMSE = \", rmse_rf_full_floor)"
   ]
  },
  {
   "cell_type": "code",
   "execution_count": 129,
   "metadata": {
    "collapsed": false
   },
   "outputs": [
    {
     "name": "stdout",
     "output_type": "stream",
     "text": [
      "Accurate =  37286  total =  48667\n"
     ]
    }
   ],
   "source": [
    "error_vec = calc_squared_error(y_test, np.floor(predict_full))\n",
    "error_df = pd.DataFrame(\n",
    "    {'y': list(y_test),\n",
    "     'squared_error': error_vec\n",
    "    })\n",
    "accurate = len(error_df[(error_df['squared_error']==0)])\n",
    "total = len(error_df)\n",
    "print(\"Accurate = \", accurate, \" total = \", total)"
   ]
  },
  {
   "cell_type": "markdown",
   "metadata": {},
   "source": [
    "<B>Observations:</B> This is good. We should simply take floor of the prediction"
   ]
  },
  {
   "cell_type": "markdown",
   "metadata": {},
   "source": [
    "<B>Observation: </B>Why is DaysInHospital=15 is missing in predicted set?"
   ]
  },
  {
   "cell_type": "code",
   "execution_count": 130,
   "metadata": {
    "collapsed": false
   },
   "outputs": [
    {
     "data": {
      "text/plain": [
       "<matplotlib.axes._subplots.AxesSubplot at 0x1a4b6b7e48>"
      ]
     },
     "execution_count": 130,
     "metadata": {},
     "output_type": "execute_result"
    },
    {
     "data": {
      "image/png": "[encoded data removed]",
      "text/plain": [
       "<Figure size 432x288 with 1 Axes>"
      ]
     },
     "metadata": {},
     "output_type": "display_data"
    }
   ],
   "source": [
    "y_train.hist()"
   ]
  },
  {
   "cell_type": "code",
   "execution_count": 131,
   "metadata": {
    "collapsed": false
   },
   "outputs": [
    {
     "data": {
      "text/plain": [
       "<matplotlib.axes._subplots.AxesSubplot at 0x1a4b56eef0>"
      ]
     },
     "execution_count": 131,
     "metadata": {},
     "output_type": "execute_result"
    },
    {
     "data": {
      "image/png": "[encoded data removed]",
      "text/plain": [
       "<Figure size 432x288 with 1 Axes>"
      ]
     },
     "metadata": {},
     "output_type": "display_data"
    }
   ],
   "source": [
    "y_test.hist()"
   ]
  },
  {
   "cell_type": "code",
   "execution_count": 132,
   "metadata": {
    "collapsed": false
   },
   "outputs": [
    {
     "data": {
      "text/plain": [
       "0.0     83702\n",
       "1.0      6234\n",
       "2.0      3070\n",
       "3.0      1938\n",
       "4.0      1226\n",
       "5.0       717\n",
       "6.0       454\n",
       "7.0       328\n",
       "15.0      320\n",
       "8.0       217\n",
       "9.0       168\n",
       "10.0      125\n",
       "11.0       97\n",
       "12.0       85\n",
       "13.0       79\n",
       "14.0       46\n",
       "Name: DaysInHospital, dtype: int64"
      ]
     },
     "execution_count": 132,
     "metadata": {},
     "output_type": "execute_result"
    }
   ],
   "source": [
    "y_train.value_counts()"
   ]
  },
  {
   "cell_type": "code",
   "execution_count": 133,
   "metadata": {
    "collapsed": false
   },
   "outputs": [
    {
     "data": {
      "text/plain": [
       "0.0     41273\n",
       "1.0      3065\n",
       "2.0      1478\n",
       "3.0       944\n",
       "4.0       593\n",
       "5.0       376\n",
       "6.0       206\n",
       "15.0      159\n",
       "7.0       146\n",
       "8.0        99\n",
       "9.0        95\n",
       "10.0       84\n",
       "12.0       50\n",
       "11.0       48\n",
       "13.0       32\n",
       "14.0       19\n",
       "Name: DaysInHospital, dtype: int64"
      ]
     },
     "execution_count": 133,
     "metadata": {},
     "output_type": "execute_result"
    }
   ],
   "source": [
    "y_test.value_counts()"
   ]
  },
  {
   "cell_type": "markdown",
   "metadata": {},
   "source": [
    "<B>Observtions:</B>\n",
    "1. It looks like histogram of train and test set is similar\n",
    "2. Train set does have examples of Days In Hospital = 15\n",
    "Need to see further why 15 is missing completely in the predictions"
   ]
  },
  {
   "cell_type": "markdown",
   "metadata": {},
   "source": [
    "<B>Overall Observations</B>\n",
    "1. About 77% predictions are accurate\n",
    "2. We should take floor of the result since DaysInHospital are always integer\n",
    "3. The predictions are wrong towards boundary (at 0 and > 10)"
   ]
  },
  {
   "cell_type": "markdown",
   "metadata": {},
   "source": [
    "## Additional Features\n",
    "Lets try to use the features which we ignored previously\n",
    "1. Sex - need one hot encoding\n",
    "2. Previous Year Records - The past records of a member can be used as features for current year predictions. "
   ]
  },
  {
   "cell_type": "markdown",
   "metadata": {},
   "source": [
    "### Add Gender As a Feature"
   ]
  },
  {
   "cell_type": "code",
   "execution_count": 134,
   "metadata": {
    "collapsed": false
   },
   "outputs": [
    {
     "data": {
      "text/html": [
       "<div>\n",
       "<style scoped>\n",
       "    .dataframe tbody tr th:only-of-type {\n",
       "        vertical-align: middle;\n",
       "    }\n",
       "\n",
       "    .dataframe tbody tr th {\n",
       "        vertical-align: top;\n",
       "    }\n",
       "\n",
       "    .dataframe thead th {\n",
       "        text-align: right;\n",
       "    }\n",
       "</style>\n",
       "<table border=\"1\" class=\"dataframe\">\n",
       "  <thead>\n",
       "    <tr style=\"text-align: right;\">\n",
       "      <th></th>\n",
       "      <th>MemberID</th>\n",
       "      <th>Year</th>\n",
       "      <th>ClaimsTruncated</th>\n",
       "      <th>DaysInHospital</th>\n",
       "      <th>TotalLabCount</th>\n",
       "      <th>TotalDrugCount</th>\n",
       "      <th>ProviderCount</th>\n",
       "      <th>VendorCount</th>\n",
       "      <th>MinPCP</th>\n",
       "      <th>MaxPCP</th>\n",
       "      <th>...</th>\n",
       "      <th>ProcedureGroup_nan</th>\n",
       "      <th>ProcedureGroup_SAS</th>\n",
       "      <th>ProcedureGroup_SRS</th>\n",
       "      <th>ProcedureGroup_SUS</th>\n",
       "      <th>ProcedureGroup_SO</th>\n",
       "      <th>ProcedureGroup_SMCD</th>\n",
       "      <th>AgeAtFirstClaim</th>\n",
       "      <th>Sex</th>\n",
       "      <th>AgeAtFirstClaimMin</th>\n",
       "      <th>AgeAtFirstClaimMax</th>\n",
       "    </tr>\n",
       "  </thead>\n",
       "  <tbody>\n",
       "    <tr>\n",
       "      <th>0</th>\n",
       "      <td>4</td>\n",
       "      <td>Y2</td>\n",
       "      <td>0.0</td>\n",
       "      <td>0.0</td>\n",
       "      <td>NaN</td>\n",
       "      <td>NaN</td>\n",
       "      <td>1</td>\n",
       "      <td>1</td>\n",
       "      <td>31106.0</td>\n",
       "      <td>31106.0</td>\n",
       "      <td>...</td>\n",
       "      <td>0</td>\n",
       "      <td>0</td>\n",
       "      <td>0</td>\n",
       "      <td>0</td>\n",
       "      <td>0</td>\n",
       "      <td>0</td>\n",
       "      <td>0-9</td>\n",
       "      <td>M</td>\n",
       "      <td>0</td>\n",
       "      <td>9</td>\n",
       "    </tr>\n",
       "    <tr>\n",
       "      <th>1</th>\n",
       "      <td>210</td>\n",
       "      <td>Y1</td>\n",
       "      <td>0.0</td>\n",
       "      <td>0.0</td>\n",
       "      <td>2.0</td>\n",
       "      <td>5.0</td>\n",
       "      <td>4</td>\n",
       "      <td>4</td>\n",
       "      <td>18880.0</td>\n",
       "      <td>37508.0</td>\n",
       "      <td>...</td>\n",
       "      <td>0</td>\n",
       "      <td>0</td>\n",
       "      <td>0</td>\n",
       "      <td>0</td>\n",
       "      <td>0</td>\n",
       "      <td>0</td>\n",
       "      <td>30-39</td>\n",
       "      <td>NaN</td>\n",
       "      <td>30</td>\n",
       "      <td>39</td>\n",
       "    </tr>\n",
       "  </tbody>\n",
       "</table>\n",
       "<p>2 rows × 119 columns</p>\n",
       "</div>"
      ],
      "text/plain": [
       "   MemberID Year  ClaimsTruncated  DaysInHospital  TotalLabCount  \\\n",
       "0         4   Y2              0.0             0.0            NaN   \n",
       "1       210   Y1              0.0             0.0            2.0   \n",
       "\n",
       "   TotalDrugCount  ProviderCount  VendorCount   MinPCP   MaxPCP  \\\n",
       "0             NaN              1            1  31106.0  31106.0   \n",
       "1             5.0              4            4  18880.0  37508.0   \n",
       "\n",
       "          ...          ProcedureGroup_nan  ProcedureGroup_SAS  \\\n",
       "0         ...                           0                   0   \n",
       "1         ...                           0                   0   \n",
       "\n",
       "   ProcedureGroup_SRS  ProcedureGroup_SUS  ProcedureGroup_SO  \\\n",
       "0                   0                   0                  0   \n",
       "1                   0                   0                  0   \n",
       "\n",
       "   ProcedureGroup_SMCD  AgeAtFirstClaim  Sex  AgeAtFirstClaimMin  \\\n",
       "0                    0              0-9    M                   0   \n",
       "1                    0            30-39  NaN                  30   \n",
       "\n",
       "   AgeAtFirstClaimMax  \n",
       "0                   9  \n",
       "1                  39  \n",
       "\n",
       "[2 rows x 119 columns]"
      ]
     },
     "execution_count": 134,
     "metadata": {},
     "output_type": "execute_result"
    }
   ],
   "source": [
    "summary_df_m.head(2)"
   ]
  },
  {
   "cell_type": "code",
   "execution_count": 135,
   "metadata": {
    "collapsed": false
   },
   "outputs": [],
   "source": [
    "sqlgender = \"SELECT *, \\\n",
    "            (CASE WHEN Sex = 'M' THEN 1 ELSE 0 END) AS Sex_M, \\\n",
    "            (CASE WHEN Sex = 'F' THEN 1 ELSE 0 END) AS Sex_F \\\n",
    "            FROM summary_df_m\"\n",
    "\n",
    "summary_df_mg = pysqldf(sqlgender)"
   ]
  },
  {
   "cell_type": "code",
   "execution_count": 136,
   "metadata": {
    "collapsed": false
   },
   "outputs": [
    {
     "name": "stdout",
     "output_type": "stream",
     "text": [
      "X_train shape:  (98806, 118)\n",
      "X_test shape:  (48667, 118)\n",
      "y_train shape:  (98806,)\n",
      "y_test shape:  (48667,)\n"
     ]
    }
   ],
   "source": [
    "from sklearn.model_selection import train_test_split\n",
    "#First divide DaysInHospital data in train and test \n",
    "y = summary_df_mg[\"DaysInHospital\"].copy()\n",
    "X = summary_df_mg.drop(\"DaysInHospital\", axis=1) # drop labels for training set\n",
    "\n",
    "#Drop unnecessary columns\n",
    "\n",
    "X.drop(\"AgeAtFirstClaim\", inplace=True, axis=1)\n",
    "X.drop(\"Sex\", inplace=True, axis=1) #check if we need this\n",
    "\n",
    "X_train, X_test, y_train, y_test = \\\n",
    "                            train_test_split(X, y, test_size=0.33, random_state=42)\n",
    "print(\"X_train shape: \", X_train.shape)\n",
    "print(\"X_test shape: \", X_test.shape)\n",
    "print(\"y_train shape: \", y_train.shape)\n",
    "print(\"y_test shape: \", y_test.shape)"
   ]
  },
  {
   "cell_type": "code",
   "execution_count": 137,
   "metadata": {
    "collapsed": true
   },
   "outputs": [],
   "source": [
    "num_attribs = X_train.columns\n",
    "remove_cols = [\"Year\", \"MaxLengthOfStayMin\", \"MinLengthOfStayMax\",\"MaxDSFSMin\", \"MinDSFSMax\", \"MaxCharlsonIndexMin\", \"MinCharlsonIndexMax\",\\\n",
    "              \"AvgLengthOfStayMin\", \"AvgLengthOfStayMax\", \"AvgDSFSMin\", \"AvgDSFSMax\", \"AvgCharlsonIndexMin\", \"AvgCharlsonIndexMax\"]\n",
    "num_attribs = [x for x in num_attribs if x not in remove_cols]"
   ]
  },
  {
   "cell_type": "code",
   "execution_count": 138,
   "metadata": {
    "collapsed": false
   },
   "outputs": [
    {
     "name": "stdout",
     "output_type": "stream",
     "text": [
      "Error =  0.24915366092033428\n",
      "RMSE =  1.563696785177707\n"
     ]
    }
   ],
   "source": [
    "num_pipeline = Pipeline([\n",
    "        ('selector', DataFrameSelector(num_attribs)),\n",
    "        ('imputer', Imputer(strategy=\"median\")),\n",
    "        #('attribs_adder', CombinedAttributesAdder()),\n",
    "        ('std_scaler', StandardScaler()),\n",
    "    ])\n",
    "\n",
    "rf = RandomForestRegressor(bootstrap=True, criterion='mse', max_depth=None,\n",
    "           max_features=8, max_leaf_nodes=None, min_impurity_decrease=0.0,\n",
    "           min_impurity_split=None, min_samples_leaf=1,\n",
    "           min_samples_split=2, min_weight_fraction_leaf=0.0,\n",
    "           n_estimators=30, n_jobs=1, oob_score=False, random_state=42,\n",
    "           verbose=0, warm_start=False)\n",
    "\n",
    "full_pipeline_with_predictor = Pipeline([\n",
    "        (\"preparation\", num_pipeline),\n",
    "        (\"random forest\", rf)\n",
    "    ])\n",
    "\n",
    "full_pipeline_with_predictor.fit(X_train, y_train)\n",
    "predict_full_g = np.floor(full_pipeline_with_predictor.predict(X_test))\n",
    "error_rf_full_g = calc_error(y_test, predict_full_g)\n",
    "rmse_rf_full_g = calc_rmse(y_test, predict_full_g)\n",
    "print(\"Error = \", error_rf_full_g)\n",
    "print(\"RMSE = \", rmse_rf_full_g)"
   ]
  },
  {
   "cell_type": "markdown",
   "metadata": {},
   "source": [
    "### Add DaysInHospital and other important variable for Previous Year as a Feature\n",
    "DaysInHospotal, LabCount, DrugCount, ClaimsCount for Y1 can be useful for predicting Y2. \n",
    "Similarly, Y2 features can be useful for predicting Y3\n",
    "Lets add these features"
   ]
  },
  {
   "cell_type": "markdown",
   "metadata": {},
   "source": [
    "The logic is bit complicated and explained below:\n",
    "1. First find yearly count in different column (e.f. y1_tlc for year=y1 etc)\n",
    "2. Then update y1 to y2, y2 to y3 etc. This is useful when we join this dataset with original big dataset. Idea is to use y1 features for y2\n",
    "3. Then for year y2, rename y1_tlc to prev_year_tlc etc"
   ]
  },
  {
   "cell_type": "code",
   "execution_count": 139,
   "metadata": {
    "collapsed": true
   },
   "outputs": [],
   "source": [
    "sql_prev_year = \"SELECT \\\n",
    "            SUM(CASE WHEN Year = 'Y1' THEN DaysInHospital ELSE 0 END) as y1_days_in_hospital,\\\n",
    "            SUM(CASE WHEN Year = 'Y1' THEN ClaimsTruncated ELSE 0 END) as y1_claims_truncated,\\\n",
    "            SUM(CASE WHEN Year = 'Y2' THEN ClaimsTruncated ELSE 0 END) as y2_claims_truncated,\\\n",
    "            SUM(CASE WHEN Year = 'Y1' THEN TotalLabCount ELSE 0 END) as y1_tlc,\\\n",
    "            SUM(CASE WHEN Year = 'Y2' THEN TotalLabCount ELSE 0 END) as y2_tlc,\\\n",
    "            SUM(CASE WHEN Year = 'Y1' THEN TotalDrugCount ELSE 0 END) as y1_tdc,\\\n",
    "            SUM(CASE WHEN Year = 'Y2' THEN TotalDrugCount ELSE 0 END) as y2_tdc,\\\n",
    "            MemberID, Year \\\n",
    "            FROM summary_df_mg \\\n",
    "            GROUP BY MemberId, Year\"\n",
    "\n",
    "prev_year_df = pysqldf(sql_prev_year)\n",
    "\n"
   ]
  },
  {
   "cell_type": "code",
   "execution_count": 140,
   "metadata": {
    "collapsed": false
   },
   "outputs": [
    {
     "data": {
      "text/html": [
       "<div>\n",
       "<style scoped>\n",
       "    .dataframe tbody tr th:only-of-type {\n",
       "        vertical-align: middle;\n",
       "    }\n",
       "\n",
       "    .dataframe tbody tr th {\n",
       "        vertical-align: top;\n",
       "    }\n",
       "\n",
       "    .dataframe thead th {\n",
       "        text-align: right;\n",
       "    }\n",
       "</style>\n",
       "<table border=\"1\" class=\"dataframe\">\n",
       "  <thead>\n",
       "    <tr style=\"text-align: right;\">\n",
       "      <th></th>\n",
       "      <th>y1_days_in_hospital</th>\n",
       "      <th>y1_claims_truncated</th>\n",
       "      <th>y2_claims_truncated</th>\n",
       "      <th>y1_tlc</th>\n",
       "      <th>y2_tlc</th>\n",
       "      <th>y1_tdc</th>\n",
       "      <th>y2_tdc</th>\n",
       "      <th>MemberID</th>\n",
       "      <th>Year</th>\n",
       "    </tr>\n",
       "  </thead>\n",
       "  <tbody>\n",
       "    <tr>\n",
       "      <th>0</th>\n",
       "      <td>0.0</td>\n",
       "      <td>0.0</td>\n",
       "      <td>0.0</td>\n",
       "      <td>0.0</td>\n",
       "      <td>NaN</td>\n",
       "      <td>0.0</td>\n",
       "      <td>NaN</td>\n",
       "      <td>4</td>\n",
       "      <td>Y2</td>\n",
       "    </tr>\n",
       "    <tr>\n",
       "      <th>1</th>\n",
       "      <td>0.0</td>\n",
       "      <td>0.0</td>\n",
       "      <td>0.0</td>\n",
       "      <td>2.0</td>\n",
       "      <td>0.0</td>\n",
       "      <td>5.0</td>\n",
       "      <td>0.0</td>\n",
       "      <td>210</td>\n",
       "      <td>Y1</td>\n",
       "    </tr>\n",
       "  </tbody>\n",
       "</table>\n",
       "</div>"
      ],
      "text/plain": [
       "   y1_days_in_hospital  y1_claims_truncated  y2_claims_truncated  y1_tlc  \\\n",
       "0                  0.0                  0.0                  0.0     0.0   \n",
       "1                  0.0                  0.0                  0.0     2.0   \n",
       "\n",
       "   y2_tlc  y1_tdc  y2_tdc  MemberID Year  \n",
       "0     NaN     0.0     NaN         4   Y2  \n",
       "1     0.0     5.0     0.0       210   Y1  "
      ]
     },
     "execution_count": 140,
     "metadata": {},
     "output_type": "execute_result"
    }
   ],
   "source": [
    "prev_year_df.head(2)"
   ]
  },
  {
   "cell_type": "markdown",
   "metadata": {},
   "source": [
    "OK, we have yearly counts now. \n",
    "Lets use Y1 counts for Y2 records"
   ]
  },
  {
   "cell_type": "code",
   "execution_count": 141,
   "metadata": {
    "collapsed": false
   },
   "outputs": [
    {
     "data": {
      "text/plain": [
       "array(['Y2', 'Y1'], dtype=object)"
      ]
     },
     "execution_count": 141,
     "metadata": {},
     "output_type": "execute_result"
    }
   ],
   "source": [
    "prev_year_df['Year'].unique()"
   ]
  },
  {
   "cell_type": "code",
   "execution_count": 142,
   "metadata": {
    "collapsed": false
   },
   "outputs": [
    {
     "data": {
      "text/plain": [
       "array(['Y3', 'Y2'], dtype=object)"
      ]
     },
     "execution_count": 142,
     "metadata": {},
     "output_type": "execute_result"
    }
   ],
   "source": [
    "prev_year_df.loc[(prev_year_df['Year'] == 'Y3') ,'Year'] = 'Y4'\n",
    "prev_year_df.loc[(prev_year_df['Year'] == 'Y2') ,'Year'] = 'Y3'\n",
    "prev_year_df.loc[(prev_year_df['Year'] == 'Y1') ,'Year'] = 'Y2'\n",
    "\n",
    "prev_year_df['Year'].unique()"
   ]
  },
  {
   "cell_type": "code",
   "execution_count": 143,
   "metadata": {
    "collapsed": false
   },
   "outputs": [],
   "source": [
    "renamesql = \"\\\n",
    "SELECT MemberID, Year, \\\n",
    "(CASE WHEN Year = 'Y1' THEN 0 WHEN Year = 'Y2' THEN y1_days_in_hospital END) as prev_dih,\\\n",
    "(CASE WHEN Year = 'Y1' THEN 0 WHEN YEAR = 'Y2' THEN y1_tlc END) as prev_tlc,\\\n",
    "(CASE WHEN Year = 'Y1' THEN 0 WHEN YEAR = 'Y2' THEN y1_tdc END) as prev_tdc,\\\n",
    "(CASE WHEN Year = 'Y1' THEN 0 WHEN YEAR = 'Y2' THEN y1_claims_truncated END) as prev_ct \\\n",
    "FROM prev_year_df \\\n",
    "WHERE Year != 'Y3'\"\n",
    "\n",
    "prev_year_adj_df = pysqldf(renamesql)"
   ]
  },
  {
   "cell_type": "code",
   "execution_count": 144,
   "metadata": {
    "collapsed": false
   },
   "outputs": [
    {
     "data": {
      "text/plain": [
       "MemberID    76038\n",
       "Year        76038\n",
       "prev_dih    76038\n",
       "prev_tlc    53227\n",
       "prev_tdc    49838\n",
       "prev_ct     76038\n",
       "dtype: int64"
      ]
     },
     "execution_count": 144,
     "metadata": {},
     "output_type": "execute_result"
    }
   ],
   "source": [
    "prev_year_adj_df.count()"
   ]
  },
  {
   "cell_type": "code",
   "execution_count": 145,
   "metadata": {
    "collapsed": false
   },
   "outputs": [
    {
     "data": {
      "text/html": [
       "<div>\n",
       "<style scoped>\n",
       "    .dataframe tbody tr th:only-of-type {\n",
       "        vertical-align: middle;\n",
       "    }\n",
       "\n",
       "    .dataframe tbody tr th {\n",
       "        vertical-align: top;\n",
       "    }\n",
       "\n",
       "    .dataframe thead th {\n",
       "        text-align: right;\n",
       "    }\n",
       "</style>\n",
       "<table border=\"1\" class=\"dataframe\">\n",
       "  <thead>\n",
       "    <tr style=\"text-align: right;\">\n",
       "      <th></th>\n",
       "      <th>MemberID</th>\n",
       "      <th>Year</th>\n",
       "      <th>prev_dih</th>\n",
       "      <th>prev_tlc</th>\n",
       "      <th>prev_tdc</th>\n",
       "      <th>prev_ct</th>\n",
       "    </tr>\n",
       "  </thead>\n",
       "  <tbody>\n",
       "    <tr>\n",
       "      <th>0</th>\n",
       "      <td>210</td>\n",
       "      <td>Y2</td>\n",
       "      <td>0.0</td>\n",
       "      <td>2.0</td>\n",
       "      <td>5.0</td>\n",
       "      <td>0.0</td>\n",
       "    </tr>\n",
       "    <tr>\n",
       "      <th>1</th>\n",
       "      <td>3197</td>\n",
       "      <td>Y2</td>\n",
       "      <td>0.0</td>\n",
       "      <td>NaN</td>\n",
       "      <td>5.0</td>\n",
       "      <td>0.0</td>\n",
       "    </tr>\n",
       "  </tbody>\n",
       "</table>\n",
       "</div>"
      ],
      "text/plain": [
       "   MemberID Year  prev_dih  prev_tlc  prev_tdc  prev_ct\n",
       "0       210   Y2       0.0       2.0       5.0      0.0\n",
       "1      3197   Y2       0.0       NaN       5.0      0.0"
      ]
     },
     "execution_count": 145,
     "metadata": {},
     "output_type": "execute_result"
    }
   ],
   "source": [
    "prev_year_adj_df.head(2)"
   ]
  },
  {
   "cell_type": "markdown",
   "metadata": {},
   "source": [
    "<B>OK, we are ready with prev_year counts now. </B>"
   ]
  },
  {
   "cell_type": "code",
   "execution_count": 146,
   "metadata": {
    "collapsed": false
   },
   "outputs": [
    {
     "data": {
      "text/html": [
       "<div>\n",
       "<style scoped>\n",
       "    .dataframe tbody tr th:only-of-type {\n",
       "        vertical-align: middle;\n",
       "    }\n",
       "\n",
       "    .dataframe tbody tr th {\n",
       "        vertical-align: top;\n",
       "    }\n",
       "\n",
       "    .dataframe thead th {\n",
       "        text-align: right;\n",
       "    }\n",
       "</style>\n",
       "<table border=\"1\" class=\"dataframe\">\n",
       "  <thead>\n",
       "    <tr style=\"text-align: right;\">\n",
       "      <th></th>\n",
       "      <th>MemberID</th>\n",
       "      <th>Year</th>\n",
       "      <th>ClaimsTruncated</th>\n",
       "      <th>DaysInHospital</th>\n",
       "      <th>TotalLabCount</th>\n",
       "      <th>TotalDrugCount</th>\n",
       "      <th>ProviderCount</th>\n",
       "      <th>VendorCount</th>\n",
       "      <th>MinPCP</th>\n",
       "      <th>MaxPCP</th>\n",
       "      <th>...</th>\n",
       "      <th>ProcedureGroup_SRS</th>\n",
       "      <th>ProcedureGroup_SUS</th>\n",
       "      <th>ProcedureGroup_SO</th>\n",
       "      <th>ProcedureGroup_SMCD</th>\n",
       "      <th>AgeAtFirstClaim</th>\n",
       "      <th>Sex</th>\n",
       "      <th>AgeAtFirstClaimMin</th>\n",
       "      <th>AgeAtFirstClaimMax</th>\n",
       "      <th>Sex_M</th>\n",
       "      <th>Sex_F</th>\n",
       "    </tr>\n",
       "  </thead>\n",
       "  <tbody>\n",
       "    <tr>\n",
       "      <th>0</th>\n",
       "      <td>4</td>\n",
       "      <td>Y2</td>\n",
       "      <td>0.0</td>\n",
       "      <td>0.0</td>\n",
       "      <td>NaN</td>\n",
       "      <td>NaN</td>\n",
       "      <td>1</td>\n",
       "      <td>1</td>\n",
       "      <td>31106.0</td>\n",
       "      <td>31106.0</td>\n",
       "      <td>...</td>\n",
       "      <td>0</td>\n",
       "      <td>0</td>\n",
       "      <td>0</td>\n",
       "      <td>0</td>\n",
       "      <td>0-9</td>\n",
       "      <td>M</td>\n",
       "      <td>0</td>\n",
       "      <td>9</td>\n",
       "      <td>1</td>\n",
       "      <td>0</td>\n",
       "    </tr>\n",
       "    <tr>\n",
       "      <th>1</th>\n",
       "      <td>210</td>\n",
       "      <td>Y1</td>\n",
       "      <td>0.0</td>\n",
       "      <td>0.0</td>\n",
       "      <td>2.0</td>\n",
       "      <td>5.0</td>\n",
       "      <td>4</td>\n",
       "      <td>4</td>\n",
       "      <td>18880.0</td>\n",
       "      <td>37508.0</td>\n",
       "      <td>...</td>\n",
       "      <td>0</td>\n",
       "      <td>0</td>\n",
       "      <td>0</td>\n",
       "      <td>0</td>\n",
       "      <td>30-39</td>\n",
       "      <td>None</td>\n",
       "      <td>30</td>\n",
       "      <td>39</td>\n",
       "      <td>0</td>\n",
       "      <td>0</td>\n",
       "    </tr>\n",
       "  </tbody>\n",
       "</table>\n",
       "<p>2 rows × 121 columns</p>\n",
       "</div>"
      ],
      "text/plain": [
       "   MemberID Year  ClaimsTruncated  DaysInHospital  TotalLabCount  \\\n",
       "0         4   Y2              0.0             0.0            NaN   \n",
       "1       210   Y1              0.0             0.0            2.0   \n",
       "\n",
       "   TotalDrugCount  ProviderCount  VendorCount   MinPCP   MaxPCP  ...    \\\n",
       "0             NaN              1            1  31106.0  31106.0  ...     \n",
       "1             5.0              4            4  18880.0  37508.0  ...     \n",
       "\n",
       "   ProcedureGroup_SRS  ProcedureGroup_SUS  ProcedureGroup_SO  \\\n",
       "0                   0                   0                  0   \n",
       "1                   0                   0                  0   \n",
       "\n",
       "   ProcedureGroup_SMCD  AgeAtFirstClaim   Sex  AgeAtFirstClaimMin  \\\n",
       "0                    0              0-9     M                   0   \n",
       "1                    0            30-39  None                  30   \n",
       "\n",
       "   AgeAtFirstClaimMax  Sex_M  Sex_F  \n",
       "0                   9      1      0  \n",
       "1                  39      0      0  \n",
       "\n",
       "[2 rows x 121 columns]"
      ]
     },
     "execution_count": 146,
     "metadata": {},
     "output_type": "execute_result"
    }
   ],
   "source": [
    "summary_df_mg.head(2)"
   ]
  },
  {
   "cell_type": "code",
   "execution_count": 147,
   "metadata": {
    "collapsed": false
   },
   "outputs": [],
   "source": [
    "prev_year_adj_df.reset_index(inplace=True)\n",
    "summary_df_mg.reset_index(inplace=True)"
   ]
  },
  {
   "cell_type": "code",
   "execution_count": 148,
   "metadata": {
    "collapsed": false
   },
   "outputs": [],
   "source": [
    "#Join on MemberID and Year\n",
    "prev_year_adj_df.set_index([\"MemberID\", \"Year\"], inplace=True)\n",
    "summary_df_mg.set_index([\"MemberID\", \"Year\"], inplace=True)\n",
    "summary_df_mg_prev = summary_df_mg.join(prev_year_adj_df, on=None, how='left', rsuffix = \"_1\")"
   ]
  },
  {
   "cell_type": "code",
   "execution_count": 149,
   "metadata": {
    "collapsed": false
   },
   "outputs": [
    {
     "data": {
      "text/html": [
       "<div>\n",
       "<style scoped>\n",
       "    .dataframe tbody tr th:only-of-type {\n",
       "        vertical-align: middle;\n",
       "    }\n",
       "\n",
       "    .dataframe tbody tr th {\n",
       "        vertical-align: top;\n",
       "    }\n",
       "\n",
       "    .dataframe thead th {\n",
       "        text-align: right;\n",
       "    }\n",
       "</style>\n",
       "<table border=\"1\" class=\"dataframe\">\n",
       "  <thead>\n",
       "    <tr style=\"text-align: right;\">\n",
       "      <th></th>\n",
       "      <th></th>\n",
       "      <th>index</th>\n",
       "      <th>ClaimsTruncated</th>\n",
       "      <th>DaysInHospital</th>\n",
       "      <th>TotalLabCount</th>\n",
       "      <th>TotalDrugCount</th>\n",
       "      <th>ProviderCount</th>\n",
       "      <th>VendorCount</th>\n",
       "      <th>MinPCP</th>\n",
       "      <th>MaxPCP</th>\n",
       "      <th>AvgPCP</th>\n",
       "      <th>...</th>\n",
       "      <th>Sex</th>\n",
       "      <th>AgeAtFirstClaimMin</th>\n",
       "      <th>AgeAtFirstClaimMax</th>\n",
       "      <th>Sex_M</th>\n",
       "      <th>Sex_F</th>\n",
       "      <th>index_1</th>\n",
       "      <th>prev_dih</th>\n",
       "      <th>prev_tlc</th>\n",
       "      <th>prev_tdc</th>\n",
       "      <th>prev_ct</th>\n",
       "    </tr>\n",
       "    <tr>\n",
       "      <th>MemberID</th>\n",
       "      <th>Year</th>\n",
       "      <th></th>\n",
       "      <th></th>\n",
       "      <th></th>\n",
       "      <th></th>\n",
       "      <th></th>\n",
       "      <th></th>\n",
       "      <th></th>\n",
       "      <th></th>\n",
       "      <th></th>\n",
       "      <th></th>\n",
       "      <th></th>\n",
       "      <th></th>\n",
       "      <th></th>\n",
       "      <th></th>\n",
       "      <th></th>\n",
       "      <th></th>\n",
       "      <th></th>\n",
       "      <th></th>\n",
       "      <th></th>\n",
       "      <th></th>\n",
       "      <th></th>\n",
       "    </tr>\n",
       "  </thead>\n",
       "  <tbody>\n",
       "    <tr>\n",
       "      <th>4</th>\n",
       "      <th>Y2</th>\n",
       "      <td>0</td>\n",
       "      <td>0.0</td>\n",
       "      <td>0.0</td>\n",
       "      <td>NaN</td>\n",
       "      <td>NaN</td>\n",
       "      <td>1</td>\n",
       "      <td>1</td>\n",
       "      <td>31106.0</td>\n",
       "      <td>31106.0</td>\n",
       "      <td>31106.0</td>\n",
       "      <td>...</td>\n",
       "      <td>M</td>\n",
       "      <td>0</td>\n",
       "      <td>9</td>\n",
       "      <td>1</td>\n",
       "      <td>0</td>\n",
       "      <td>NaN</td>\n",
       "      <td>NaN</td>\n",
       "      <td>NaN</td>\n",
       "      <td>NaN</td>\n",
       "      <td>NaN</td>\n",
       "    </tr>\n",
       "    <tr>\n",
       "      <th>210</th>\n",
       "      <th>Y1</th>\n",
       "      <td>1</td>\n",
       "      <td>0.0</td>\n",
       "      <td>0.0</td>\n",
       "      <td>2.0</td>\n",
       "      <td>5.0</td>\n",
       "      <td>4</td>\n",
       "      <td>4</td>\n",
       "      <td>18880.0</td>\n",
       "      <td>37508.0</td>\n",
       "      <td>35179.5</td>\n",
       "      <td>...</td>\n",
       "      <td>None</td>\n",
       "      <td>30</td>\n",
       "      <td>39</td>\n",
       "      <td>0</td>\n",
       "      <td>0</td>\n",
       "      <td>NaN</td>\n",
       "      <td>NaN</td>\n",
       "      <td>NaN</td>\n",
       "      <td>NaN</td>\n",
       "      <td>NaN</td>\n",
       "    </tr>\n",
       "  </tbody>\n",
       "</table>\n",
       "<p>2 rows × 125 columns</p>\n",
       "</div>"
      ],
      "text/plain": [
       "               index  ClaimsTruncated  DaysInHospital  TotalLabCount  \\\n",
       "MemberID Year                                                          \n",
       "4        Y2        0              0.0             0.0            NaN   \n",
       "210      Y1        1              0.0             0.0            2.0   \n",
       "\n",
       "               TotalDrugCount  ProviderCount  VendorCount   MinPCP   MaxPCP  \\\n",
       "MemberID Year                                                                 \n",
       "4        Y2               NaN              1            1  31106.0  31106.0   \n",
       "210      Y1               5.0              4            4  18880.0  37508.0   \n",
       "\n",
       "                AvgPCP   ...      Sex  AgeAtFirstClaimMin  AgeAtFirstClaimMax  \\\n",
       "MemberID Year            ...                                                    \n",
       "4        Y2    31106.0   ...        M                   0                   9   \n",
       "210      Y1    35179.5   ...     None                  30                  39   \n",
       "\n",
       "               Sex_M  Sex_F  index_1  prev_dih  prev_tlc  prev_tdc  prev_ct  \n",
       "MemberID Year                                                                \n",
       "4        Y2        1      0      NaN       NaN       NaN       NaN      NaN  \n",
       "210      Y1        0      0      NaN       NaN       NaN       NaN      NaN  \n",
       "\n",
       "[2 rows x 125 columns]"
      ]
     },
     "execution_count": 149,
     "metadata": {},
     "output_type": "execute_result"
    }
   ],
   "source": [
    "summary_df_mg_prev.head(2)"
   ]
  },
  {
   "cell_type": "markdown",
   "metadata": {},
   "source": [
    "<B>Prev year counts are merged with original big flat feature table </B>"
   ]
  },
  {
   "cell_type": "markdown",
   "metadata": {},
   "source": [
    "## Re-create Pipeline for the new features\n",
    "Follow the standard procedure of creating train-test sets, creating pipeline and testing"
   ]
  },
  {
   "cell_type": "code",
   "execution_count": 150,
   "metadata": {
    "collapsed": false
   },
   "outputs": [
    {
     "name": "stdout",
     "output_type": "stream",
     "text": [
      "X_train shape:  (98806, 120)\n",
      "X_test shape:  (48667, 120)\n",
      "y_train shape:  (98806,)\n",
      "y_test shape:  (48667,)\n"
     ]
    }
   ],
   "source": [
    "from sklearn.model_selection import train_test_split\n",
    "#First divide DaysInHospital data in train and test \n",
    "y = summary_df_mg_prev[\"DaysInHospital\"].copy()\n",
    "X = summary_df_mg_prev.drop(\"DaysInHospital\", axis=1) # drop labels for training set\n",
    "\n",
    "#Drop unnecessary columns\n",
    "\n",
    "X.drop(\"AgeAtFirstClaim\", inplace=True, axis=1)\n",
    "X.drop(\"Sex\", inplace=True, axis=1) #check if we need this\n",
    "X.drop(\"index\", inplace=True, axis=1) \n",
    "X.drop(\"index_1\", inplace=True, axis=1) \n",
    "\n",
    "X_train, X_test, y_train, y_test = \\\n",
    "                            train_test_split(X, y, test_size=0.33, random_state=42)\n",
    "print(\"X_train shape: \", X_train.shape)\n",
    "print(\"X_test shape: \", X_test.shape)\n",
    "print(\"y_train shape: \", y_train.shape)\n",
    "print(\"y_test shape: \", y_test.shape)"
   ]
  },
  {
   "cell_type": "markdown",
   "metadata": {},
   "source": [
    "<B>Lets perform hyper parameter tuning</B>"
   ]
  },
  {
   "cell_type": "code",
   "execution_count": 151,
   "metadata": {
    "collapsed": true
   },
   "outputs": [],
   "source": [
    "num_attribs = X_train.columns\n",
    "remove_cols = [\"Year\", \"MaxLengthOfStayMin\", \"MinLengthOfStayMax\",\"MaxDSFSMin\", \"MinDSFSMax\", \"MaxCharlsonIndexMin\", \"MinCharlsonIndexMax\",\\\n",
    "              \"AvgLengthOfStayMin\", \"AvgLengthOfStayMax\", \"AvgDSFSMin\", \"AvgDSFSMax\", \"AvgCharlsonIndexMin\", \"AvgCharlsonIndexMax\"]\n",
    "num_attribs = [x for x in num_attribs if x not in remove_cols]"
   ]
  },
  {
   "cell_type": "code",
   "execution_count": 152,
   "metadata": {
    "collapsed": true
   },
   "outputs": [],
   "source": [
    "num_pipeline = Pipeline([\n",
    "        ('selector', DataFrameSelector(num_attribs)),\n",
    "        ('imputer', Imputer(strategy=\"median\")),\n",
    "        #('attribs_adder', CombinedAttributesAdder()),\n",
    "        ('std_scaler', StandardScaler()),\n",
    "    ])"
   ]
  },
  {
   "cell_type": "code",
   "execution_count": 153,
   "metadata": {
    "collapsed": true
   },
   "outputs": [],
   "source": [
    "X_train_prepared = num_pipeline.fit_transform(X_train)\n",
    "X_test_prepared = num_pipeline.fit_transform(X_test)"
   ]
  },
  {
   "cell_type": "code",
   "execution_count": 154,
   "metadata": {
    "collapsed": true
   },
   "outputs": [],
   "source": [
    "#__avoid_run_heavy_tasks__ = False"
   ]
  },
  {
   "cell_type": "code",
   "execution_count": 155,
   "metadata": {
    "collapsed": false
   },
   "outputs": [],
   "source": [
    "from sklearn.model_selection import GridSearchCV\n",
    "from sklearn.model_selection import cross_val_score\n",
    "from sklearn.ensemble import RandomForestRegressor\n",
    "\n",
    "if __avoid_run_heavy_tasks__ == False:\n",
    "\n",
    "    param_grid = [\n",
    "        {'n_estimators': [3, 10, 30,50], 'max_features': [4, 6, 8]}\n",
    "        #{'bootstrap': [False], 'n_estimators': [3, 10], 'max_features': [2, 3, 4]},\n",
    "      ]\n",
    "\n",
    "    forest_reg = RandomForestRegressor(random_state=42)\n",
    "    grid_search = GridSearchCV(forest_reg, param_grid, cv=5,\n",
    "                               scoring='neg_mean_squared_error')\n",
    "    #grid_search.fit(X_train_prepared[:1000,:], y_train[:1000])\n",
    "    grid_search.fit(X_train_prepared, y_train)\n",
    "    print(grid_search.best_estimator_)"
   ]
  },
  {
   "cell_type": "code",
   "execution_count": 156,
   "metadata": {
    "collapsed": false
   },
   "outputs": [
    {
     "name": "stdout",
     "output_type": "stream",
     "text": [
      "Error =  0.2443727537569598\n",
      "RMSE =  1.5641829092231063\n"
     ]
    }
   ],
   "source": [
    "\n",
    "\n",
    "rf = RandomForestRegressor(bootstrap=True, criterion='mse', max_depth=None,\n",
    "           max_features=6, max_leaf_nodes=None, min_impurity_decrease=0.0,\n",
    "           min_impurity_split=None, min_samples_leaf=1,\n",
    "           min_samples_split=2, min_weight_fraction_leaf=0.0,\n",
    "           n_estimators=50, n_jobs=1, oob_score=False, random_state=42,\n",
    "           verbose=0, warm_start=False)\n",
    "\n",
    "full_pipeline_with_predictor = Pipeline([\n",
    "        (\"preparation\", num_pipeline),\n",
    "        (\"random forest\", rf)\n",
    "    ])\n",
    "\n",
    "full_pipeline_with_predictor.fit(X_train, y_train)\n",
    "predict_full_g_prev = np.floor(full_pipeline_with_predictor.predict(X_test))\n",
    "error_rf_full_g_prev = calc_error(y_test, predict_full_g_prev)\n",
    "rmse_rf_full_g_prev = calc_rmse(y_test, predict_full_g_prev)\n",
    "print(\"Error = \", error_rf_full_g_prev)\n",
    "print(\"RMSE = \", rmse_rf_full_g_prev)"
   ]
  },
  {
   "cell_type": "markdown",
   "metadata": {},
   "source": [
    "<B>A small improvement in error and RMSE</B>"
   ]
  },
  {
   "cell_type": "markdown",
   "metadata": {},
   "source": [
    "<B>Significance Test</B>"
   ]
  },
  {
   "cell_type": "code",
   "execution_count": 157,
   "metadata": {
    "collapsed": false
   },
   "outputs": [
    {
     "data": {
      "text/plain": [
       "array([-2.24336253, -2.34368246, -2.32066333, -2.32948294, -2.05020518,\n",
       "       -2.40642668, -2.44152822, -2.31750865, -2.3670689 , -2.27110889])"
      ]
     },
     "execution_count": 157,
     "metadata": {},
     "output_type": "execute_result"
    }
   ],
   "source": [
    "kFolds = 10\n",
    "corss_val_rf_full_g_prev = cross_val_score(full_pipeline_with_predictor, X_train, \\\n",
    "                             y_train,\n",
    "                             scoring=\"neg_mean_squared_error\", cv=kFolds)\n",
    "corss_val_rf_full_g_prev"
   ]
  },
  {
   "cell_type": "code",
   "execution_count": 158,
   "metadata": {
    "collapsed": false
   },
   "outputs": [
    {
     "name": "stdout",
     "output_type": "stream",
     "text": [
      "8.35379294910358 1.5639371553312034e-05\n"
     ]
    }
   ],
   "source": [
    "#Compare the new model with current best model \n",
    "control = results_table.loc[4][\"cross_val_scores\"][1:-1].split()\n",
    "control = np.array(list(map(float, control)))\n",
    "\n",
    "treatment = corss_val_rf_full_g_prev\n",
    "#treatment = np.array(list(map(float, treatment)))\n",
    "\n",
    "(p_value, t_score, result_message) = stats_compare_models(control, treatment)"
   ]
  },
  {
   "cell_type": "code",
   "execution_count": 159,
   "metadata": {
    "collapsed": false
   },
   "outputs": [],
   "source": [
    "results_table.loc[len(results_table)] = [\"5\", \"Random Forest - Prev Year Features\", \n",
    "                             error_rf_full_g_prev, rmse_rf_full_g_prev,\n",
    "                             corss_val_rf_full_g_prev,p_value, t_score,  \n",
    "                             'Full Prediction Pipeline With Prev Year Features using RF',\n",
    "                            result_message, \"Compared with Random Forest #4\"]\n",
    "#results_table[[\"Experiment\", \"Error (Test)\", \"RMSE (Test)\", \"p_value\", \"t_score\", \"Experiment description\"]]"
   ]
  },
  {
   "cell_type": "code",
   "execution_count": 160,
   "metadata": {
    "collapsed": false
   },
   "outputs": [
    {
     "data": {
      "text/html": [
       "<div>\n",
       "<style scoped>\n",
       "    .dataframe tbody tr th:only-of-type {\n",
       "        vertical-align: middle;\n",
       "    }\n",
       "\n",
       "    .dataframe tbody tr th {\n",
       "        vertical-align: top;\n",
       "    }\n",
       "\n",
       "    .dataframe thead th {\n",
       "        text-align: right;\n",
       "    }\n",
       "</style>\n",
       "<table border=\"1\" class=\"dataframe\">\n",
       "  <thead>\n",
       "    <tr style=\"text-align: right;\">\n",
       "      <th></th>\n",
       "      <th>Experiment</th>\n",
       "      <th>Error (Test)</th>\n",
       "      <th>RMSE (Test)</th>\n",
       "      <th>p_value</th>\n",
       "      <th>t_score</th>\n",
       "      <th>ControlModel</th>\n",
       "      <th>ModelComparisonResult</th>\n",
       "      <th>Experiment description</th>\n",
       "    </tr>\n",
       "  </thead>\n",
       "  <tbody>\n",
       "    <tr>\n",
       "      <th>0</th>\n",
       "      <td>Simple logic based on finding Average for DIH</td>\n",
       "      <td>0.2436542912261619</td>\n",
       "      <td>1.541389</td>\n",
       "      <td>not calculated</td>\n",
       "      <td>not calculated</td>\n",
       "      <td></td>\n",
       "      <td></td>\n",
       "      <td>The mean value of DIH is calculated based on h...</td>\n",
       "    </tr>\n",
       "    <tr>\n",
       "      <th>1</th>\n",
       "      <td>Random Forest</td>\n",
       "      <td>0.2717722908121741</td>\n",
       "      <td>1.559120</td>\n",
       "      <td>not calculated</td>\n",
       "      <td>not calculated</td>\n",
       "      <td></td>\n",
       "      <td></td>\n",
       "      <td>Only numeric fields which are directly availab...</td>\n",
       "    </tr>\n",
       "    <tr>\n",
       "      <th>2</th>\n",
       "      <td>Random Forest - After Feature Engineering</td>\n",
       "      <td>0.25479374541837824</td>\n",
       "      <td>1.573835</td>\n",
       "      <td>0.413824</td>\n",
       "      <td>0.856728</td>\n",
       "      <td>Compared with BaseLine RF.</td>\n",
       "      <td>There is no significant difference between the...</td>\n",
       "      <td>Feature Engineering, Parameter Tuning</td>\n",
       "    </tr>\n",
       "    <tr>\n",
       "      <th>3</th>\n",
       "      <td>SVM(SVR) - After Feature Engineering</td>\n",
       "      <td>Divide by 0 error</td>\n",
       "      <td>1.651900</td>\n",
       "      <td>not calculated</td>\n",
       "      <td>not calculated</td>\n",
       "      <td></td>\n",
       "      <td></td>\n",
       "      <td>Feature Engineering, Parameter Tuning</td>\n",
       "    </tr>\n",
       "    <tr>\n",
       "      <th>4</th>\n",
       "      <td>Random Forest - After Feature Engineering</td>\n",
       "      <td>0.2726796902622541</td>\n",
       "      <td>1.542195</td>\n",
       "      <td>0.567284</td>\n",
       "      <td>-0.593776</td>\n",
       "      <td>Compared with RF after feature engineering.</td>\n",
       "      <td>There is no significant difference between the...</td>\n",
       "      <td>Full Prediction Pipeline</td>\n",
       "    </tr>\n",
       "    <tr>\n",
       "      <th>5</th>\n",
       "      <td>Random Forest - After Reducing some Features</td>\n",
       "      <td>0.274527</td>\n",
       "      <td>1.546138</td>\n",
       "      <td>not calculated</td>\n",
       "      <td>not calculated</td>\n",
       "      <td></td>\n",
       "      <td></td>\n",
       "      <td>Full Prediction Pipeline</td>\n",
       "    </tr>\n",
       "    <tr>\n",
       "      <th>6</th>\n",
       "      <td>Random Forest - Prev Year Features</td>\n",
       "      <td>0.244373</td>\n",
       "      <td>1.564183</td>\n",
       "      <td>1.56394e-05</td>\n",
       "      <td>8.35379</td>\n",
       "      <td>Machine learning pipeline B is better than A</td>\n",
       "      <td>Compared with Random Forest #4</td>\n",
       "      <td>Full Prediction Pipeline With Prev Year Featur...</td>\n",
       "    </tr>\n",
       "  </tbody>\n",
       "</table>\n",
       "</div>"
      ],
      "text/plain": [
       "                                      Experiment         Error (Test)  \\\n",
       "0  Simple logic based on finding Average for DIH   0.2436542912261619   \n",
       "1                                  Random Forest   0.2717722908121741   \n",
       "2      Random Forest - After Feature Engineering  0.25479374541837824   \n",
       "3           SVM(SVR) - After Feature Engineering    Divide by 0 error   \n",
       "4      Random Forest - After Feature Engineering   0.2726796902622541   \n",
       "5   Random Forest - After Reducing some Features             0.274527   \n",
       "6             Random Forest - Prev Year Features             0.244373   \n",
       "\n",
       "   RMSE (Test)         p_value         t_score  \\\n",
       "0     1.541389  not calculated  not calculated   \n",
       "1     1.559120  not calculated  not calculated   \n",
       "2     1.573835        0.413824        0.856728   \n",
       "3     1.651900  not calculated  not calculated   \n",
       "4     1.542195        0.567284       -0.593776   \n",
       "5     1.546138  not calculated  not calculated   \n",
       "6     1.564183     1.56394e-05         8.35379   \n",
       "\n",
       "                                   ControlModel  \\\n",
       "0                                                 \n",
       "1                                                 \n",
       "2                   Compared with BaseLine RF.    \n",
       "3                                                 \n",
       "4  Compared with RF after feature engineering.    \n",
       "5                                                 \n",
       "6  Machine learning pipeline B is better than A   \n",
       "\n",
       "                               ModelComparisonResult  \\\n",
       "0                                                      \n",
       "1                                                      \n",
       "2  There is no significant difference between the...   \n",
       "3                                                      \n",
       "4  There is no significant difference between the...   \n",
       "5                                                      \n",
       "6                     Compared with Random Forest #4   \n",
       "\n",
       "                              Experiment description  \n",
       "0  The mean value of DIH is calculated based on h...  \n",
       "1  Only numeric fields which are directly availab...  \n",
       "2              Feature Engineering, Parameter Tuning  \n",
       "3              Feature Engineering, Parameter Tuning  \n",
       "4                           Full Prediction Pipeline  \n",
       "5                           Full Prediction Pipeline  \n",
       "6  Full Prediction Pipeline With Prev Year Featur...  "
      ]
     },
     "execution_count": 160,
     "metadata": {},
     "output_type": "execute_result"
    }
   ],
   "source": [
    "results_table[[\"Experiment\", \"Error (Test)\", \"RMSE (Test)\", \"p_value\", \"t_score\", \"ControlModel\", \"ModelComparisonResult\", \"Experiment description\"]]"
   ]
  },
  {
   "cell_type": "code",
   "execution_count": 161,
   "metadata": {
    "collapsed": false
   },
   "outputs": [
    {
     "data": {
      "text/plain": [
       "(98806, 120)"
      ]
     },
     "execution_count": 161,
     "metadata": {},
     "output_type": "execute_result"
    }
   ],
   "source": [
    "X_train.shape"
   ]
  },
  {
   "cell_type": "code",
   "execution_count": 162,
   "metadata": {
    "collapsed": false
   },
   "outputs": [
    {
     "name": "stdout",
     "output_type": "stream",
     "text": [
      "Accurate =  37618  total =  48667  precentage =  77.29673084430928\n"
     ]
    },
    {
     "data": {
      "text/plain": [
       "<matplotlib.axes._subplots.AxesSubplot at 0x1a13fdf3c8>"
      ]
     },
     "execution_count": 162,
     "metadata": {},
     "output_type": "execute_result"
    },
    {
     "data": {
      "image/png": "[encoded data removed]",
      "text/plain": [
       "<Figure size 432x288 with 1 Axes>"
      ]
     },
     "metadata": {},
     "output_type": "display_data"
    }
   ],
   "source": [
    "error_vec = calc_squared_error(y_test, predict_full_g_prev)\n",
    "error_df = pd.DataFrame(\n",
    "    {'y': list(y_test),\n",
    "     'squared_error': error_vec\n",
    "    })\n",
    "accurate = len(error_df[(error_df['squared_error']==0)])\n",
    "total = len(error_df)\n",
    "print(\"Accurate = \", accurate, \" total = \", total, \" precentage = \", accurate*100/total)\n",
    "\n",
    "error_df[\"squared_error\"].hist()"
   ]
  },
  {
   "cell_type": "markdown",
   "metadata": {},
   "source": [
    "## Input Feature Analysis"
   ]
  },
  {
   "cell_type": "code",
   "execution_count": 163,
   "metadata": {
    "collapsed": false
   },
   "outputs": [
    {
     "name": "stdout",
     "output_type": "stream",
     "text": [
      "Feature ranking:\n",
      "1 . MinPCP : 0.04323026165601431\n",
      "2 . MaxPCP : 0.04285345363850772\n",
      "3 . AvgPCP : 0.04216131821427438\n",
      "4 . TotalDrugCount : 0.03931205517126493\n",
      "5 . TotalLabCount : 0.03387654950595575\n",
      "6 . PrimaryConditionGroup_STROKE : 0.03106023303864683\n",
      "7 . Specialty_Internal : 0.030550046697749335\n",
      "8 . MaxDSFSMin : 0.02679275516173064\n",
      "9 . ProviderCount : 0.026433108662860284\n",
      "10 . MinLengthOfStayMax : 0.025637995051496998\n",
      "11 . VendorCount : 0.023587463925093005\n",
      "12 . AvgDSFSMin : 0.023391944290896752\n",
      "13 . PlaceSvc_nan : 0.023275592254376892\n",
      "14 . PrimaryConditionGroup_SEPSIS : 0.02225630919855312\n",
      "15 . PrimaryConditionGroup_nan : 0.021568507116020815\n",
      "16 . ProcedureGroup_SIS : 0.02026489734930857\n",
      "17 . Specialty_Pathology : 0.019816505753675426\n",
      "18 . PrimaryConditionGroup_CANCRA : 0.018846875335408266\n",
      "19 . PrimaryConditionGroup_PERVALV : 0.01785071452469946\n",
      "20 . PlaceSvc_UrgentCare : 0.017354663984521554\n",
      "21 . ProcedureGroup_nan : 0.017281951781065088\n",
      "22 . ProcedureGroup_PL : 0.016683573702353384\n",
      "23 . ProcedureGroup_SNS : 0.016612948793713472\n",
      "24 . MaxCharlsonIndexMin : 0.015473723911346072\n",
      "25 . MinDSFSMin : 0.015450825550971636\n"
     ]
    }
   ],
   "source": [
    "importances = rf.feature_importances_\n",
    "std = np.std([tree.feature_importances_ for tree in rf.estimators_],\n",
    "             axis=0)\n",
    "indices = np.argsort(importances)[::-1]\n",
    "\n",
    "# Print the feature ranking\n",
    "print(\"Feature ranking:\")\n",
    "\n",
    "for f in range(25):\n",
    "    print(f+1, \".\", X_train.columns[indices[f]], \":\", importances[indices[f]])\n",
    "    #print(\"%d. feature %d (%f)\" % (f + 1, indices[f], importances[indices[f]]))\n",
    "    "
   ]
  },
  {
   "cell_type": "markdown",
   "metadata": {},
   "source": [
    "<B>Observation: </B>PCP, DrugCount, LabCount and Categorical variables ProcedureGroup and PrimaryConditionGroup seem to be ge getting most importance in the decision tree ensembles. "
   ]
  },
  {
   "cell_type": "markdown",
   "metadata": {},
   "source": [
    "## Experimental Result Discussion: Phase 3 Results"
   ]
  },
  {
   "cell_type": "markdown",
   "metadata": {},
   "source": [
    "The best pipeline uses:\n",
    "1. 121 features which include numeric feature expansions (min, max, avg), and categorial feature encodings\n",
    "2. Reducing some unnecessary features\n",
    "3. Random Forest with max_features = 6 and n_estimators = 50 as determined by hyper-parameter tuning\n",
    "4. Previous Year counts as features for current year predictions\n",
    "\n",
    "Error Analysis:\n",
    "1. The best log error is 0.244 and RMSE is 1.564. \n",
    "2. This is improved from error=0.27 and RMSE=1.55 which was base model. \n",
    "3. The total number of accurate predictions are 37,618 out of 48,667 (77.36%)\n",
    "4. The model is not able to predict the cases when days_in_hospital > 7. These cases are cuasing maximum Error and RMSE"
   ]
  },
  {
   "cell_type": "markdown",
   "metadata": {},
   "source": [
    "## Next Steps\n",
    "ProviderID - we are only using ProviderCount for a member. But some providers may have high rate of hospitalization than others since they provide some special service. Can this be used as a feature?"
   ]
  },
  {
   "cell_type": "markdown",
   "metadata": {
    "collapsed": true
   },
   "source": [
    "# Phase 4"
   ]
  },
  {
   "cell_type": "markdown",
   "metadata": {},
   "source": [
    "## Model Ensemble\n",
    "Lets try combination of classifer followe by regression\n",
    "1. The classifier will first predict whether a member will be hospitalized\n",
    "2. The regressor will predict the number of days in hospital if the classifier predicts hospitalization"
   ]
  },
  {
   "cell_type": "markdown",
   "metadata": {},
   "source": [
    "### Classifier: Create IsHospitalized column as label for classifier"
   ]
  },
  {
   "cell_type": "code",
   "execution_count": 164,
   "metadata": {
    "collapsed": false
   },
   "outputs": [],
   "source": [
    "summary_df_mg_prev['IsHospitalized'] = summary_df_mg_prev.apply(lambda row: 1 if row.DaysInHospital > 0 else 0, axis=1)"
   ]
  },
  {
   "cell_type": "code",
   "execution_count": 165,
   "metadata": {
    "collapsed": false
   },
   "outputs": [
    {
     "data": {
      "text/plain": [
       "(22498, 126)"
      ]
     },
     "execution_count": 165,
     "metadata": {},
     "output_type": "execute_result"
    }
   ],
   "source": [
    "summary_df_mg_prev_hospitalized=summary_df_mg_prev.loc[summary_df_mg_prev['IsHospitalized']==1]\n",
    "summary_df_mg_prev_hospitalized.shape"
   ]
  },
  {
   "cell_type": "code",
   "execution_count": 166,
   "metadata": {
    "collapsed": false
   },
   "outputs": [
    {
     "name": "stdout",
     "output_type": "stream",
     "text": [
      "X_train shape:  (98806, 121)\n",
      "X_test shape:  (48667, 121)\n",
      "y_train shape:  (98806, 2)\n",
      "y_test shape:  (48667, 2)\n"
     ]
    }
   ],
   "source": [
    "from sklearn.model_selection import train_test_split\n",
    "#First divide DaysInHospital data in train and test \n",
    "\n",
    "#y1 = summary_df_mg_prev[\"IsHospitalized\"].copy()\n",
    "#y2 = summary_df_mg_prev[\"DaysInHospital\"].copy()\n",
    "y = summary_df_mg_prev[['IsHospitalized', 'DaysInHospital']].copy()\n",
    "X = summary_df_mg_prev.drop(\"IsHospitalized\", axis=1) # drop labels for training set\n",
    "X = summary_df_mg_prev.drop(\"DaysInHospital\", axis=1) # drop labels for training set\n",
    "\n",
    "#Drop unnecessary columns\n",
    "\n",
    "X.drop(\"AgeAtFirstClaim\", inplace=True, axis=1)\n",
    "X.drop(\"Sex\", inplace=True, axis=1) #check if we need this\n",
    "X.drop(\"index\", inplace=True, axis=1) \n",
    "X.drop(\"index_1\", inplace=True, axis=1) \n",
    "\n",
    "X_train, X_test, y_train, y_test = \\\n",
    "                            train_test_split(X, y, test_size=0.33, random_state=42)\n",
    "print(\"X_train shape: \", X_train.shape)\n",
    "print(\"X_test shape: \", X_test.shape)\n",
    "print(\"y_train shape: \", y_train.shape)\n",
    "print(\"y_test shape: \", y_test.shape)"
   ]
  },
  {
   "cell_type": "code",
   "execution_count": 167,
   "metadata": {
    "collapsed": true
   },
   "outputs": [],
   "source": [
    "X_train_prepared = num_pipeline.fit_transform(X_train)\n",
    "X_test_prepared = num_pipeline.fit_transform(X_test)"
   ]
  },
  {
   "cell_type": "markdown",
   "metadata": {},
   "source": [
    "### Classifier Model Selection"
   ]
  },
  {
   "cell_type": "code",
   "execution_count": 168,
   "metadata": {
    "collapsed": true
   },
   "outputs": [],
   "source": [
    "__avoid_run_heavy_tasks__ = False\n",
    "__avoid_run_svm__ = True"
   ]
  },
  {
   "cell_type": "code",
   "execution_count": 169,
   "metadata": {
    "collapsed": false
   },
   "outputs": [
    {
     "name": "stdout",
     "output_type": "stream",
     "text": [
      "LINEAR: 0.839392 (0.002695)\n",
      "NB: 0.772797 (0.002298)\n",
      "RandomForest: 0.843248 (0.001481)\n"
     ]
    }
   ],
   "source": [
    "from sklearn.linear_model import SGDClassifier\n",
    "from sklearn.naive_bayes import GaussianNB\n",
    "from sklearn.svm import SVC\n",
    "from sklearn.ensemble import RandomForestClassifier\n",
    "\n",
    "from sklearn.model_selection import cross_val_score\n",
    "from sklearn.model_selection import KFold\n",
    "\n",
    "if __avoid_run_heavy_tasks__ == False:\n",
    "    models = []\n",
    "    models.append(('LINEAR', SGDClassifier(max_iter=20, tol=None)))\n",
    "    models.append(('NB', GaussianNB()))\n",
    "    if __avoid_run_svm__ == False:\n",
    "        models.append(('SVM', SVC()))\n",
    "    models.append(('RandomForest', RandomForestClassifier()))\n",
    "\n",
    "    agg_results = []\n",
    "    names = []\n",
    "    scoring = 'accuracy'\n",
    "    for name, model in models:\n",
    "        kfold = KFold(n_splits=5, random_state=7)\n",
    "        #cv_results = cross_val_score(model, X_train_prepared[:1000,:], y_train[:1000], cv=kfold, scoring=scoring)\n",
    "        if __name__ == \"__main__\":    \n",
    "            cv_results = cross_val_score(model, X_train_prepared, y_train[\"IsHospitalized\"], cv=kfold, scoring=scoring, n_jobs=-1)\n",
    "        agg_results.append(cv_results)\n",
    "        names.append(name)\n",
    "        msg = \"%s: %f (%f)\" % (name, cv_results.mean(), cv_results.std())\n",
    "        print(msg)"
   ]
  },
  {
   "cell_type": "code",
   "execution_count": 170,
   "metadata": {
    "collapsed": false
   },
   "outputs": [
    {
     "name": "stdout",
     "output_type": "stream",
     "text": [
      "RandomForestClassifier(bootstrap=True, class_weight=None, criterion='entropy',\n",
      "            max_depth=None, max_features=12, max_leaf_nodes=None,\n",
      "            min_impurity_decrease=0.0, min_impurity_split=None,\n",
      "            min_samples_leaf=1, min_samples_split=2,\n",
      "            min_weight_fraction_leaf=0.0, n_estimators=120, n_jobs=1,\n",
      "            oob_score=False, random_state=42, verbose=0, warm_start=False)\n"
     ]
    }
   ],
   "source": [
    "from sklearn.model_selection import GridSearchCV\n",
    "from sklearn.model_selection import cross_val_score\n",
    "\n",
    "if __avoid_run_heavy_tasks__ == False:\n",
    "\n",
    "    param_grid = [\n",
    "        {'n_estimators': [100, 120], 'max_features': [8, 12], 'criterion':['gini', 'entropy']}\n",
    "       # {'bootstrap': [False], 'n_estimators': [3, 10], 'max_features': [2, 3, 4]},\n",
    "      ]\n",
    "\n",
    "    rfc = RandomForestClassifier(random_state=42)\n",
    "    grid_search = GridSearchCV(rfc, param_grid, cv=5,\n",
    "                               scoring='accuracy')\n",
    "    #grid_search.fit(X_train_prepared[:1000,:], y_train[:1000])\n",
    "    grid_search.fit(X_train_prepared, y_train[\"IsHospitalized\"])\n",
    "    print(grid_search.best_estimator_)"
   ]
  },
  {
   "cell_type": "markdown",
   "metadata": {},
   "source": [
    "### Classifier Pipeline"
   ]
  },
  {
   "cell_type": "code",
   "execution_count": 171,
   "metadata": {
    "collapsed": false
   },
   "outputs": [],
   "source": [
    "from sklearn.ensemble import RandomForestClassifier\n",
    "\n",
    "rfc = RandomForestClassifier(bootstrap=True, criterion='entropy', max_depth=None,\n",
    "           max_features=8, max_leaf_nodes=None, min_impurity_decrease=0.0,\n",
    "           min_impurity_split=None, min_samples_leaf=1,\n",
    "           min_samples_split=2, min_weight_fraction_leaf=0.0,\n",
    "           n_estimators=100, n_jobs=1)\n",
    "\n",
    "rfc_pipeline = Pipeline([\n",
    "        (\"preparation\", num_pipeline),\n",
    "        (\"random forest\", rfc)\n",
    "    ])\n",
    "\n",
    "rfc_pipeline.fit(X_train, y_train[\"IsHospitalized\"])\n",
    "rfc_predict = rfc_pipeline.predict(X_test)"
   ]
  },
  {
   "cell_type": "code",
   "execution_count": 172,
   "metadata": {
    "collapsed": false
   },
   "outputs": [
    {
     "data": {
      "text/plain": [
       "0.849692810323217"
      ]
     },
     "execution_count": 172,
     "metadata": {},
     "output_type": "execute_result"
    }
   ],
   "source": [
    "from sklearn.metrics import accuracy_score\n",
    "accuracy_score(y_test[\"IsHospitalized\"], rfc_predict)"
   ]
  },
  {
   "cell_type": "markdown",
   "metadata": {},
   "source": [
    "### Regressor: Data Selection\n",
    "The regressor should be trained on data where DaysInHospital >=1"
   ]
  },
  {
   "cell_type": "code",
   "execution_count": 173,
   "metadata": {
    "collapsed": false
   },
   "outputs": [
    {
     "name": "stderr",
     "output_type": "stream",
     "text": [
      "/Users/Avadhoot/anaconda/lib/python3.6/site-packages/ipykernel/__main__.py:1: SettingWithCopyWarning: \n",
      "A value is trying to be set on a copy of a slice from a DataFrame.\n",
      "Try using .loc[row_indexer,col_indexer] = value instead\n",
      "\n",
      "See the caveats in the documentation: http://pandas.pydata.org/pandas-docs/stable/indexing.html#indexing-view-versus-copy\n",
      "  if __name__ == '__main__':\n",
      "/Users/Avadhoot/anaconda/lib/python3.6/site-packages/ipykernel/__main__.py:7: SettingWithCopyWarning: \n",
      "A value is trying to be set on a copy of a slice from a DataFrame\n",
      "\n",
      "See the caveats in the documentation: http://pandas.pydata.org/pandas-docs/stable/indexing.html#indexing-view-versus-copy\n"
     ]
    },
    {
     "name": "stdout",
     "output_type": "stream",
     "text": [
      "x_train_subset.shape: (15104, 122) y_train_subset.shape:  (15104, 2)\n"
     ]
    },
    {
     "name": "stderr",
     "output_type": "stream",
     "text": [
      "/Users/Avadhoot/anaconda/lib/python3.6/site-packages/ipykernel/__main__.py:10: SettingWithCopyWarning: \n",
      "A value is trying to be set on a copy of a slice from a DataFrame\n",
      "\n",
      "See the caveats in the documentation: http://pandas.pydata.org/pandas-docs/stable/indexing.html#indexing-view-versus-copy\n"
     ]
    }
   ],
   "source": [
    "X_train[\"DaysInHospital\"] = y_train[\"DaysInHospital\"]\n",
    "x_train_subset = X_train[X_train[\"DaysInHospital\"] > 0]\n",
    "y_train_subset = y_train[y_train[\"DaysInHospital\"] > 0]\n",
    "\n",
    "x_train_subset_for_regressor_model_sel = X_train[X_train[\"DaysInHospital\"] > 0]\n",
    "y_train_subset_for_regressor_model_sel = y_train[y_train[\"DaysInHospital\"] > 0]\n",
    "x_train_subset_for_regressor_model_sel.drop(\"DaysInHospital\", inplace=True, axis=1)\n",
    "x_train_subset_for_regressor_model_sel_prepared = num_pipeline.fit_transform(x_train_subset_for_regressor_model_sel)\n",
    "\n",
    "X_train.drop(\"DaysInHospital\", inplace=True, axis=1)\n",
    "print(\"x_train_subset.shape:\", x_train_subset.shape, \"y_train_subset.shape: \", y_train_subset.shape)"
   ]
  },
  {
   "cell_type": "markdown",
   "metadata": {},
   "source": [
    "### Regressor: Model Selection"
   ]
  },
  {
   "cell_type": "code",
   "execution_count": 174,
   "metadata": {
    "collapsed": false
   },
   "outputs": [
    {
     "name": "stdout",
     "output_type": "stream",
     "text": [
      "LINEAR: -8.183055 (0.181984)\n",
      "Lasso: -8.716705 (0.159061)\n",
      "NB: -115.210035 (2.294855)\n",
      "RandomForest: -9.204785 (0.072867)\n"
     ]
    }
   ],
   "source": [
    "#Model Selection for Regressor\n",
    "from sklearn.linear_model import LinearRegression\n",
    "from sklearn.linear_model import LogisticRegression\n",
    "from sklearn.linear_model import Lasso\n",
    "from sklearn.naive_bayes import GaussianNB\n",
    "from sklearn.svm import SVR\n",
    "from sklearn.ensemble import RandomForestRegressor\n",
    "\n",
    "from sklearn.model_selection import cross_val_score\n",
    "from sklearn.model_selection import KFold\n",
    "\n",
    "if __avoid_run_heavy_tasks__ == False:\n",
    "    models = []\n",
    "    models.append(('LINEAR', LinearRegression()))\n",
    "    models.append(('Lasso', Lasso()))\n",
    "    #models.append(('LR', LogisticRegression()))\n",
    "    models.append(('NB', GaussianNB()))\n",
    "    if __avoid_run_svm__ == False:\n",
    "        models.append(('SVM', SVR()))\n",
    "    models.append(('RandomForest', RandomForestRegressor()))\n",
    "\n",
    "    agg_results = []\n",
    "    names = []\n",
    "    scoring = 'neg_mean_squared_error'\n",
    "    for name, model in models:\n",
    "        kfold = KFold(n_splits=5, random_state=7)\n",
    "        #cv_results = cross_val_score(model, X_train_prepared[:1000,:], y_train[:1000], cv=kfold, scoring=scoring)\n",
    "        if __name__ == \"__main__\":    \n",
    "            cv_results = cross_val_score(model, x_train_subset_for_regressor_model_sel_prepared, \\\n",
    "                                         y_train_subset[\"DaysInHospital\"], cv=kfold, scoring=scoring, n_jobs=-1)\n",
    "        agg_results.append(cv_results)\n",
    "        names.append(name)\n",
    "        msg = \"%s: %f (%f)\" % (name, cv_results.mean(), cv_results.std())\n",
    "        print(msg)\n",
    "        "
   ]
  },
  {
   "cell_type": "markdown",
   "metadata": {},
   "source": [
    "The execution output was:\n",
    "\n",
    "LINEAR: -8.183055 (0.181984)\n",
    "\n",
    "Lasso: -8.716705 (0.159061)\n",
    "\n",
    "NB: -115.210035 (2.294855)\n",
    "\n",
    "SVM: -9.117708 (0.171438)\n",
    "\n",
    "RandomForest: -9.199083 (0.142283)"
   ]
  },
  {
   "cell_type": "markdown",
   "metadata": {},
   "source": [
    "### Regressor: Linear Regression Pipeline"
   ]
  },
  {
   "cell_type": "code",
   "execution_count": 175,
   "metadata": {
    "collapsed": false
   },
   "outputs": [
    {
     "data": {
      "text/plain": [
       "Pipeline(memory=None,\n",
       "     steps=[('preparation', Pipeline(memory=None,\n",
       "     steps=[('selector', DataFrameSelector(attribute_names=['ClaimsTruncated', 'TotalLabCount', 'TotalDrugCount', 'ProviderCount', 'VendorCount', 'MinPCP', 'MaxPCP', 'AvgPCP', 'MinLengthOfStayMin', 'MaxLengthOfStayMax', 'MinDSFSMin', 'MaxDSFSMax', 'MinCha...('linear regression', LinearRegression(copy_X=True, fit_intercept=True, n_jobs=1, normalize=False))])"
      ]
     },
     "execution_count": 175,
     "metadata": {},
     "output_type": "execute_result"
    }
   ],
   "source": [
    "lr = LinearRegression()\n",
    "\n",
    "lrpipeline = Pipeline([\n",
    "        (\"preparation\", num_pipeline),\n",
    "        (\"linear regression\", lr)\n",
    "    ])\n",
    "lrpipeline.fit(x_train_subset, y_train_subset[\"DaysInHospital\"])"
   ]
  },
  {
   "cell_type": "code",
   "execution_count": 176,
   "metadata": {
    "collapsed": true
   },
   "outputs": [],
   "source": [
    "lr_predict = np.floor(lrpipeline.predict(X_test))"
   ]
  },
  {
   "cell_type": "markdown",
   "metadata": {},
   "source": [
    "### Regressor: Random Forest: Hyper-parameter Tuning"
   ]
  },
  {
   "cell_type": "code",
   "execution_count": 177,
   "metadata": {
    "collapsed": false
   },
   "outputs": [
    {
     "name": "stdout",
     "output_type": "stream",
     "text": [
      "RandomForestRegressor(bootstrap=True, criterion='mse', max_depth=None,\n",
      "           max_features=6, max_leaf_nodes=None, min_impurity_decrease=0.0,\n",
      "           min_impurity_split=None, min_samples_leaf=1,\n",
      "           min_samples_split=2, min_weight_fraction_leaf=0.0,\n",
      "           n_estimators=30, n_jobs=1, oob_score=False, random_state=42,\n",
      "           verbose=0, warm_start=False)\n"
     ]
    }
   ],
   "source": [
    "from sklearn.model_selection import GridSearchCV\n",
    "from sklearn.model_selection import cross_val_score\n",
    "from sklearn.ensemble import RandomForestRegressor\n",
    "\n",
    "if __avoid_run_heavy_tasks__ == False:\n",
    "\n",
    "    param_grid = [\n",
    "        {'n_estimators': [3, 10, 30], 'max_features': [2, 4, 6, 8]}\n",
    "        #{'bootstrap': [False], 'n_estimators': [3, 10], 'max_features': [2, 3, 4]},\n",
    "      ]\n",
    "\n",
    "    forest_reg = RandomForestRegressor(random_state=42)\n",
    "    grid_search = GridSearchCV(forest_reg, param_grid, cv=5,\n",
    "                               scoring='neg_mean_squared_error')\n",
    "    #grid_search.fit(X_train_prepared[:1000,:], y_train[:1000])\n",
    "    grid_search.fit(x_train_subset_for_regressor_model_sel_prepared, y_train_subset[\"DaysInHospital\"])\n",
    "    print(grid_search.best_estimator_)"
   ]
  },
  {
   "cell_type": "markdown",
   "metadata": {},
   "source": [
    "The execution output:\n",
    "\n",
    "RandomForestRegressor(bootstrap=True, criterion='mse', max_depth=None,\n",
    "           max_features=6, max_leaf_nodes=None, min_impurity_decrease=0.0,\n",
    "           min_impurity_split=None, min_samples_leaf=1,\n",
    "           min_samples_split=2, min_weight_fraction_leaf=0.0,\n",
    "           n_estimators=30, n_jobs=1, oob_score=False, random_state=42,\n",
    "           verbose=0, warm_start=False)"
   ]
  },
  {
   "cell_type": "markdown",
   "metadata": {},
   "source": [
    "### Regressor: Random Forest: Pipeline"
   ]
  },
  {
   "cell_type": "code",
   "execution_count": 178,
   "metadata": {
    "collapsed": false
   },
   "outputs": [
    {
     "data": {
      "text/plain": [
       "Pipeline(memory=None,\n",
       "     steps=[('preparation', Pipeline(memory=None,\n",
       "     steps=[('selector', DataFrameSelector(attribute_names=['ClaimsTruncated', 'TotalLabCount', 'TotalDrugCount', 'ProviderCount', 'VendorCount', 'MinPCP', 'MaxPCP', 'AvgPCP', 'MinLengthOfStayMin', 'MaxLengthOfStayMax', 'MinDSFSMin', 'MaxDSFSMax', 'MinCha...estimators=30, n_jobs=1, oob_score=False, random_state=42,\n",
       "           verbose=0, warm_start=False))])"
      ]
     },
     "execution_count": 178,
     "metadata": {},
     "output_type": "execute_result"
    }
   ],
   "source": [
    "rf = RandomForestRegressor(bootstrap=True, criterion='mse', max_depth=None,\n",
    "           max_features=6, max_leaf_nodes=None, min_impurity_decrease=0.0,\n",
    "           min_impurity_split=None, min_samples_leaf=1,\n",
    "           min_samples_split=2, min_weight_fraction_leaf=0.0,\n",
    "           n_estimators=30, n_jobs=1, oob_score=False, random_state=42,\n",
    "           verbose=0, warm_start=False)\n",
    "\n",
    "rfr = Pipeline([\n",
    "        (\"preparation\", num_pipeline),\n",
    "        (\"random forest\", rf)\n",
    "    ])\n",
    "rfr.fit(x_train_subset, y_train_subset[\"DaysInHospital\"])"
   ]
  },
  {
   "cell_type": "code",
   "execution_count": 179,
   "metadata": {
    "collapsed": false
   },
   "outputs": [],
   "source": [
    "\n",
    "rfr_predict = np.floor(rfr.predict(X_test))\n"
   ]
  },
  {
   "cell_type": "markdown",
   "metadata": {},
   "source": [
    "### Kitchen Sink: Merger the results for 2 Regressors"
   ]
  },
  {
   "cell_type": "code",
   "execution_count": 180,
   "metadata": {
    "collapsed": false
   },
   "outputs": [
    {
     "data": {
      "text/plain": [
       "array([1.6, 1. , 3. , ..., 1.6, 1.6, 2. ])"
      ]
     },
     "execution_count": 180,
     "metadata": {},
     "output_type": "execute_result"
    }
   ],
   "source": [
    "wt_linear = 0.6\n",
    "wt_rf = 0.4\n",
    "regress_predict = wt_linear * lr_predict + wt_rf * rfr_predict\n",
    "regress_predict"
   ]
  },
  {
   "cell_type": "markdown",
   "metadata": {},
   "source": [
    "### Merge Classifier and Regressor Results"
   ]
  },
  {
   "cell_type": "code",
   "execution_count": 181,
   "metadata": {
    "collapsed": true
   },
   "outputs": [],
   "source": [
    "predict_df = pd.DataFrame({'IsHospitalized':rfc_predict, 'DaysInHospital':regress_predict})\n",
    "predict_df['DaysInHospitalFinal'] = predict_df.apply(lambda row: row.DaysInHospital if row.IsHospitalized > 0 else 0, axis=1)"
   ]
  },
  {
   "cell_type": "code",
   "execution_count": 182,
   "metadata": {
    "collapsed": false
   },
   "outputs": [
    {
     "name": "stdout",
     "output_type": "stream",
     "text": [
      "Error =  0.2609802768974819\n",
      "RMSE =  1.628421515395781\n"
     ]
    }
   ],
   "source": [
    "error_sink = calc_error(np.array(y_test[\"DaysInHospital\"]), \\\n",
    "                        np.array(predict_df[\"DaysInHospitalFinal\"]))\n",
    "rmse_sink = calc_rmse(np.array(y_test[\"DaysInHospital\"]), \\\n",
    "                      np.array(predict_df[\"DaysInHospitalFinal\"]))\n",
    "print(\"Error = \", error_sink)\n",
    "print(\"RMSE = \", rmse_sink)"
   ]
  },
  {
   "cell_type": "markdown",
   "metadata": {},
   "source": [
    "### Result Table"
   ]
  },
  {
   "cell_type": "code",
   "execution_count": 183,
   "metadata": {
    "collapsed": true
   },
   "outputs": [],
   "source": [
    "results_table.loc[len(results_table)] = [\"6\", \"Model Ensembles\", \n",
    "                             error_sink, rmse_sink,\n",
    "                             [],\"not calculated\", \"not calculated\",  \n",
    "                             'Random Forest as Classifier for IsHospitalized. Then Linear and Random Forest Regression',\n",
    "                            \"\", \"\"]\n",
    "#results_table[[\"Experiment\", \"Error (Test)\", \"RMSE (Test)\", \"p_value\", \"t_score\", \"Experiment description\"]]"
   ]
  },
  {
   "cell_type": "code",
   "execution_count": 184,
   "metadata": {
    "collapsed": false
   },
   "outputs": [
    {
     "data": {
      "text/html": [
       "<div>\n",
       "<style scoped>\n",
       "    .dataframe tbody tr th:only-of-type {\n",
       "        vertical-align: middle;\n",
       "    }\n",
       "\n",
       "    .dataframe tbody tr th {\n",
       "        vertical-align: top;\n",
       "    }\n",
       "\n",
       "    .dataframe thead th {\n",
       "        text-align: right;\n",
       "    }\n",
       "</style>\n",
       "<table border=\"1\" class=\"dataframe\">\n",
       "  <thead>\n",
       "    <tr style=\"text-align: right;\">\n",
       "      <th></th>\n",
       "      <th>Experiment</th>\n",
       "      <th>Error (Test)</th>\n",
       "      <th>RMSE (Test)</th>\n",
       "      <th>p_value</th>\n",
       "      <th>t_score</th>\n",
       "      <th>ControlModel</th>\n",
       "      <th>ModelComparisonResult</th>\n",
       "      <th>Experiment description</th>\n",
       "    </tr>\n",
       "  </thead>\n",
       "  <tbody>\n",
       "    <tr>\n",
       "      <th>0</th>\n",
       "      <td>Simple logic based on finding Average for DIH</td>\n",
       "      <td>0.2436542912261619</td>\n",
       "      <td>1.541389</td>\n",
       "      <td>not calculated</td>\n",
       "      <td>not calculated</td>\n",
       "      <td></td>\n",
       "      <td></td>\n",
       "      <td>The mean value of DIH is calculated based on h...</td>\n",
       "    </tr>\n",
       "    <tr>\n",
       "      <th>1</th>\n",
       "      <td>Random Forest</td>\n",
       "      <td>0.2717722908121741</td>\n",
       "      <td>1.559120</td>\n",
       "      <td>not calculated</td>\n",
       "      <td>not calculated</td>\n",
       "      <td></td>\n",
       "      <td></td>\n",
       "      <td>Only numeric fields which are directly availab...</td>\n",
       "    </tr>\n",
       "    <tr>\n",
       "      <th>2</th>\n",
       "      <td>Random Forest - After Feature Engineering</td>\n",
       "      <td>0.25479374541837824</td>\n",
       "      <td>1.573835</td>\n",
       "      <td>0.413824</td>\n",
       "      <td>0.856728</td>\n",
       "      <td>Compared with BaseLine RF.</td>\n",
       "      <td>There is no significant difference between the...</td>\n",
       "      <td>Feature Engineering, Parameter Tuning</td>\n",
       "    </tr>\n",
       "    <tr>\n",
       "      <th>3</th>\n",
       "      <td>SVM(SVR) - After Feature Engineering</td>\n",
       "      <td>Divide by 0 error</td>\n",
       "      <td>1.651900</td>\n",
       "      <td>not calculated</td>\n",
       "      <td>not calculated</td>\n",
       "      <td></td>\n",
       "      <td></td>\n",
       "      <td>Feature Engineering, Parameter Tuning</td>\n",
       "    </tr>\n",
       "    <tr>\n",
       "      <th>4</th>\n",
       "      <td>Random Forest - After Feature Engineering</td>\n",
       "      <td>0.2726796902622541</td>\n",
       "      <td>1.542195</td>\n",
       "      <td>0.567284</td>\n",
       "      <td>-0.593776</td>\n",
       "      <td>Compared with RF after feature engineering.</td>\n",
       "      <td>There is no significant difference between the...</td>\n",
       "      <td>Full Prediction Pipeline</td>\n",
       "    </tr>\n",
       "    <tr>\n",
       "      <th>5</th>\n",
       "      <td>Random Forest - After Reducing some Features</td>\n",
       "      <td>0.274527</td>\n",
       "      <td>1.546138</td>\n",
       "      <td>not calculated</td>\n",
       "      <td>not calculated</td>\n",
       "      <td></td>\n",
       "      <td></td>\n",
       "      <td>Full Prediction Pipeline</td>\n",
       "    </tr>\n",
       "    <tr>\n",
       "      <th>6</th>\n",
       "      <td>Random Forest - Prev Year Features</td>\n",
       "      <td>0.244373</td>\n",
       "      <td>1.564183</td>\n",
       "      <td>1.56394e-05</td>\n",
       "      <td>8.35379</td>\n",
       "      <td>Machine learning pipeline B is better than A</td>\n",
       "      <td>Compared with Random Forest #4</td>\n",
       "      <td>Full Prediction Pipeline With Prev Year Featur...</td>\n",
       "    </tr>\n",
       "    <tr>\n",
       "      <th>7</th>\n",
       "      <td>Model Ensembles</td>\n",
       "      <td>0.26098</td>\n",
       "      <td>1.628422</td>\n",
       "      <td>not calculated</td>\n",
       "      <td>not calculated</td>\n",
       "      <td></td>\n",
       "      <td></td>\n",
       "      <td>Random Forest as Classifier for IsHospitalized...</td>\n",
       "    </tr>\n",
       "  </tbody>\n",
       "</table>\n",
       "</div>"
      ],
      "text/plain": [
       "                                      Experiment         Error (Test)  \\\n",
       "0  Simple logic based on finding Average for DIH   0.2436542912261619   \n",
       "1                                  Random Forest   0.2717722908121741   \n",
       "2      Random Forest - After Feature Engineering  0.25479374541837824   \n",
       "3           SVM(SVR) - After Feature Engineering    Divide by 0 error   \n",
       "4      Random Forest - After Feature Engineering   0.2726796902622541   \n",
       "5   Random Forest - After Reducing some Features             0.274527   \n",
       "6             Random Forest - Prev Year Features             0.244373   \n",
       "7                                Model Ensembles              0.26098   \n",
       "\n",
       "   RMSE (Test)         p_value         t_score  \\\n",
       "0     1.541389  not calculated  not calculated   \n",
       "1     1.559120  not calculated  not calculated   \n",
       "2     1.573835        0.413824        0.856728   \n",
       "3     1.651900  not calculated  not calculated   \n",
       "4     1.542195        0.567284       -0.593776   \n",
       "5     1.546138  not calculated  not calculated   \n",
       "6     1.564183     1.56394e-05         8.35379   \n",
       "7     1.628422  not calculated  not calculated   \n",
       "\n",
       "                                   ControlModel  \\\n",
       "0                                                 \n",
       "1                                                 \n",
       "2                   Compared with BaseLine RF.    \n",
       "3                                                 \n",
       "4  Compared with RF after feature engineering.    \n",
       "5                                                 \n",
       "6  Machine learning pipeline B is better than A   \n",
       "7                                                 \n",
       "\n",
       "                               ModelComparisonResult  \\\n",
       "0                                                      \n",
       "1                                                      \n",
       "2  There is no significant difference between the...   \n",
       "3                                                      \n",
       "4  There is no significant difference between the...   \n",
       "5                                                      \n",
       "6                     Compared with Random Forest #4   \n",
       "7                                                      \n",
       "\n",
       "                              Experiment description  \n",
       "0  The mean value of DIH is calculated based on h...  \n",
       "1  Only numeric fields which are directly availab...  \n",
       "2              Feature Engineering, Parameter Tuning  \n",
       "3              Feature Engineering, Parameter Tuning  \n",
       "4                           Full Prediction Pipeline  \n",
       "5                           Full Prediction Pipeline  \n",
       "6  Full Prediction Pipeline With Prev Year Featur...  \n",
       "7  Random Forest as Classifier for IsHospitalized...  "
      ]
     },
     "execution_count": 184,
     "metadata": {},
     "output_type": "execute_result"
    }
   ],
   "source": [
    "results_table[[\"Experiment\", \"Error (Test)\", \"RMSE (Test)\", \"p_value\", \"t_score\", \"ControlModel\", \"ModelComparisonResult\", \"Experiment description\"]]"
   ]
  },
  {
   "cell_type": "markdown",
   "metadata": {},
   "source": [
    "## Conclusion"
   ]
  },
  {
   "cell_type": "markdown",
   "metadata": {},
   "source": [
    "The best pipeline (#6) uses:\n",
    "\n",
    "1. 121 features which include numeric feature expansions (min, max, avg), and categorial feature encodings\n",
    "2. Reducing some unnecessary features\n",
    "3. Random Forest with max_features = 6 and n_estimators = 50 as determined by hyper-parameter tuning\n",
    "4. Previous Year counts as features for current year predictions\n",
    "\n",
    "Error Analysis:\n",
    "\n",
    "1. The best log error is 0.244 and RMSE is 1.564.\n",
    "2. This is improved from error=0.27 and RMSE=1.55 which was base model.\n",
    "3. The total number of accurate predictions are 37,618 out of 48,667 (77.36%)\n",
    "4. The model is not able to predict the cases when days_in_hospital > 7. These cases are cuasing maximum Error and RMSE\n",
    "\n",
    "Next Steps:\n",
    "\n",
    "1. The ProviderID is used in very limited way. We are only finding distinct count per Member and using it as feature. However, Provider specific average of days_in_hospital can be useful feature\n",
    "2. Using advanced techniques like Deep Learning\n",
    "3. The major issue is the inability of model to predict the the cases when days_in_hospital > 7. Need to gather more data for these cases.\n",
    "4. Data cleansing: Some domain expertise might be useful to validate the data and remove incorrect data"
   ]
  }
 ],
 "metadata": {
  "kernelspec": {
   "display_name": "Python 3",
   "language": "python",
   "name": "python3"
  },
  "language_info": {
   "codemirror_mode": {
    "name": "ipython",
    "version": 3
   },
   "file_extension": ".py",
   "mimetype": "text/x-python",
   "name": "python",
   "nbconvert_exporter": "python",
   "pygments_lexer": "ipython3",
   "version": "3.6.0"
  },
  "toc": {
   "nav_menu": {},
   "number_sections": true,
   "sideBar": true,
   "skip_h1_title": false,
   "toc_cell": false,
   "toc_position": {
    "height": "517px",
    "left": "0px",
    "right": "838.097px",
    "top": "107px",
    "width": "325px"
   },
   "toc_section_display": "block",
   "toc_window_display": true
  }
 },
 "nbformat": 4,
 "nbformat_minor": 2
}
